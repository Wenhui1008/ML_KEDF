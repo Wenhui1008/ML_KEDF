{
 "cells": [
  {
   "cell_type": "markdown",
   "metadata": {},
   "source": [
    "# Testing the new version of `pbcpy`\n",
    "\n",
    "write simple tests here, that will be then implemented in the proper unit tests\n"
   ]
  },
  {
   "cell_type": "code",
   "execution_count": 1,
   "metadata": {},
   "outputs": [],
   "source": [
    "import numpy as np\n",
    "import sys\n",
    "if \"../src/\" not in sys.path:\n",
    "    sys.path.insert(0,\"../src/\")\n",
    "from pbcpy.base import DirectCell, ReciprocalCell, Coord\n",
    "from pbcpy.grid import DirectGrid, ReciprocalGrid\n",
    "from pbcpy.field import DirectField, ReciprocalField\n",
    "\n",
    "import matplotlib.pyplot as plt\n",
    "\n",
    "%matplotlib inline\n",
    "%load_ext autoreload\n",
    "%autoreload 2"
   ]
  },
  {
   "cell_type": "code",
   "execution_count": 2,
   "metadata": {},
   "outputs": [
    {
     "name": "stdout",
     "output_type": "stream",
     "text": [
      "WARN\n"
     ]
    }
   ],
   "source": [
    "at1 = np.identity(3)*10\n",
    "cell1 = DirectCell(lattice=at1, origin=[0,0,0], units=\"Angstrom\") # 10A cubic cell"
   ]
  },
  {
   "cell_type": "code",
   "execution_count": 3,
   "metadata": {},
   "outputs": [
    {
     "data": {
      "text/plain": [
       "array([[ 10.,   0.,   0.],\n",
       "       [  0.,  10.,   0.],\n",
       "       [  0.,   0.,  10.]])"
      ]
     },
     "execution_count": 3,
     "metadata": {},
     "output_type": "execute_result"
    }
   ],
   "source": [
    "cell1.lattice"
   ]
  },
  {
   "cell_type": "code",
   "execution_count": 4,
   "metadata": {},
   "outputs": [
    {
     "data": {
      "text/plain": [
       "1000.0"
      ]
     },
     "execution_count": 4,
     "metadata": {},
     "output_type": "execute_result"
    }
   ],
   "source": [
    "cell1.volume"
   ]
  },
  {
   "cell_type": "code",
   "execution_count": 5,
   "metadata": {
    "collapsed": true
   },
   "outputs": [],
   "source": [
    "rcell = cell1.get_reciprocal()"
   ]
  },
  {
   "cell_type": "code",
   "execution_count": 6,
   "metadata": {},
   "outputs": [
    {
     "data": {
      "text/plain": [
       "array([[ 0.62831853,  0.        ,  0.        ],\n",
       "       [ 0.        ,  0.62831853,  0.        ],\n",
       "       [ 0.        ,  0.        ,  0.62831853]])"
      ]
     },
     "execution_count": 6,
     "metadata": {},
     "output_type": "execute_result"
    }
   ],
   "source": [
    "rcell.lattice"
   ]
  },
  {
   "cell_type": "code",
   "execution_count": 7,
   "metadata": {
    "collapsed": true
   },
   "outputs": [],
   "source": [
    "dcell = rcell.get_direct()"
   ]
  },
  {
   "cell_type": "code",
   "execution_count": 8,
   "metadata": {},
   "outputs": [
    {
     "name": "stdout",
     "output_type": "stream",
     "text": [
      "True\n"
     ]
    }
   ],
   "source": [
    "print(dcell==cell1)"
   ]
  },
  {
   "cell_type": "code",
   "execution_count": 9,
   "metadata": {},
   "outputs": [
    {
     "data": {
      "text/plain": [
       "(pbcpy.base.DirectCell, pbcpy.base.DirectCell)"
      ]
     },
     "execution_count": 9,
     "metadata": {},
     "output_type": "execute_result"
    }
   ],
   "source": [
    "type(cell1), type(dcell)"
   ]
  },
  {
   "cell_type": "code",
   "execution_count": 10,
   "metadata": {},
   "outputs": [
    {
     "data": {
      "text/plain": [
       "array([[ 10.,   0.,   0.],\n",
       "       [  0.,  10.,   0.],\n",
       "       [  0.,   0.,  10.]])"
      ]
     },
     "execution_count": 10,
     "metadata": {},
     "output_type": "execute_result"
    }
   ],
   "source": [
    "dcell.lattice"
   ]
  },
  {
   "cell_type": "code",
   "execution_count": 13,
   "metadata": {
    "collapsed": true
   },
   "outputs": [],
   "source": [
    "at1 = np.identity(3)*10\n",
    "cell1 = DirectGrid(lattice=at1, origin=[0,0,0], nr=[8,8,8]) # 10A cubic cell"
   ]
  },
  {
   "cell_type": "code",
   "execution_count": 14,
   "metadata": {},
   "outputs": [
    {
     "data": {
      "text/plain": [
       "Coord([ 0.  ,  0.  ,  1.25])"
      ]
     },
     "execution_count": 14,
     "metadata": {},
     "output_type": "execute_result"
    }
   ],
   "source": [
    "cell1.r[0,0,1,:]"
   ]
  },
  {
   "cell_type": "code",
   "execution_count": 15,
   "metadata": {
    "collapsed": true
   },
   "outputs": [],
   "source": [
    "reciprocal = cell1.get_reciprocal()"
   ]
  },
  {
   "cell_type": "code",
   "execution_count": null,
   "metadata": {
    "collapsed": true
   },
   "outputs": [],
   "source": []
  },
  {
   "cell_type": "code",
   "execution_count": 16,
   "metadata": {
    "collapsed": true
   },
   "outputs": [],
   "source": [
    "g = reciprocal.g"
   ]
  },
  {
   "cell_type": "code",
   "execution_count": 17,
   "metadata": {
    "collapsed": true
   },
   "outputs": [],
   "source": [
    "gg=np.einsum(\"ijkl,ijkl->ijk\",g,g)"
   ]
  },
  {
   "cell_type": "code",
   "execution_count": 18,
   "metadata": {},
   "outputs": [
    {
     "data": {
      "text/plain": [
       "(0.3947841760435743, array([ 0.        ,  0.        ,  0.62831853]), 0.015625)"
      ]
     },
     "execution_count": 18,
     "metadata": {},
     "output_type": "execute_result"
    }
   ],
   "source": [
    "gg[0,0,1], g[0,0,1,:], 0.125**2"
   ]
  },
  {
   "cell_type": "code",
   "execution_count": 19,
   "metadata": {},
   "outputs": [],
   "source": [
    "from pbcpy.formats.qepp import PP"
   ]
  },
  {
   "cell_type": "code",
   "execution_count": 20,
   "metadata": {
    "collapsed": true
   },
   "outputs": [],
   "source": [
    "water_dimer = PP(filepp=\"../tests/density_ks.pp\").read()"
   ]
  },
  {
   "cell_type": "code",
   "execution_count": 21,
   "metadata": {},
   "outputs": [],
   "source": [
    "grad_rho = water_dimer.field.gradient()"
   ]
  },
  {
   "cell_type": "code",
   "execution_count": 22,
   "metadata": {},
   "outputs": [],
   "source": [
    "rho_g = water_dimer.field.fft()"
   ]
  },
  {
   "cell_type": "code",
   "execution_count": 23,
   "metadata": {},
   "outputs": [
    {
     "data": {
      "text/plain": [
       "(125, 125, 125)"
      ]
     },
     "execution_count": 23,
     "metadata": {},
     "output_type": "execute_result"
    }
   ],
   "source": [
    "rho_g.grid.g[...,2].shape"
   ]
  },
  {
   "cell_type": "code",
   "execution_count": 24,
   "metadata": {},
   "outputs": [
    {
     "data": {
      "text/plain": [
       "(125, 125, 125)"
      ]
     },
     "execution_count": 24,
     "metadata": {},
     "output_type": "execute_result"
    }
   ],
   "source": [
    "(rho_g.grid.g[...,1]*rho_g[...,0]).shape"
   ]
  },
  {
   "cell_type": "code",
   "execution_count": 25,
   "metadata": {},
   "outputs": [
    {
     "data": {
      "text/plain": [
       "DirectField([ -4.16778850e-08,  -9.32588251e-08,  -8.59696303e-08])"
      ]
     },
     "execution_count": 25,
     "metadata": {},
     "output_type": "execute_result"
    }
   ],
   "source": [
    "grad_rho[0,0,0,:]"
   ]
  },
  {
   "cell_type": "code",
   "execution_count": 26,
   "metadata": {},
   "outputs": [
    {
     "data": {
      "text/plain": [
       "array([[[  1.78250319e-14,   2.53399601e-15,   4.62197783e-14, ...,\n",
       "           2.10729913e-14,   4.47099395e-14,   8.92172877e-15],\n",
       "        [  1.42984387e-14,   8.82776939e-14,   5.16645325e-15, ...,\n",
       "           3.69414114e-15,   9.75524660e-15,   9.63057029e-15],\n",
       "        [  1.18625258e-14,   3.21438457e-14,   1.34475670e-14, ...,\n",
       "           1.86952108e-14,   9.21861568e-15,   3.96757271e-14],\n",
       "        ..., \n",
       "        [  4.56165947e-14,   1.95547359e-14,   2.00246734e-14, ...,\n",
       "           8.01642767e-16,   1.99268819e-14,   2.74186142e-14],\n",
       "        [  3.49548675e-15,   2.22963521e-14,   5.01523084e-14, ...,\n",
       "           4.52990914e-14,   4.63685765e-14,   1.23110421e-14],\n",
       "        [  1.11340304e-13,   9.28557063e-14,   3.12455730e-15, ...,\n",
       "           9.97732619e-15,   3.90391360e-15,   7.31359141e-16]],\n",
       "\n",
       "       [[  1.60340292e-14,   2.35616195e-16,   9.09649288e-14, ...,\n",
       "           1.02502356e-14,   5.67018733e-15,   1.16813038e-13],\n",
       "        [  4.54643720e-14,   1.39526697e-13,   1.10149369e-14, ...,\n",
       "           3.28199694e-15,   2.01236924e-14,   7.80664936e-15],\n",
       "        [  2.11087654e-14,   4.38492873e-14,   2.07495924e-14, ...,\n",
       "           2.98819897e-14,   2.36172003e-14,   3.94327149e-14],\n",
       "        ..., \n",
       "        [  3.88921049e-14,   1.69722256e-15,   2.38289561e-13, ...,\n",
       "           2.27361842e-14,   1.17947960e-14,   1.01008263e-14],\n",
       "        [  4.01423639e-14,   1.22242230e-14,   1.22773145e-13, ...,\n",
       "           6.72348841e-14,   2.22007367e-15,   1.51915017e-15],\n",
       "        [  4.82181292e-15,   1.30664663e-13,   5.23430127e-14, ...,\n",
       "           6.22610921e-15,   1.98788414e-14,   1.82384557e-13]],\n",
       "\n",
       "       [[  8.74255212e-14,   9.81588665e-14,   1.58290916e-14, ...,\n",
       "           2.53366352e-14,   1.31369182e-13,   1.52306770e-14],\n",
       "        [  1.41632813e-14,   8.56380189e-15,   1.02567270e-14, ...,\n",
       "           1.06915026e-13,   9.54188582e-15,   3.07937574e-14],\n",
       "        [  2.19259322e-14,   3.46481556e-14,   5.67526387e-15, ...,\n",
       "           9.33030124e-15,   3.43087073e-14,   3.19697306e-14],\n",
       "        ..., \n",
       "        [  4.03156945e-15,   6.19620164e-15,   1.88434373e-14, ...,\n",
       "           1.17765154e-13,   4.83180990e-15,   2.19049769e-14],\n",
       "        [  2.14154753e-14,   7.67093885e-15,   2.27361201e-14, ...,\n",
       "           1.88949565e-15,   2.18244686e-14,   3.36370513e-14],\n",
       "        [  4.63727362e-14,   4.60961770e-15,   2.12154850e-14, ...,\n",
       "           2.99063774e-15,   1.21256554e-15,   2.51664271e-14]],\n",
       "\n",
       "       ..., \n",
       "       [[  5.78872927e-16,   3.43845578e-15,   2.68285056e-15, ...,\n",
       "           1.40209078e-14,   1.29972681e-15,   2.08655547e-14],\n",
       "        [  2.58281687e-14,   5.08446083e-16,   1.19760689e-14, ...,\n",
       "           1.88519233e-15,   2.03469874e-14,   1.71440656e-14],\n",
       "        [  2.13339428e-14,   2.84722248e-15,   1.26531415e-14, ...,\n",
       "           4.25197252e-14,   1.59308581e-15,   4.70336550e-14],\n",
       "        ..., \n",
       "        [  6.17475689e-14,   4.14079037e-14,   3.50473741e-15, ...,\n",
       "           5.36197409e-14,   2.81917578e-13,   1.40706820e-16],\n",
       "        [  9.30034342e-15,   1.69284984e-16,   1.30492564e-14, ...,\n",
       "           1.44129530e-14,   2.28030976e-14,   3.99827023e-14],\n",
       "        [  2.96767122e-14,   1.36767199e-14,   3.40134984e-14, ...,\n",
       "           7.85707646e-14,   1.16795363e-13,   1.81292794e-14]],\n",
       "\n",
       "       [[  3.64747315e-15,   4.77860226e-14,   4.14562628e-14, ...,\n",
       "           3.79718258e-15,   1.16254203e-14,   2.66577069e-14],\n",
       "        [  3.91716632e-15,   6.14662341e-14,   2.78786531e-16, ...,\n",
       "           1.06536455e-14,   1.94584391e-14,   1.03780758e-14],\n",
       "        [  1.50192371e-14,   5.67383410e-16,   2.53481791e-15, ...,\n",
       "           4.39829496e-15,   2.76261903e-15,   5.85800036e-14],\n",
       "        ..., \n",
       "        [  2.07069757e-15,   4.57766459e-14,   7.82764680e-15, ...,\n",
       "           1.76538431e-14,   1.00076105e-13,   3.05989454e-14],\n",
       "        [  2.75126764e-14,   2.89655936e-15,   1.07603951e-14, ...,\n",
       "           3.31855628e-14,   2.32508332e-14,   4.25529335e-14],\n",
       "        [  3.53146186e-14,   1.06297967e-14,   4.62875519e-15, ...,\n",
       "           2.20859349e-14,   1.33337374e-14,   1.10523338e-14]],\n",
       "\n",
       "       [[  2.27579857e-14,   8.52324307e-15,   2.97145201e-14, ...,\n",
       "           7.73490508e-15,   8.42573531e-15,   4.20954907e-15],\n",
       "        [  7.76630481e-15,   2.36546830e-14,   1.50764324e-14, ...,\n",
       "           4.86027467e-15,   1.97813508e-14,   2.11608272e-14],\n",
       "        [  2.36362213e-14,   1.80312640e-14,   6.26343073e-15, ...,\n",
       "           2.02092561e-14,   2.21886808e-14,   6.85820139e-19],\n",
       "        ..., \n",
       "        [  6.57025608e-15,   6.51047680e-14,   1.01352900e-13, ...,\n",
       "           3.99816446e-15,   2.88590623e-14,   3.60029443e-15],\n",
       "        [  7.38189311e-14,   5.59869796e-14,   5.08681876e-15, ...,\n",
       "           2.71546330e-14,   5.41913548e-14,   6.38641889e-14],\n",
       "        [  1.83739438e-14,   8.57547817e-14,   1.40294227e-13, ...,\n",
       "           8.61783026e-15,   1.16534956e-14,   9.12954377e-14]]])"
      ]
     },
     "execution_count": 26,
     "metadata": {},
     "output_type": "execute_result"
    }
   ],
   "source": [
    "np.einsum(\"ijkl,ijkl->ijk\", grad_rho, grad_rho)"
   ]
  },
  {
   "cell_type": "code",
   "execution_count": 5,
   "metadata": {},
   "outputs": [
    {
     "data": {
      "text/plain": [
       "DirectField([[[  7.92113659e-17 +4.29925634e-28j,\n",
       "           1.04802086e-16 +5.74256797e-28j,\n",
       "           1.57152380e-17 +1.67707989e-27j, ...,\n",
       "           5.44635173e-18 +1.64776650e-28j,\n",
       "           4.65413875e-17 +1.17486715e-27j,\n",
       "           4.95221381e-17 +1.23125247e-27j],\n",
       "        [  8.45648774e-17 -8.85691174e-28j,\n",
       "           2.46828133e-17 -1.26708842e-27j,\n",
       "           3.28767194e-17 +5.37645124e-28j, ...,\n",
       "           1.93323826e-18 -2.32899443e-28j,\n",
       "           3.64930530e-17 -1.22271578e-27j,\n",
       "           1.25823357e-17 +2.13431067e-27j],\n",
       "        [  1.93515827e-17 -1.68029924e-27j,\n",
       "           2.84349251e-17 -2.24332751e-27j,\n",
       "           4.55533935e-17 -5.20513891e-28j, ...,\n",
       "           3.71234651e-17 +1.69486923e-27j,\n",
       "           3.52009487e-17 +1.47691283e-27j,\n",
       "           6.44189830e-17 +1.19066060e-28j],\n",
       "        ..., \n",
       "        [  4.79447347e-17 +9.28211541e-27j,\n",
       "           5.15391184e-17 +7.01074454e-27j,\n",
       "           1.35525184e-16 -3.79754103e-27j, ...,\n",
       "           7.63571832e-17 -4.42112541e-27j,\n",
       "           1.96299650e-17 +5.52010576e-28j,\n",
       "           9.08627869e-18 -4.14924545e-27j],\n",
       "        [  2.20525569e-17 +2.23586614e-27j,\n",
       "           4.15366729e-17 +3.41699423e-28j,\n",
       "           2.82960571e-17 -5.04448115e-28j, ...,\n",
       "           3.49801739e-17 +3.76399459e-28j,\n",
       "           4.69619681e-17 -9.15686494e-28j,\n",
       "           3.04972494e-17 +1.39553566e-27j],\n",
       "        [  3.92744551e-17 +7.72862872e-28j,\n",
       "           9.82128629e-17 +1.69842422e-27j,\n",
       "           4.77246918e-17 -2.11713214e-27j, ...,\n",
       "           3.88502846e-17 +3.93086794e-28j,\n",
       "           4.10959403e-17 -4.90498421e-28j,\n",
       "           1.00837487e-16 -1.25609188e-27j]],\n",
       "\n",
       "       [[  1.10912167e-16 +1.01144504e-26j,\n",
       "           5.13462003e-17 +3.12880297e-27j,\n",
       "           5.12044394e-17 -1.60851796e-27j, ...,\n",
       "           1.01933401e-17 -2.50303455e-27j,\n",
       "           1.12313382e-16 -1.02473829e-26j,\n",
       "           5.66100324e-17 -2.47044003e-27j],\n",
       "        [  5.01467460e-17 +4.40630842e-27j,\n",
       "           2.57674085e-17 +5.94193802e-27j,\n",
       "           1.04826325e-17 +3.37407184e-28j, ...,\n",
       "           3.88855149e-17 +6.00157312e-27j,\n",
       "           8.51384054e-18 -4.56913920e-27j,\n",
       "           5.59936590e-17 -4.75827113e-27j],\n",
       "        [  5.93906326e-17 -4.13130145e-27j,\n",
       "           8.01315929e-17 -5.47630926e-27j,\n",
       "           8.73976424e-18 +1.57597208e-27j, ...,\n",
       "           1.45108077e-17 -6.45389343e-27j,\n",
       "           5.20382972e-17 +1.14842221e-26j,\n",
       "           5.23792911e-17 +1.03024961e-26j],\n",
       "        ..., \n",
       "        [  7.05081304e-17 +1.02232499e-27j,\n",
       "           8.76486638e-17 +3.89695525e-27j,\n",
       "           4.51338786e-17 -2.40903361e-28j, ...,\n",
       "           2.90266638e-17 -1.28552749e-27j,\n",
       "           4.99353525e-17 +2.62913573e-27j,\n",
       "           9.80679765e-18 -1.66252124e-28j],\n",
       "        [  1.28118295e-16 -3.61019287e-27j,\n",
       "           6.13552581e-17 -1.51474999e-27j,\n",
       "           1.76830544e-16 +2.02471653e-27j, ...,\n",
       "           1.17483605e-17 +1.92520198e-27j,\n",
       "           4.09270034e-17 +2.75962019e-27j,\n",
       "           4.42155413e-17 -1.70360352e-27j],\n",
       "        [  9.28524601e-17 -3.90230955e-27j,\n",
       "           3.88912809e-17 -3.20194809e-27j,\n",
       "           1.59784602e-16 +2.64730877e-27j, ...,\n",
       "           2.65159683e-18 +4.27653937e-28j,\n",
       "           3.68479717e-17 +1.13047192e-27j,\n",
       "           1.23138968e-17 -3.22723437e-27j]],\n",
       "\n",
       "       [[  1.96048378e-17 -1.14480518e-27j,\n",
       "           5.27927414e-17 -2.32404285e-27j,\n",
       "           4.49256658e-17 +3.04163349e-27j, ...,\n",
       "           3.72524799e-17 +7.36361846e-28j,\n",
       "           2.56985171e-17 -2.05957757e-27j,\n",
       "           1.08128114e-16 +1.12006033e-27j],\n",
       "        [  7.60480708e-17 +1.77118328e-27j,\n",
       "           8.09406797e-17 -4.76324208e-28j,\n",
       "           5.45641210e-18 -1.03916490e-28j, ...,\n",
       "           1.42241774e-17 +4.27080745e-28j,\n",
       "           7.38386871e-17 +1.44068679e-27j,\n",
       "           1.25460512e-17 +5.21394612e-28j],\n",
       "        [  1.44347277e-17 +8.28288297e-28j,\n",
       "           4.49287952e-17 +1.98640324e-27j,\n",
       "           3.98398230e-17 +8.87375809e-28j, ...,\n",
       "           1.04159413e-16 -3.05611423e-27j,\n",
       "           2.05298137e-17 +3.88038471e-28j,\n",
       "           5.70534443e-17 +9.42994820e-28j],\n",
       "        ..., \n",
       "        [  1.57828387e-17 -3.24381080e-27j,\n",
       "           1.82419167e-17 -3.93552165e-27j,\n",
       "           5.44732535e-17 +4.30697870e-27j, ...,\n",
       "           5.11987416e-17 -3.45863073e-27j,\n",
       "           3.19945328e-17 +1.06092251e-27j,\n",
       "           7.88016663e-17 +9.56877371e-27j],\n",
       "        [  8.85469927e-17 +3.88397731e-27j,\n",
       "           3.40232452e-17 +3.41170320e-27j,\n",
       "           1.95932093e-16 -7.26033245e-27j, ...,\n",
       "           8.07791802e-17 -1.19288829e-27j,\n",
       "           1.39751370e-17 +2.21500427e-28j,\n",
       "           2.24467716e-17 -1.77643415e-27j],\n",
       "        [  9.54512012e-17 +2.62367240e-27j,\n",
       "           3.13588093e-17 +2.16572717e-27j,\n",
       "           6.56591676e-17 -2.75953243e-27j, ...,\n",
       "           5.23941288e-17 -3.02367713e-27j,\n",
       "           7.24227300e-17 -3.20020379e-27j,\n",
       "           6.11051877e-17 -2.86631443e-28j]],\n",
       "\n",
       "       ..., \n",
       "       [[  1.94456781e-17 +6.93176748e-28j,\n",
       "           1.65181292e-17 -8.32808006e-28j,\n",
       "           2.79202084e-17 +2.81933436e-28j, ...,\n",
       "           1.33193345e-17 -1.43403560e-27j,\n",
       "           6.60466606e-17 +1.65582876e-27j,\n",
       "           2.23264093e-18 -1.89013910e-28j],\n",
       "        [  2.82807973e-17 -6.47302879e-28j,\n",
       "           5.11272729e-17 +3.78912130e-27j,\n",
       "           8.31411407e-18 +5.07426309e-28j, ...,\n",
       "           3.53604931e-17 -2.46267908e-27j,\n",
       "           7.85884629e-18 +8.23671710e-29j,\n",
       "           9.77496104e-17 -4.09942187e-27j],\n",
       "        [  3.87819367e-17 -1.42742797e-27j,\n",
       "           4.22622437e-17 +1.58371502e-27j,\n",
       "           1.49955906e-17 -2.03153484e-27j, ...,\n",
       "           2.35200549e-17 -2.83004536e-27j,\n",
       "           1.02531611e-17 +2.21312689e-28j,\n",
       "           4.01898217e-17 -2.21834749e-27j],\n",
       "        ..., \n",
       "        [  6.70675042e-17 +2.67069158e-27j,\n",
       "           2.81543254e-17 -2.92181511e-27j,\n",
       "           5.33138238e-17 -2.77154080e-27j, ...,\n",
       "           9.80135288e-17 +2.07041356e-27j,\n",
       "           1.29178954e-16 +4.28009870e-27j,\n",
       "           1.56832217e-16 -1.41516276e-27j],\n",
       "        [  2.54200044e-17 +2.62576292e-27j,\n",
       "           6.00424525e-17 +4.17555635e-27j,\n",
       "           1.46654829e-17 +5.31456481e-28j, ...,\n",
       "           1.63265655e-16 +3.10262428e-27j,\n",
       "           1.05581747e-16 -4.23559978e-27j,\n",
       "           4.17318685e-17 +2.81944621e-27j],\n",
       "        [  1.21449622e-17 -8.56629099e-28j,\n",
       "           1.53117794e-17 +1.45028256e-27j,\n",
       "           5.32723371e-17 +1.88628251e-27j, ...,\n",
       "           8.99710215e-17 -1.25161373e-27j,\n",
       "           1.42544282e-17 -9.93602180e-28j,\n",
       "           5.57011209e-17 +1.85238338e-28j]],\n",
       "\n",
       "       [[  5.49732324e-17 -4.07407026e-27j,\n",
       "           2.23780081e-17 +1.69108277e-27j,\n",
       "           5.69665234e-17 +1.14443390e-26j, ...,\n",
       "           5.79332622e-18 +1.92837196e-27j,\n",
       "           1.82028566e-17 +1.77317109e-27j,\n",
       "           5.01993837e-18 -1.32865259e-28j],\n",
       "        [  9.48499539e-17 -7.29854224e-27j,\n",
       "           3.12816933e-17 +2.49534149e-27j,\n",
       "           6.32778321e-18 +8.14000221e-28j, ...,\n",
       "           2.12511290e-17 +4.16500473e-27j,\n",
       "           4.13929861e-17 +5.81552527e-27j,\n",
       "           8.48554916e-17 -8.52446408e-27j],\n",
       "        [  3.06126292e-17 +5.78501684e-27j,\n",
       "           5.84751552e-17 +5.34462404e-27j,\n",
       "           5.51127934e-17 -1.40246652e-26j, ...,\n",
       "           3.68448850e-17 -2.14491021e-28j,\n",
       "           1.40371044e-17 -2.81575333e-27j,\n",
       "           1.31324883e-16 -6.35392722e-27j],\n",
       "        ..., \n",
       "        [  2.56979919e-17 -2.26328181e-27j,\n",
       "           1.55380852e-17 +2.12759162e-27j,\n",
       "           7.05463549e-17 -2.10190108e-26j, ...,\n",
       "           1.72606032e-16 +2.88954780e-27j,\n",
       "           9.36761381e-17 -5.05011227e-27j,\n",
       "           1.84254707e-17 -9.63821421e-29j],\n",
       "        [  3.45819052e-17 +7.61433336e-27j,\n",
       "           7.20641906e-18 +2.73201551e-27j,\n",
       "           3.39779718e-17 -7.17246191e-27j, ...,\n",
       "           5.80375592e-17 -2.12179364e-27j,\n",
       "           1.49522686e-16 -5.45634950e-27j,\n",
       "           1.14782261e-17 -2.14904958e-27j],\n",
       "        [  4.13094541e-17 +5.11732209e-27j,\n",
       "           5.34738821e-17 -7.93917080e-28j,\n",
       "           5.75322086e-17 +1.77455759e-26j, ...,\n",
       "           3.45315544e-18 -1.02476263e-27j,\n",
       "           9.93520399e-17 -7.95899039e-27j,\n",
       "           1.01637974e-17 +7.91246821e-28j]],\n",
       "\n",
       "       [[  2.11638444e-17 +7.15430733e-28j,\n",
       "           5.54083554e-17 -3.12540714e-27j,\n",
       "           4.76359060e-17 -3.49055586e-27j, ...,\n",
       "           5.25950952e-17 -2.26330475e-28j,\n",
       "           2.80664100e-17 +1.83255659e-28j,\n",
       "           5.21582746e-17 +3.08050976e-27j],\n",
       "        [  4.09653430e-17 +2.81375442e-27j,\n",
       "           4.11193666e-17 +1.52582149e-27j,\n",
       "           8.81436668e-18 +2.52816101e-28j, ...,\n",
       "           4.47568741e-17 -1.40407009e-27j,\n",
       "           2.58540121e-17 -6.38778082e-28j,\n",
       "           3.87349589e-17 -2.06471246e-27j],\n",
       "        [  2.24131374e-17 -4.85367774e-28j,\n",
       "           2.40153359e-17 -4.45984764e-28j,\n",
       "           1.25031696e-17 +9.32616753e-28j, ...,\n",
       "           2.18341536e-17 -2.31552036e-27j,\n",
       "           2.47618081e-17 +1.16401594e-27j,\n",
       "           5.26427021e-18 +6.46917205e-28j],\n",
       "        ..., \n",
       "        [  6.40002420e-17 -4.39074819e-28j,\n",
       "           3.43325433e-17 -1.27202844e-27j,\n",
       "           7.26958074e-17 -1.70137492e-27j, ...,\n",
       "           4.99173407e-17 +6.56842195e-28j,\n",
       "           1.30581712e-16 -1.87084508e-26j,\n",
       "           6.18737049e-18 +6.50343533e-28j],\n",
       "        [  5.59200428e-18 +2.05444132e-28j,\n",
       "           3.04334252e-17 +2.46842151e-27j,\n",
       "           1.42251599e-16 +1.82494163e-28j, ...,\n",
       "           5.63915723e-17 -1.07282732e-27j,\n",
       "           1.94499070e-17 +1.97750925e-27j,\n",
       "           7.67685179e-17 +7.49968381e-27j],\n",
       "        [  1.20552505e-16 -4.30917556e-27j,\n",
       "           8.11602963e-17 -1.91163253e-27j,\n",
       "           2.32462507e-17 +9.10877195e-28j, ...,\n",
       "           2.82935988e-17 +3.48055093e-27j,\n",
       "           9.55773061e-17 +5.04144793e-27j,\n",
       "           4.21040586e-17 +4.77725635e-27j]]])"
      ]
     },
     "execution_count": 5,
     "metadata": {},
     "output_type": "execute_result"
    }
   ],
   "source": [
    "water_dimer.field.sigma()"
   ]
  },
  {
   "cell_type": "code",
   "execution_count": 29,
   "metadata": {},
   "outputs": [],
   "source": [
    "n = 180\n",
    "nr = n,n,n\n",
    "m = 1\n",
    "griddata_3d = np.zeros(nr,dtype=float)\n",
    "for i in range(n):\n",
    "    theta = m*2*np.pi*i/n\n",
    "    val = np.sin(theta)\n",
    "    griddata_3d[i,:,:] = val\n",
    "grid = DirectGrid(lattice=np.identity(3)*2*np.pi,nr=(n,n,n),)\n",
    "rho = DirectField(grid=grid, griddata_3d=griddata_3d)\n",
    "gradrho = rho.gradient()\n",
    "sigmarho = rho.sigma()"
   ]
  },
  {
   "cell_type": "code",
   "execution_count": 30,
   "metadata": {},
   "outputs": [
    {
     "data": {
      "text/plain": [
       "[<matplotlib.lines.Line2D at 0x10dc78f98>]"
      ]
     },
     "execution_count": 30,
     "metadata": {},
     "output_type": "execute_result"
    },
    {
     "data": {
      "image/png": "[encoded data removed]",
      "text/plain": [
       "<matplotlib.figure.Figure at 0x105b397b8>"
      ]
     },
     "metadata": {},
     "output_type": "display_data"
    }
   ],
   "source": [
    "gradrho[:,0,0,:]\n",
    "plt.plot(rho[:,0,0,0])\n",
    "plt.plot((n/m)*gradrho[:,0,0,0])\n",
    "plt.plot((n/m)*gradrho[:,0,0,1])\n",
    "plt.plot((n/m)*gradrho[:,0,0,2])\n",
    "plt.plot((n/m)**2*sigmarho[:,0,0])"
   ]
  },
  {
   "cell_type": "code",
   "execution_count": 42,
   "metadata": {},
   "outputs": [
    {
     "data": {
      "text/plain": [
       "(100, 100, 100)"
      ]
     },
     "execution_count": 42,
     "metadata": {},
     "output_type": "execute_result"
    }
   ],
   "source": [
    "sigma = np.einsum(\"ijkl,ijkl->ijk\", gradrho.real, gradrho.real)\n",
    "sigma.shape"
   ]
  },
  {
   "cell_type": "code",
   "execution_count": 47,
   "metadata": {},
   "outputs": [
    {
     "data": {
      "text/plain": [
       "[<matplotlib.lines.Line2D at 0x7f3851d6f860>]"
      ]
     },
     "execution_count": 47,
     "metadata": {},
     "output_type": "execute_result"
    },
    {
     "data": {
      "image/png": "[encoded data removed]",
      "text/plain": [
       "<matplotlib.figure.Figure at 0x7f3851d99470>"
      ]
     },
     "metadata": {},
     "output_type": "display_data"
    }
   ],
   "source": [
    "plt.plot(2500*sigma[:,0,0])"
   ]
  },
  {
   "cell_type": "code",
   "execution_count": 37,
   "metadata": {},
   "outputs": [
    {
     "data": {
      "text/plain": [
       "array([[[ 1.,  1.,  1.],\n",
       "        [ 1.,  1.,  1.],\n",
       "        [ 1.,  1.,  1.],\n",
       "        [ 1.,  1.,  1.],\n",
       "        [ 1.,  1.,  1.]],\n",
       "\n",
       "       [[ 1.,  1.,  1.],\n",
       "        [ 1.,  1.,  1.],\n",
       "        [ 1.,  1.,  1.],\n",
       "        [ 1.,  1.,  1.],\n",
       "        [ 1.,  1.,  1.]],\n",
       "\n",
       "       [[ 1.,  1.,  1.],\n",
       "        [ 1.,  1.,  1.],\n",
       "        [ 1.,  1.,  1.],\n",
       "        [ 1.,  1.,  1.],\n",
       "        [ 1.,  1.,  1.]],\n",
       "\n",
       "       [[ 1.,  1.,  1.],\n",
       "        [ 1.,  1.,  1.],\n",
       "        [ 1.,  1.,  1.],\n",
       "        [ 1.,  1.,  1.],\n",
       "        [ 1.,  1.,  1.]],\n",
       "\n",
       "       [[ 1.,  1.,  1.],\n",
       "        [ 1.,  1.,  1.],\n",
       "        [ 1.,  1.,  1.],\n",
       "        [ 1.,  1.,  1.],\n",
       "        [ 1.,  1.,  1.]],\n",
       "\n",
       "       [[ 1.,  1.,  1.],\n",
       "        [ 1.,  1.,  1.],\n",
       "        [ 1.,  1.,  1.],\n",
       "        [ 1.,  1.,  1.],\n",
       "        [ 1.,  1.,  1.]],\n",
       "\n",
       "       [[ 1.,  1.,  1.],\n",
       "        [ 1.,  1.,  1.],\n",
       "        [ 1.,  1.,  1.],\n",
       "        [ 1.,  1.,  1.],\n",
       "        [ 1.,  1.,  1.]],\n",
       "\n",
       "       [[ 1.,  1.,  1.],\n",
       "        [ 1.,  1.,  1.],\n",
       "        [ 1.,  1.,  1.],\n",
       "        [ 1.,  1.,  1.],\n",
       "        [ 1.,  1.,  1.]],\n",
       "\n",
       "       [[ 1.,  1.,  1.],\n",
       "        [ 1.,  1.,  1.],\n",
       "        [ 1.,  1.,  1.],\n",
       "        [ 1.,  1.,  1.],\n",
       "        [ 1.,  1.,  1.]],\n",
       "\n",
       "       [[ 1.,  1.,  1.],\n",
       "        [ 1.,  1.,  1.],\n",
       "        [ 1.,  1.,  1.],\n",
       "        [ 1.,  1.,  1.],\n",
       "        [ 1.,  1.,  1.]]])"
      ]
     },
     "execution_count": 37,
     "metadata": {},
     "output_type": "execute_result"
    }
   ],
   "source": [
    "A = np.ones((10,5,3))\n",
    "A"
   ]
  },
  {
   "cell_type": "code",
   "execution_count": 38,
   "metadata": {},
   "outputs": [
    {
     "data": {
      "text/plain": [
       "array([[ 6.,  6.,  6.,  6.,  6.],\n",
       "       [ 6.,  6.,  6.,  6.,  6.],\n",
       "       [ 6.,  6.,  6.,  6.,  6.],\n",
       "       [ 6.,  6.,  6.,  6.,  6.],\n",
       "       [ 6.,  6.,  6.,  6.,  6.],\n",
       "       [ 6.,  6.,  6.,  6.,  6.],\n",
       "       [ 6.,  6.,  6.,  6.,  6.],\n",
       "       [ 6.,  6.,  6.,  6.,  6.],\n",
       "       [ 6.,  6.,  6.,  6.,  6.],\n",
       "       [ 6.,  6.,  6.,  6.,  6.]])"
      ]
     },
     "execution_count": 38,
     "metadata": {},
     "output_type": "execute_result"
    }
   ],
   "source": [
    "np.einsum(\"ijk,ijk->ij\", A,2*A)"
   ]
  }
 ],
 "metadata": {
  "kernelspec": {
   "display_name": "Python 3",
   "language": "python",
   "name": "python3"
  },
  "language_info": {
   "codemirror_mode": {
    "name": "ipython",
    "version": 3
   },
   "file_extension": ".py",
   "mimetype": "text/x-python",
   "name": "python",
   "nbconvert_exporter": "python",
   "pygments_lexer": "ipython3",
   "version": "3.6.1"
  },
  "toc": {
   "nav_menu": {},
   "number_sections": true,
   "sideBar": true,
   "skip_h1_title": false,
   "toc_cell": false,
   "toc_position": {},
   "toc_section_display": "block",
   "toc_window_display": false
  },
  "varInspector": {
   "cols": {
    "lenName": 16,
    "lenType": 16,
    "lenVar": 40
   },
   "kernels_config": {
    "python": {
     "delete_cmd_postfix": "",
     "delete_cmd_prefix": "del ",
     "library": "var_list.py",
     "varRefreshCmd": "print(var_dic_list())"
    },
    "r": {
     "delete_cmd_postfix": ") ",
     "delete_cmd_prefix": "rm(",
     "library": "var_list.r",
     "varRefreshCmd": "cat(var_dic_list()) "
    }
   },
   "types_to_exclude": [
    "module",
    "function",
    "builtin_function_or_method",
    "instance",
    "_Feature"
   ],
   "window_display": false
  }
 },
 "nbformat": 4,
 "nbformat_minor": 2
}
