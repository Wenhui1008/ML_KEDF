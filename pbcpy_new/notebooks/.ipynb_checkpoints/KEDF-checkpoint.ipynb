{
 "cells": [
  {
   "cell_type": "code",
   "execution_count": 3,
   "metadata": {
    "collapsed": true
   },
   "outputs": [],
   "source": [
    "import numpy as np\n",
    "import scipy.special as sp\n",
    "import matplotlib.pyplot as plt\n",
    "import pandas as pd"
   ]
  },
  {
   "cell_type": "code",
   "execution_count": 4,
   "metadata": {
    "collapsed": true
   },
   "outputs": [],
   "source": [
    "import sys\n",
    "if \"../src/\" not in sys.path:\n",
    "    sys.path.insert(0,\"../src/\")\n",
    "from pbcpy.grid import DirectGrid, ReciprocalGrid\n",
    "from pbcpy.field import DirectField, ReciprocalField\n",
    "from pbcpy.functionals import *\n",
    "\n",
    "%matplotlib inline\n",
    "%load_ext autoreload\n",
    "%autoreload 2\n",
    "#"
   ]
  },
  {
   "cell_type": "code",
   "execution_count": 5,
   "metadata": {
    "collapsed": true
   },
   "outputs": [],
   "source": [
    "from pbcpy.local_functionals_utils import ThomasFermiEnergy, ThomasFermiPotential\n",
    "from pbcpy.local_functionals_utils import vonWeizsackerEnergy, vonWeizsackerPotential"
   ]
  },
  {
   "cell_type": "code",
   "execution_count": 6,
   "metadata": {
    "collapsed": true
   },
   "outputs": [],
   "source": [
    "from pbcpy.formats.qepp import PP\n",
    "from pbcpy.formats.xsf import XSF"
   ]
  },
  {
   "cell_type": "code",
   "execution_count": 7,
   "metadata": {
    "collapsed": true
   },
   "outputs": [],
   "source": [
    "from pbcpy.semilocal_xc import PBE, LDA, XC, KEDF"
   ]
  },
  {
   "cell_type": "code",
   "execution_count": 8,
   "metadata": {
    "collapsed": true
   },
   "outputs": [],
   "source": [
    "from pbcpy.local_pseudopotential import NuclearElectron"
   ]
  },
  {
   "cell_type": "code",
   "execution_count": 9,
   "metadata": {
    "collapsed": true
   },
   "outputs": [],
   "source": [
    "from pbcpy.hartree import HartreeFunctional"
   ]
  },
  {
   "cell_type": "markdown",
   "metadata": {},
   "source": [
    "# Non-scf electron density A=2.84"
   ]
  },
  {
   "cell_type": "code",
   "execution_count": 33,
   "metadata": {
    "collapsed": true
   },
   "outputs": [],
   "source": [
    "WT= PP('./PP/WT_KS/2.84/pot_ke.pp').read()"
   ]
  },
  {
   "cell_type": "code",
   "execution_count": 34,
   "metadata": {
    "collapsed": true
   },
   "outputs": [],
   "source": [
    "WT=WT.field"
   ]
  },
  {
   "cell_type": "code",
   "execution_count": 35,
   "metadata": {
    "collapsed": true
   },
   "outputs": [],
   "source": [
    "KS_H =PP('./PP/KS/2.84/H.pp').read()\n",
    "KS_XC=PP('./PP/KS/2.84/XC.pp').read()\n",
    "KS_ion=PP('./PP/KS/2.84/Vloc.pp').read()"
   ]
  },
  {
   "cell_type": "code",
   "execution_count": 36,
   "metadata": {
    "collapsed": true
   },
   "outputs": [],
   "source": [
    "#WGC_r_e =PP('./PP/WGC_KS/pot_eff.pp').read()\n",
    "WGC =PP('./PP/WGC_KS/pot_ke.pp').read()\n",
    "WGC=WGC.field"
   ]
  },
  {
   "cell_type": "code",
   "execution_count": 37,
   "metadata": {
    "collapsed": true
   },
   "outputs": [],
   "source": [
    "#LDA_r_e = PP('./PP/WTLDA_KS/pot_eff.pp').read()\n",
    "LDA  = PP('./PP/WTLDA_KS/2.84/pot_ke.pp').read()\n",
    "LDA=LDA.field"
   ]
  },
  {
   "cell_type": "code",
   "execution_count": 38,
   "metadata": {
    "collapsed": true
   },
   "outputs": [],
   "source": [
    "LDA0 =PP('./PP/WTLDA0_KS/pot_ke.pp').read()\n",
    "LDA0=LDA0.field"
   ]
  },
  {
   "cell_type": "code",
   "execution_count": 39,
   "metadata": {
    "collapsed": true
   },
   "outputs": [],
   "source": [
    "rho=PP('PP/KS/2.84/rho.pp').read()\n",
    "rho=rho.field"
   ]
  },
  {
   "cell_type": "code",
   "execution_count": 40,
   "metadata": {
    "collapsed": true
   },
   "outputs": [],
   "source": [
    "MGP =PP('PP/MGP_KS/2.84/pot_ke.pp').read()\n",
    "MGP=MGP.field"
   ]
  },
  {
   "cell_type": "code",
   "execution_count": 41,
   "metadata": {
    "collapsed": true
   },
   "outputs": [],
   "source": [
    "KGAP4 =PP('PP/KGAP_KS/pot_ke.pp').read()\n",
    "KGAP1=PP('PP/KGAP_KS/2.84/1/pot_ke.pp').read()\n",
    "KGAP10=PP('PP/KGAP_KS/2.84/10/pot_ke.pp').read()\n",
    "KGAP4=KGAP4.field\n",
    "KGAP1=KGAP1.field\n",
    "KGAP10=KGAP10.field"
   ]
  },
  {
   "cell_type": "code",
   "execution_count": 42,
   "metadata": {
    "collapsed": true
   },
   "outputs": [],
   "source": [
    "KS=-(KS_H.field + KS_XC.field + KS_ion.field)/2.0 + 5.3838/27.211396132"
   ]
  },
  {
   "cell_type": "code",
   "execution_count": 43,
   "metadata": {
    "collapsed": true
   },
   "outputs": [],
   "source": [
    "k=[]\n",
    "w=[]\n",
    "c=[]\n",
    "l=[]\n",
    "l0=[]\n",
    "kg1=[]\n",
    "kg4=[]\n",
    "kg10=[]\n",
    "m=[]\n",
    "for i in range(0,36):\n",
    "    k.append(KS[i,i,i,0])\n",
    "    w.append(WT[i,i,i,0])\n",
    "    c.append(WGC[i,i,i,0])\n",
    "    l.append(LDA[i,i,i,0])\n",
    "    kg1.append(KGAP1[i,i,i,0])\n",
    "    kg4.append(KGAP4[i,i,i,0])\n",
    "    kg10.append(KGAP10[i,i,i,0])\n",
    "    l0.append(LDA0[i,i,i,0])\n",
    "    m.append(MGP[i,i,i,0])"
   ]
  },
  {
   "cell_type": "code",
   "execution_count": 44,
   "metadata": {},
   "outputs": [
    {
     "name": "stdout",
     "output_type": "stream",
     "text": [
      "1.14107888221 0.996397346169\n",
      "0.855241434669 0.99782251556\n",
      "1.42261492331 0.995886175934\n",
      "0.764935111877 0.993838182338\n",
      "1.37464814008 0.994447895482\n"
     ]
    }
   ],
   "source": [
    "Ne = rho.integral()\n",
    "#print(Ne)\n",
    "#Ne=1\n",
    "for a in [WT*rho/Ne,WGC*rho/Ne,LDA*rho/Ne,TF*rho/Ne,KGAP4*rho/Ne]:\n",
    "    difference(a,KS*rho/Ne)"
   ]
  },
  {
   "cell_type": "code",
   "execution_count": 45,
   "metadata": {},
   "outputs": [
    {
     "data": {
      "text/plain": [
       "<matplotlib.legend.Legend at 0x110529f28>"
      ]
     },
     "execution_count": 45,
     "metadata": {},
     "output_type": "execute_result"
    },
    {
     "data": {
      "image/png": "[encoded data removed]",
      "text/plain": [
       "<matplotlib.figure.Figure at 0x1104a22e8>"
      ]
     },
     "metadata": {},
     "output_type": "display_data"
    }
   ],
   "source": [
    "plt.plot(k,label='KS')\n",
    "plt.plot(w,label='WT')\n",
    "plt.plot(c,label='WGC')\n",
    "plt.plot(l,label='LDA')\n",
    "#plt.plot(kg1,label='KGAP1')\n",
    "plt.plot(kg4,label='KGPA4')\n",
    "plt.plot(l0,label='LDA0')\n",
    "#plt.plot(m,label='MGP')\n",
    "plt.legend()"
   ]
  },
  {
   "cell_type": "markdown",
   "metadata": {},
   "source": [
    "# Kinetic electron in real/reciprocal space"
   ]
  },
  {
   "cell_type": "markdown",
   "metadata": {},
   "source": [
    "## Test the pbcpy and ATLAS"
   ]
  },
  {
   "cell_type": "code",
   "execution_count": 46,
   "metadata": {
    "collapsed": true
   },
   "outputs": [],
   "source": [
    "WGC_KE=PP('/Users/wenhui/Research/Rutgers/ATLAS_MI/Benchmarks/do/Si/Si_WGC/pot_ke.pp').read()\n",
    "WGC_sys=WGC_KE\n",
    "WGC_KE=WGC_KE.field\n",
    "WGC_KE=WGC_KE.fft()"
   ]
  },
  {
   "cell_type": "code",
   "execution_count": 47,
   "metadata": {
    "collapsed": true
   },
   "outputs": [],
   "source": [
    "gg=WGC_sys.field.grid.get_reciprocal().gg"
   ]
  },
  {
   "cell_type": "code",
   "execution_count": 48,
   "metadata": {
    "collapsed": true
   },
   "outputs": [],
   "source": [
    "WGC_g=WGC_KE*gg "
   ]
  },
  {
   "cell_type": "code",
   "execution_count": 49,
   "metadata": {
    "collapsed": true
   },
   "outputs": [],
   "source": [
    "WGC_g=np.abs(WGC_g)"
   ]
  },
  {
   "cell_type": "code",
   "execution_count": 50,
   "metadata": {
    "collapsed": true
   },
   "outputs": [],
   "source": [
    "WGC_r_atlas=PP('/Users/wenhui/Research/Rutgers/ATLAS_MI/Benchmarks/do/Si/Si_WGC/pot_KE_r.pp').read()"
   ]
  },
  {
   "cell_type": "code",
   "execution_count": 51,
   "metadata": {
    "collapsed": true
   },
   "outputs": [],
   "source": [
    "WGC_r_atlas=WGC_r_atlas.field.fft()*4.0*np.pi\n",
    "WGC_r_atlas=np.abs(WGC_r_atlas)"
   ]
  },
  {
   "cell_type": "code",
   "execution_count": 52,
   "metadata": {
    "collapsed": true
   },
   "outputs": [],
   "source": [
    "g=gg**(0.5)"
   ]
  },
  {
   "cell_type": "code",
   "execution_count": 53,
   "metadata": {},
   "outputs": [
    {
     "data": {
      "text/plain": [
       "<matplotlib.legend.Legend at 0x10ef15da0>"
      ]
     },
     "execution_count": 53,
     "metadata": {},
     "output_type": "execute_result"
    },
    {
     "data": {
      "image/png": "[encoded data removed]",
      "text/plain": [
       "<matplotlib.figure.Figure at 0x10ee515f8>"
      ]
     },
     "metadata": {},
     "output_type": "display_data"
    }
   ],
   "source": [
    "p1=plt.scatter(g,WGC_g)\n",
    "p2=plt.scatter(g,WGC_r_atlas)\n",
    "plt.legend((p1,p2),(u'pbc',u'atlas'))"
   ]
  },
  {
   "cell_type": "code",
   "execution_count": 54,
   "metadata": {},
   "outputs": [
    {
     "data": {
      "image/png": "[encoded data removed]",
      "text/plain": [
       "<matplotlib.figure.Figure at 0x10f985f28>"
      ]
     },
     "metadata": {},
     "output_type": "display_data"
    }
   ],
   "source": [
    "p2=plt.scatter(g,WGC_r_atlas-WGC_g)"
   ]
  },
  {
   "cell_type": "markdown",
   "metadata": {},
   "source": [
    "# Anylysis the KS/OF-DFT results"
   ]
  },
  {
   "cell_type": "code",
   "execution_count": 55,
   "metadata": {
    "collapsed": true
   },
   "outputs": [],
   "source": [
    "KS_KE_g=KS.fft()\n",
    "KS_KE_g= KS_KE_g *gg\n",
    "KS_KE_g=np.abs(KS_KE_g)"
   ]
  },
  {
   "cell_type": "code",
   "execution_count": 56,
   "metadata": {
    "collapsed": true
   },
   "outputs": [],
   "source": [
    "def rho_KE(pot):\n",
    "    rho_KE = pot.field.fft()\n",
    "    gg= pot.field.grid.get_reciprocal().gg\n",
    "    rho_KE=rho_KE*gg\n",
    "    rho_KE=np.abs(rho_KE)\n",
    "    return rho_KE   "
   ]
  },
  {
   "cell_type": "code",
   "execution_count": 57,
   "metadata": {
    "collapsed": true
   },
   "outputs": [],
   "source": [
    "WT_r =PP('/Users/wenhui/Research/Rutgers/ATLAS_MI/Benchmarks/do/Si/Si_WT/pot_ke.pp').read()\n",
    "WGC_r =PP('/Users/wenhui/Research/Rutgers/ATLAS_MI/Benchmarks/do/Si/Si_WGC/pot_ke.pp').read()\n",
    "KGAP_r=PP('/Users/wenhui/Research/Rutgers/ATLAS_MI/Benchmarks/do/Si/Si_Kgap//pot_ke.pp').read()\n",
    "LDA_r=PP('/Users/wenhui/Research/Rutgers/ATLAS_MI/Benchmarks/do/Si/Si_LDA//pot_ke.pp').read()"
   ]
  },
  {
   "cell_type": "code",
   "execution_count": 58,
   "metadata": {
    "collapsed": true
   },
   "outputs": [],
   "source": [
    "WGC_KE_g=rho_KE(WGC_r)\n",
    "WT_KE_g=rho_KE(WT_r)\n",
    "KGAP_KE_g=rho_KE(KGAP_r)\n",
    "LDA_KE_g=rho_KE(LDA_r)"
   ]
  },
  {
   "cell_type": "code",
   "execution_count": 59,
   "metadata": {},
   "outputs": [
    {
     "data": {
      "text/plain": [
       "(0, 15)"
      ]
     },
     "execution_count": 59,
     "metadata": {},
     "output_type": "execute_result"
    },
    {
     "data": {
      "image/png": "[encoded data removed]",
      "text/plain": [
       "<matplotlib.figure.Figure at 0x1105c3908>"
      ]
     },
     "metadata": {},
     "output_type": "display_data"
    }
   ],
   "source": [
    "p1=plt.scatter(g,KS_KE_g,alpha=0.9,marker='x',s=14.0)\n",
    "#p2=plt.scatter(g,WT_KE_g,s=12.0)\n",
    "#p3=plt.scatter(g,WGC_KE_g,s=12.0)\n",
    "#p4=plt.scatter(g,KGAP_KE_g,s=12.0)\n",
    "#p5=plt.scatter(g,LDA_KE_g,s=12.0)\n",
    "\n",
    "plt.xlim([0,15])\n",
    "#plt.legend((),(u'KS',u'WT',u'WGC',u'KGAP',u'LDA'))\n"
   ]
  },
  {
   "cell_type": "markdown",
   "metadata": {},
   "source": [
    "# SC Silicon"
   ]
  },
  {
   "cell_type": "code",
   "execution_count": 60,
   "metadata": {},
   "outputs": [
    {
     "data": {
      "text/plain": [
       "5.002767235497082"
      ]
     },
     "execution_count": 60,
     "metadata": {},
     "output_type": "execute_result"
    }
   ],
   "source": [
    "125.207657547356**(1.0/3.0)"
   ]
  },
  {
   "cell_type": "code",
   "execution_count": 61,
   "metadata": {},
   "outputs": [
    {
     "data": {
      "text/plain": [
       "2.647350400992845"
      ]
     },
     "execution_count": 61,
     "metadata": {},
     "output_type": "execute_result"
    }
   ],
   "source": [
    "5.002767235497082*0.529177208607388"
   ]
  },
  {
   "cell_type": "markdown",
   "metadata": {},
   "source": [
    "### Fermi energy =7.4126 eV"
   ]
  },
  {
   "cell_type": "code",
   "execution_count": 119,
   "metadata": {
    "collapsed": true
   },
   "outputs": [],
   "source": [
    "H=PP('/Users/wenhui/Research/Rutgers/ATLAS_MI/Benchmarks/do/Si/SC/Si_TF/pot_H.pp').read()\n",
    "H=H.field"
   ]
  },
  {
   "cell_type": "code",
   "execution_count": 120,
   "metadata": {
    "collapsed": true
   },
   "outputs": [],
   "source": [
    "XC=PP('/Users/wenhui/Research/Rutgers/ATLAS_MI/Benchmarks/do/Si/SC/Si_TF/pot_XC.pp').read()\n",
    "XC=XC.field"
   ]
  },
  {
   "cell_type": "code",
   "execution_count": 121,
   "metadata": {
    "collapsed": true
   },
   "outputs": [],
   "source": [
    "Loc=PP('/Users/wenhui/Research/Rutgers/ATLAS_MI/Benchmarks/do/Si/SC/Si_TF/pot_ion.pp').read()\n",
    "Loc=Loc.field"
   ]
  },
  {
   "cell_type": "code",
   "execution_count": 122,
   "metadata": {
    "collapsed": true
   },
   "outputs": [],
   "source": [
    "KS_SC=-0.5*(H + XC + Loc) + 7.4126/27.211396132"
   ]
  },
  {
   "cell_type": "code",
   "execution_count": 123,
   "metadata": {
    "collapsed": true
   },
   "outputs": [],
   "source": [
    "gg=H.grid.get_reciprocal().gg\n",
    "KS_SC_g = KS_SC.fft()\n",
    "KS_SC_r = (KS_SC_g*gg).ifft()\n",
    "KS_SC_g = np.abs(KS_SC_g * gg)\n",
    "g=gg**0.5"
   ]
  },
  {
   "cell_type": "code",
   "execution_count": 124,
   "metadata": {
    "collapsed": true
   },
   "outputs": [],
   "source": [
    "def rho_KE(pot):\n",
    "    rho_KE = pot.field.fft()\n",
    "    gg= pot.field.grid.get_reciprocal().gg\n",
    "    rho_KE=rho_KE*gg\n",
    "    rho_KE=np.abs(rho_KE)\n",
    "    return rho_KE "
   ]
  },
  {
   "cell_type": "code",
   "execution_count": 125,
   "metadata": {
    "collapsed": true
   },
   "outputs": [],
   "source": [
    "WGC =PP('/Users/wenhui/Research/Rutgers/ATLAS_MI/Benchmarks/do/Si/SC/Si_WGC/pot_ke.pp').read()\n",
    "WT =PP('/Users/wenhui/Research/Rutgers/ATLAS_MI/Benchmarks/do/Si/SC/Si_WT/pot_ke.pp').read()\n",
    "LDA= PP('/Users/wenhui/Research/Rutgers/ATLAS_MI/Benchmarks/do/Si/SC/Si_LDA/pot_ke.pp').read()\n",
    "KGAP = PP('/Users/wenhui/Research/Rutgers/ATLAS_MI/Benchmarks/do/Si/SC/Si_Kgap/pot_ke.pp').read()"
   ]
  },
  {
   "cell_type": "code",
   "execution_count": 126,
   "metadata": {
    "collapsed": true
   },
   "outputs": [],
   "source": [
    "WGC_g=rho_KE(WGC)\n",
    "WT_g=rho_KE(WT)\n",
    "LDA_g=rho_KE(LDA)\n",
    "KGAP_g=rho_KE(KGAP)"
   ]
  },
  {
   "cell_type": "code",
   "execution_count": 127,
   "metadata": {
    "collapsed": true
   },
   "outputs": [],
   "source": [
    "for i in range(len(WGC.ions)):\n",
    "    WGC.ions[i].strf"
   ]
  },
  {
   "cell_type": "code",
   "execution_count": 128,
   "metadata": {
    "collapsed": true
   },
   "outputs": [],
   "source": [
    "WGC=WGC.field\n",
    "WT=WT.field\n",
    "LDA=LDA.field\n",
    "KGAP=KGAP.field"
   ]
  },
  {
   "cell_type": "code",
   "execution_count": 129,
   "metadata": {},
   "outputs": [
    {
     "name": "stderr",
     "output_type": "stream",
     "text": [
      "/Users/wenhui/anaconda/lib/python3.6/site-packages/numpy/core/numeric.py:583: ComplexWarning: Casting complex values to real discards the imaginary part\n",
      "  return array(a, dtype, copy=False, order=order, subok=True)\n"
     ]
    }
   ],
   "source": [
    "k=[]\n",
    "w=[]\n",
    "c=[]\n",
    "l=[]\n",
    "kg=[]\n",
    "kr=[]\n",
    "for i in range(0,24):\n",
    "    k.append(KS_SC[i,i,i,0])\n",
    "    w.append(WT[i,i,i,0])\n",
    "    c.append(WGC[i,i,i,0])\n",
    "    l.append(LDA[i,i,i,0])\n",
    "    kg.append(KGAP[i,i,i,0])\n",
    "    kr.append(KS_SC_r[i,i,i,0])\n",
    "k = np.asarray(k,dtype=np.float)\n",
    "w = np.asarray(w,dtype=np.float)\n",
    "c = np.asarray(c,dtype=np.float)\n",
    "l = np.asarray(l,dtype=np.float)\n",
    "kg = np.asarray(kg,dtype=np.float)\n",
    "kr =np.asanyarray(kr,dtype=np.float)"
   ]
  },
  {
   "cell_type": "code",
   "execution_count": 130,
   "metadata": {},
   "outputs": [
    {
     "data": {
      "text/plain": [
       "<matplotlib.legend.Legend at 0x1121c6a90>"
      ]
     },
     "execution_count": 130,
     "metadata": {},
     "output_type": "execute_result"
    },
    {
     "data": {
      "image/png": "[encoded data removed]",
      "text/plain": [
       "<matplotlib.figure.Figure at 0x1118a1828>"
      ]
     },
     "metadata": {},
     "output_type": "display_data"
    }
   ],
   "source": [
    "plt.plot(k,label='KS')\n",
    "plt.plot(w,label='WT')\n",
    "plt.plot(c,label='WGC')\n",
    "plt.plot(l,label='LDA')\n",
    "plt.plot(kg,label='Kgap')\n",
    "plt.legend()"
   ]
  },
  {
   "cell_type": "code",
   "execution_count": 131,
   "metadata": {},
   "outputs": [
    {
     "data": {
      "text/plain": [
       "[<matplotlib.lines.Line2D at 0x112276198>]"
      ]
     },
     "execution_count": 131,
     "metadata": {},
     "output_type": "execute_result"
    },
    {
     "data": {
      "image/png": "[encoded data removed]",
      "text/plain": [
       "<matplotlib.figure.Figure at 0x111fb27f0>"
      ]
     },
     "metadata": {},
     "output_type": "display_data"
    }
   ],
   "source": [
    "plt.plot(kr,label='KR')"
   ]
  },
  {
   "cell_type": "code",
   "execution_count": 132,
   "metadata": {},
   "outputs": [
    {
     "data": {
      "text/plain": [
       "(24, 24, 24, 1)"
      ]
     },
     "execution_count": 132,
     "metadata": {},
     "output_type": "execute_result"
    }
   ],
   "source": [
    "g.shape"
   ]
  },
  {
   "cell_type": "code",
   "execution_count": 133,
   "metadata": {},
   "outputs": [
    {
     "data": {
      "text/plain": [
       "(0, 18)"
      ]
     },
     "execution_count": 133,
     "metadata": {},
     "output_type": "execute_result"
    },
    {
     "data": {
      "image/png": "[encoded data removed]",
      "text/plain": [
       "<matplotlib.figure.Figure at 0x112288fd0>"
      ]
     },
     "metadata": {},
     "output_type": "display_data"
    }
   ],
   "source": [
    "p1=plt.scatter(g,KS_SC_g,alpha=0.9,marker='x',s=14.0)\n",
    "\n",
    "#p2=plt.scatter(g,WGC_g,s=12.0)\n",
    "#p3=plt.scatter(g,WT_g,s=12.0)\n",
    "#p4=plt.scatter(g,LDA_g,s=12.0)\n",
    "\n",
    "plt.xlim([0,18])\n",
    "#plt.legend((p1,p2,p3,p4),(u'KS',u'WGC',u'WT',u'LDA'))"
   ]
  },
  {
   "cell_type": "code",
   "execution_count": null,
   "metadata": {
    "collapsed": true
   },
   "outputs": [],
   "source": []
  },
  {
   "cell_type": "markdown",
   "metadata": {},
   "source": [
    "#  Atom in the centern of cubic box"
   ]
  },
  {
   "cell_type": "markdown",
   "metadata": {},
   "source": [
    "## Fermi enenrgy= 7.4126"
   ]
  },
  {
   "cell_type": "code",
   "execution_count": 134,
   "metadata": {
    "collapsed": true
   },
   "outputs": [],
   "source": [
    "def rho_KE(pot):\n",
    "    rho_KE = pot.fft()\n",
    "    gg= pot.grid.get_reciprocal().gg\n",
    "    rho_KE=rho_KE*gg\n",
    "    rho_KE=np.abs(rho_KE)\n",
    "    return rho_KE "
   ]
  },
  {
   "cell_type": "code",
   "execution_count": 135,
   "metadata": {
    "collapsed": true
   },
   "outputs": [],
   "source": [
    "def rho_KE_r(pot,sigma=0.0):\n",
    "    rho_KE = pot.fft()\n",
    "    gg = pot.grid.get_reciprocal().gg\n",
    "    rho_KE=rho_KE*gg*np.exp(-gg*sigma**2/4.0)\n",
    "    rho_KE_r=rho_KE.ifft()\n",
    "    return rho_KE_r"
   ]
  },
  {
   "cell_type": "code",
   "execution_count": 136,
   "metadata": {
    "collapsed": true
   },
   "outputs": [],
   "source": [
    "H_c=PP('/Users/wenhui/Research/Rutgers/ATLAS_MI/Benchmarks/do/Si/SC/Si_TF_c/pot_H.pp').read()\n",
    "H_c=H_c.field"
   ]
  },
  {
   "cell_type": "code",
   "execution_count": 137,
   "metadata": {
    "collapsed": true
   },
   "outputs": [],
   "source": [
    "XC_c=PP('/Users/wenhui/Research/Rutgers/ATLAS_MI/Benchmarks/do/Si/SC/Si_TF_c/pot_XC.pp').read()\n",
    "XC_c=XC_c.field"
   ]
  },
  {
   "cell_type": "code",
   "execution_count": 138,
   "metadata": {
    "collapsed": true
   },
   "outputs": [],
   "source": [
    "Loc_c=PP('/Users/wenhui/Research/Rutgers/ATLAS_MI/Benchmarks/do/Si/SC/Si_TF_c/pot_ion.pp').read()\n",
    "Loc_c=Loc_c.field"
   ]
  },
  {
   "cell_type": "code",
   "execution_count": 159,
   "metadata": {
    "collapsed": true
   },
   "outputs": [],
   "source": [
    "WT_c=PP('/Users/wenhui/Research/Rutgers/ATLAS_MI/Benchmarks/do/Si/SC/Si_WT_c/pot_ke.pp').read()\n",
    "WT_c=WT_c.field"
   ]
  },
  {
   "cell_type": "code",
   "execution_count": 160,
   "metadata": {
    "collapsed": true
   },
   "outputs": [],
   "source": [
    "WGC_c=PP('/Users/wenhui/Research/Rutgers/ATLAS_MI/Benchmarks/do/Si/SC/Si_WGC_c/pot_ke.pp').read()\n",
    "WGC_c=WGC_c.field"
   ]
  },
  {
   "cell_type": "code",
   "execution_count": 139,
   "metadata": {
    "collapsed": true
   },
   "outputs": [],
   "source": [
    "KS_SC_c=-0.5*(H_c + XC_c + Loc_c) + 7.4126/27.211396132"
   ]
  },
  {
   "cell_type": "code",
   "execution_count": 140,
   "metadata": {
    "collapsed": true
   },
   "outputs": [],
   "source": [
    "#gg=H_c.grid.get_reciprocal().gg\n",
    "#KS_SC_c_g = KS_SC_c.fft()\n",
    "#KS_SC_c_g = np.abs(KS_SC_c_g * gg)\n",
    "#g=gg**0.5"
   ]
  },
  {
   "cell_type": "code",
   "execution_count": 161,
   "metadata": {
    "collapsed": true
   },
   "outputs": [],
   "source": [
    "KS_SC_c_g=rho_KE(KS_SC_c)\n",
    "KS_SC_r=rho_KE_r(KS_SC_c)\n",
    "H_g=rho_KE(H_c)\n",
    "H_r=rho_KE_r(H_c)\n",
    "XC_g=rho_KE(XC_c)\n",
    "XC_r=rho_KE_r(XC_c)\n",
    "Loc_g=rho_KE(Loc_c)\n",
    "Loc_r=rho_KE_r(Loc_c)\n",
    "Loc_r_numcheck = rho_KE_r(Loc_c,sigma=0.25)\n",
    "WGC_r=rho_KE_r(WGC_c)\n",
    "WGC_g=rho_KE(WGC_c)\n",
    "WT_r=rho_KE_r(WT_c)\n",
    "WT_g=rho_KE(WT_c)"
   ]
  },
  {
   "cell_type": "code",
   "execution_count": 151,
   "metadata": {},
   "outputs": [
    {
     "data": {
      "text/plain": [
       "(2.6852457466739655e-14-3.5224280474398014e-28j)"
      ]
     },
     "execution_count": 151,
     "metadata": {},
     "output_type": "execute_result"
    }
   ],
   "source": [
    "Loc_r.integral()"
   ]
  },
  {
   "cell_type": "code",
   "execution_count": 152,
   "metadata": {},
   "outputs": [
    {
     "data": {
      "image/png": "[encoded data removed]",
      "text/plain": [
       "<matplotlib.figure.Figure at 0x112293f60>"
      ]
     },
     "metadata": {},
     "output_type": "display_data"
    }
   ],
   "source": [
    "p1=plt.scatter(g,KS_SC_g,marker='v',s=18.0,alpha=1.0)\n",
    "p2=plt.scatter(g,KS_SC_c_g,marker='o',s=12.0,alpha=0.5)"
   ]
  },
  {
   "cell_type": "code",
   "execution_count": 153,
   "metadata": {},
   "outputs": [
    {
     "data": {
      "text/plain": [
       "<matplotlib.legend.Legend at 0x1115407f0>"
      ]
     },
     "execution_count": 153,
     "metadata": {},
     "output_type": "execute_result"
    },
    {
     "data": {
      "image/png": "[encoded data removed]",
      "text/plain": [
       "<matplotlib.figure.Figure at 0x111540f28>"
      ]
     },
     "metadata": {},
     "output_type": "display_data"
    }
   ],
   "source": [
    "p1=plt.scatter(g,KS_SC_g,marker='v',s=18.0,alpha=1.0)\n",
    "p2=plt.scatter(g,KS_SC_c_g,marker='o',s=12.0,alpha=0.5)\n",
    "p3=plt.scatter(g,H_g,marker='o',s=12.0,alpha=1.0)\n",
    "p5=plt.scatter(g,XC_g,marker='o',s=12.0,alpha=1.0)\n",
    "p6=plt.scatter(g,Loc_g,marker='o',s=12.0,alpha=1.0)\n",
    "plt.legend((p1,p2,p3,p5,p6),(u'KS',u'KS2',u'H',u'XC',u'Loc'))"
   ]
  },
  {
   "cell_type": "code",
   "execution_count": 154,
   "metadata": {},
   "outputs": [
    {
     "data": {
      "image/png": "[encoded data removed]",
      "text/plain": [
       "<matplotlib.figure.Figure at 0x11152e1d0>"
      ]
     },
     "metadata": {},
     "output_type": "display_data"
    }
   ],
   "source": [
    "#p3=plt.scatter(g,H_g,marker='o',s=12.0,alpha=1.0)\n",
    "p5=plt.scatter(g,XC_g,marker='v',s=19.0,alpha=1.0)\n",
    "#p6=plt.scatter(g,Loc_g,marker='o',s=12.0,alpha=1.0)\n",
    "#plt.legend((p3,p5),(u'H',u'XC'))"
   ]
  },
  {
   "cell_type": "code",
   "execution_count": 186,
   "metadata": {},
   "outputs": [
    {
     "name": "stderr",
     "output_type": "stream",
     "text": [
      "/Users/wenhui/anaconda/lib/python3.6/site-packages/ipykernel_launcher.py:9: ComplexWarning: Casting complex values to real discards the imaginary part\n",
      "  if __name__ == '__main__':\n",
      "/Users/wenhui/anaconda/lib/python3.6/site-packages/ipykernel_launcher.py:10: ComplexWarning: Casting complex values to real discards the imaginary part\n",
      "  # Remove the CWD from sys.path while we load stuff.\n",
      "/Users/wenhui/anaconda/lib/python3.6/site-packages/ipykernel_launcher.py:11: ComplexWarning: Casting complex values to real discards the imaginary part\n",
      "  # This is added back by InteractiveShellApp.init_path()\n",
      "/Users/wenhui/anaconda/lib/python3.6/site-packages/ipykernel_launcher.py:12: ComplexWarning: Casting complex values to real discards the imaginary part\n",
      "  if sys.path[0] == '':\n",
      "/Users/wenhui/anaconda/lib/python3.6/site-packages/ipykernel_launcher.py:13: ComplexWarning: Casting complex values to real discards the imaginary part\n",
      "  del sys.path[0]\n",
      "/Users/wenhui/anaconda/lib/python3.6/site-packages/ipykernel_launcher.py:14: ComplexWarning: Casting complex values to real discards the imaginary part\n",
      "  \n"
     ]
    }
   ],
   "source": [
    "nnr=24\n",
    "h=np.arange(nnr,dtype='float')\n",
    "xc=np.arange(nnr,dtype='float')\n",
    "ion=np.arange(nnr,dtype='float')\n",
    "ks=np.arange(nnr,dtype='float')\n",
    "wt=np.arange(nnr,dtype='float')\n",
    "wgc=np.arange(nnr,dtype='float')\n",
    "for i in range(0,24):\n",
    "    h[i]=H_r[i,i,i,0]\n",
    "    xc[i]=XC_r[i,i,i,0]\n",
    "    ion[i]=Loc_r[i,i,i,0]\n",
    "    ks[i]=KS_SC_r[i,i,i,0]\n",
    "    wt[i]=WT_r[i,i,i,0]\n",
    "    wgc[i]=WGC_r[i,i,i,0]"
   ]
  },
  {
   "cell_type": "code",
   "execution_count": 179,
   "metadata": {},
   "outputs": [
    {
     "data": {
      "text/plain": [
       "(24,)"
      ]
     },
     "execution_count": 179,
     "metadata": {},
     "output_type": "execute_result"
    }
   ],
   "source": []
  },
  {
   "cell_type": "code",
   "execution_count": 187,
   "metadata": {},
   "outputs": [
    {
     "data": {
      "text/plain": [
       "<matplotlib.legend.Legend at 0x110c72b70>"
      ]
     },
     "execution_count": 187,
     "metadata": {},
     "output_type": "execute_result"
    },
    {
     "data": {
      "image/png": "[encoded data removed]",
      "text/plain": [
       "<matplotlib.figure.Figure at 0x10c925780>"
      ]
     },
     "metadata": {},
     "output_type": "display_data"
    }
   ],
   "source": [
    "plt.plot(ks,label='KS')\n",
    "plt.plot(h,label='H')\n",
    "plt.plot(xc,label='XC')\n",
    "plt.plot(ion,label='Loc')\n",
    "plt.plot(wt,label='WT')\n",
    "plt.plot(wgc,label='WGC')\n",
    "\n",
    "#plt.ylim([-5,5])\n",
    "plt.legend()"
   ]
  },
  {
   "cell_type": "code",
   "execution_count": 188,
   "metadata": {},
   "outputs": [
    {
     "data": {
      "text/plain": [
       "<matplotlib.legend.Legend at 0x10f9dcf60>"
      ]
     },
     "execution_count": 188,
     "metadata": {},
     "output_type": "execute_result"
    },
    {
     "data": {
      "image/png": "[encoded data removed]",
      "text/plain": [
       "<matplotlib.figure.Figure at 0x10f872b38>"
      ]
     },
     "metadata": {},
     "output_type": "display_data"
    }
   ],
   "source": [
    "plt.plot(ks,label='KS')\n",
    "plt.plot(wt,label='WT')\n",
    "plt.plot(wgc,label='WGC')\n",
    "plt.legend()"
   ]
  },
  {
   "cell_type": "code",
   "execution_count": 172,
   "metadata": {},
   "outputs": [
    {
     "data": {
      "text/plain": [
       "<matplotlib.legend.Legend at 0x118a7b7b8>"
      ]
     },
     "execution_count": 172,
     "metadata": {},
     "output_type": "execute_result"
    },
    {
     "data": {
      "image/png": "[encoded data removed]",
      "text/plain": [
       "<matplotlib.figure.Figure at 0x117c9c128>"
      ]
     },
     "metadata": {},
     "output_type": "display_data"
    }
   ],
   "source": [
    "plt.plot(xc,label='XC')\n",
    "plt.plot(h,label='H')\n",
    "plt.legend()"
   ]
  },
  {
   "cell_type": "code",
   "execution_count": 160,
   "metadata": {
    "collapsed": true
   },
   "outputs": [],
   "source": [
    "rho=PP('/Users/wenhui/Research/Rutgers/ATLAS_MI/Benchmarks/do/Si/SC/Si_TF_c/rho.pp').read()\n",
    "rho=rho.field.fft()\n",
    "rho=np.abs(rho)"
   ]
  },
  {
   "cell_type": "code",
   "execution_count": 161,
   "metadata": {},
   "outputs": [
    {
     "data": {
      "text/plain": [
       "(0, 4)"
      ]
     },
     "execution_count": 161,
     "metadata": {},
     "output_type": "execute_result"
    },
    {
     "data": {
      "image/png": "[encoded data removed]",
      "text/plain": [
       "<matplotlib.figure.Figure at 0x119be9dd8>"
      ]
     },
     "metadata": {},
     "output_type": "display_data"
    }
   ],
   "source": [
    "p1=plt.scatter(g,rho,marker='o',s=18.0,alpha=1.0)\n",
    "plt.xlim([0,4])"
   ]
  },
  {
   "cell_type": "code",
   "execution_count": null,
   "metadata": {
    "collapsed": true
   },
   "outputs": [],
   "source": [
    "nnr=36*36*36\n",
    "KS=KS.reshape(nnr)\n",
    "WT=WT.reshape(nnr)\n",
    "WGC=WGC.reshape(nnr)\n",
    "LDA=LDA.reshape(nnr)\n",
    "LDA0=LDA0.reshape(nnr)\n",
    "rho=rho.reshape(nnr)"
   ]
  },
  {
   "cell_type": "code",
   "execution_count": null,
   "metadata": {
    "collapsed": true
   },
   "outputs": [],
   "source": [
    "MGP=MGP.reshape(nnr)\n",
    "KGAP=KGAP.reshape(nnr)\n",
    "KGAP1=KGAP1.reshape(nnr)\n",
    "KGAP10=KGAP10.reshape(nnr)"
   ]
  },
  {
   "cell_type": "code",
   "execution_count": null,
   "metadata": {
    "collapsed": true
   },
   "outputs": [],
   "source": [
    "p1=plt.scatter(KS,KS)\n",
    "p2 =plt.scatter(KS,WT)\n",
    "p3 =plt.scatter(KS,WGC)\n",
    "p4 =plt.scatter(KS,LDA)\n",
    "p5= plt.scatter(KS,KGAP1)\n",
    "p6= plt.scatter(KS,KGAP10)\n",
    "p7=plt.scatter(KS,KGAP)\n",
    "plt.legend((p1,p2,p3,p4,p5,p6,p7),(u'KS',u'WT',u'KGAP1',u'KGAP4'))"
   ]
  },
  {
   "cell_type": "code",
   "execution_count": null,
   "metadata": {
    "collapsed": true
   },
   "outputs": [],
   "source": [
    "p1=plt.scatter(rho,KS)\n",
    "p2 =plt.scatter(rho,WT)\n",
    "p3 =plt.scatter(rho,WGC)\n",
    "p4= plt.scatter(rho,rho*20)\n",
    "p5 =plt.scatter(rho,KGAP)\n",
    "plt.legend((p1,p2,p3,p4,p5),(u'KS',u'WT',u'WGC',u'rho',u'KGAP'))"
   ]
  },
  {
   "cell_type": "code",
   "execution_count": null,
   "metadata": {
    "collapsed": true
   },
   "outputs": [],
   "source": [
    "df = pd.DataFrame({'KS':KS,\n",
    "     'WT':WT,\n",
    "     'WTLDA':WTLDA,\n",
    "     'WGC':WGC,\n",
    "      'WTLDA0':WTLDA,\n",
    "      'KGAP':KGAP,\n",
    "       'KGAP1':KGAP1,\n",
    "        'KGAP10':KGAP10}\n",
    "                 )"
   ]
  },
  {
   "cell_type": "code",
   "execution_count": null,
   "metadata": {
    "collapsed": true
   },
   "outputs": [],
   "source": [
    "df.corr()"
   ]
  },
  {
   "cell_type": "code",
   "execution_count": null,
   "metadata": {
    "collapsed": true
   },
   "outputs": [],
   "source": [
    "#plt.plot(WT_EFF[:,18,0,0],label='WT_eff')\n",
    "#plt.plot(v_Ts[:,0,0,0]-5.3838/27.211396132,label='KS')\n",
    "#plt.plot(WGC_EFF[:,0,0,0],label='WGC_eff')\n",
    "#plt.plot(WTLDA_EFF[:,0,0,0],label='WTLDA_eff')\n",
    "#plt.legend()\n",
    "#plt.ylabel('Potential (a.u)')\n",
    "#plt.savefig(\"Eff_KS.png\")\n",
    "#plt.show()"
   ]
  },
  {
   "cell_type": "code",
   "execution_count": null,
   "metadata": {
    "collapsed": true
   },
   "outputs": [],
   "source": []
  },
  {
   "cell_type": "code",
   "execution_count": null,
   "metadata": {
    "collapsed": true
   },
   "outputs": [],
   "source": [
    "#WT_EFF =(-WT_r_e.field -v_Ts)*27.2119+5.3838\n",
    "#WT_KE =(WT_r.field -v_Ts)*27.2119\n",
    "#WGC_EFF =(-WGC_r_e.field-v_Ts)*27.2119+5.3838\n",
    "#WGC_KE =(WGC_r.field-v_Ts)*27.2119\n",
    "#WTLDA_EFF =(-LDA_r_e.field-v_Ts)*27.2119+5.3838\n",
    "#WTLDA_KE = (LDA_r.field-v_Ts)*27.2119"
   ]
  },
  {
   "cell_type": "code",
   "execution_count": null,
   "metadata": {
    "collapsed": true
   },
   "outputs": [],
   "source": [
    "#plt.plot(WT_KE[:,18,18,0],label='WT')\n",
    "#plt.plot(WGC_KE[:,18,18,0],label='WGC')\n",
    "#plt.plot(WTLDA_KE[:,18,18,0],label='WTLDA')\n",
    "#plt.legend()\n",
    "#plt.ylabel('$V_{KEDF}-V_{KS}$ (eV)')\n",
    "#plt.savefig(\"Diff_KEDF_KS.png\")\n",
    "#plt.show()"
   ]
  },
  {
   "cell_type": "code",
   "execution_count": null,
   "metadata": {
    "collapsed": true
   },
   "outputs": [],
   "source": [
    "#plt.plot(WT_EFF[:,0,0,0],label='WT_eff')\n",
    "#plt.plot(WGC_EFF[:,0,0,0],label='WGC_eff')\n",
    "#plt.plot(WTLDA_EFF[:,0,0,0],label='WTLDA_eff')\n",
    "#plt.legend()\n",
    "#plt.ylabel('$V_{eff}(KEDF)-V_{KS}$ (eV)')\n",
    "#plt.savefig(\"Diff_Eff_KS.png\")\n",
    "#plt.show()"
   ]
  },
  {
   "cell_type": "markdown",
   "metadata": {},
   "source": [
    "#  Exchange hole function"
   ]
  },
  {
   "cell_type": "code",
   "execution_count": null,
   "metadata": {
    "collapsed": true
   },
   "outputs": [],
   "source": [
    "def Xhole(y):\n",
    "    A=0.59\n",
    "    B=-0.54354\n",
    "    C=0.027678\n",
    "    D=0.18843\n",
    "    fun=-A/y**2/(1+(4.0/9.0)*A*y**2) + (A/y**2+B +C*y**2)* np.exp(-D*y**2)\n",
    "    return fun\n"
   ]
  },
  {
   "cell_type": "code",
   "execution_count": null,
   "metadata": {
    "collapsed": true
   },
   "outputs": [],
   "source": [
    "x=np.linspace(0.001,8,800)\n",
    "p1=plt.plot(x,x*Xhole(x))\n",
    "#p2=plt.plot(x,-1/(x*Xhole(x)))\n",
    "plt.show()"
   ]
  },
  {
   "cell_type": "markdown",
   "metadata": {},
   "source": [
    "## Reading files for non-SCF benchmarks with A=3.2"
   ]
  },
  {
   "cell_type": "code",
   "execution_count": null,
   "metadata": {
    "collapsed": true
   },
   "outputs": [],
   "source": []
  },
  {
   "cell_type": "code",
   "execution_count": null,
   "metadata": {
    "collapsed": true
   },
   "outputs": [],
   "source": [
    "WT_r   = PP('./PP/WT_KS/3.2/pot_ke.pp').read()\n",
    "WGC_r  =PP('./PP/WGC_KS/3.2/pot_ke.pp').read()\n",
    "LDA_r   =PP('./PP/WTLDA_KS/3.2/pot_ke.pp').read()\n",
    "KS_H = PP('PP/KS/3.2/H.pp').read()\n",
    "KS_XC =PP('./PP/KS/3.2/XC.pp').read()\n",
    "KS_loc= PP('./PP/KS/3.2/vloc.pp').read()"
   ]
  },
  {
   "cell_type": "code",
   "execution_count": null,
   "metadata": {
    "collapsed": true
   },
   "outputs": [],
   "source": [
    "WT =WT_r.field\n",
    "WGC =WGC_r.field\n",
    "LDA =LDA_r.field\n",
    "KS =2.3360/27.2119 - KS_H.field/2 -KS_XC.field/2 -KS_loc.field/2"
   ]
  },
  {
   "cell_type": "code",
   "execution_count": null,
   "metadata": {
    "collapsed": true
   },
   "outputs": [],
   "source": [
    "t=0\n",
    "x=[]\n",
    "y=[]\n",
    "z=[]\n",
    "m=[]\n",
    "for i in range(0,40):\n",
    "    for j in range(0,40):\n",
    "        for k in range(0,40):\n",
    "            x.append(KS[i,j,k,0])\n",
    "            y.append(WT[i,j,k,0])\n",
    "            z.append(WGC[i,j,k,0])\n",
    "            m.append(LDA[i,j,k,0])"
   ]
  },
  {
   "cell_type": "code",
   "execution_count": null,
   "metadata": {
    "collapsed": true
   },
   "outputs": [],
   "source": [
    "x_michele = KS.reshape(KS.grid.nnr)"
   ]
  },
  {
   "cell_type": "code",
   "execution_count": null,
   "metadata": {
    "collapsed": true
   },
   "outputs": [],
   "source": [
    "x_orig = np.asarray(x,dtype=np.float)"
   ]
  },
  {
   "cell_type": "code",
   "execution_count": null,
   "metadata": {
    "collapsed": true
   },
   "outputs": [],
   "source": [
    "x_michele - x_orig"
   ]
  },
  {
   "cell_type": "code",
   "execution_count": null,
   "metadata": {
    "collapsed": true
   },
   "outputs": [],
   "source": [
    "\n",
    "p1=plt.scatter(x,x)\n",
    "p2=plt.scatter(x,y)\n",
    "p3=plt.scatter(x,z)\n",
    "p4=plt.scatter(x,m)\n",
    "plt.legend((p1,p2,p3,p4),(u'KS',u'WT',u'WGC',u'WTLDA'))"
   ]
  },
  {
   "cell_type": "code",
   "execution_count": null,
   "metadata": {
    "collapsed": true
   },
   "outputs": [],
   "source": [
    "df = pd.DataFrame({'KS':x,\n",
    "     'WT':y,\n",
    "     'WGC':z,\n",
    "     'WTLDA':m})"
   ]
  },
  {
   "cell_type": "code",
   "execution_count": null,
   "metadata": {
    "collapsed": true
   },
   "outputs": [],
   "source": [
    "df.corr()"
   ]
  },
  {
   "cell_type": "code",
   "execution_count": null,
   "metadata": {
    "collapsed": true
   },
   "outputs": [],
   "source": [
    "rho=PP('./PP/KS/3.2/rho.pp').read()"
   ]
  },
  {
   "cell_type": "code",
   "execution_count": null,
   "metadata": {
    "collapsed": true
   },
   "outputs": [],
   "source": [
    "rho=rho.field"
   ]
  },
  {
   "cell_type": "code",
   "execution_count": null,
   "metadata": {
    "collapsed": true
   },
   "outputs": [],
   "source": [
    "n=[]\n",
    "for i in range(0,40):\n",
    "    for j in range(0,40):\n",
    "        for k in range(0,40):\n",
    "            n.append(rho[i,j,k,0]*20)"
   ]
  },
  {
   "cell_type": "code",
   "execution_count": null,
   "metadata": {
    "collapsed": true
   },
   "outputs": [],
   "source": [
    "p1=plt.scatter(x,x)\n",
    "p2=plt.scatter(x,y)\n",
    "p3=plt.scatter(x,z)\n",
    "p4=plt.scatter(x,m)\n",
    "p5=plt.scatter(x,n)\n",
    "plt.legend((p1,p2,p3,p4,p5),(u'KS',u'WT',u'WGC',u'WTLDA',u'rho'))"
   ]
  },
  {
   "cell_type": "code",
   "execution_count": null,
   "metadata": {
    "collapsed": true
   },
   "outputs": [],
   "source": [
    "p1=plt.scatter(n,n)\n",
    "p2=plt.scatter(n,x)\n",
    "p3=plt.scatter(n,y)\n",
    "p4=plt.scatter(n,z)\n",
    "p5=plt.scatter(n,m)\n",
    "plt.legend((p1,p2,p3,p4,p5),(u'rho',u'KS',u'WT',u'WGC',u'WTLDA'))"
   ]
  },
  {
   "cell_type": "markdown",
   "metadata": {},
   "source": [
    "#  Reading files for non-SCF benchmarks with A=2.0"
   ]
  },
  {
   "cell_type": "code",
   "execution_count": null,
   "metadata": {
    "collapsed": true
   },
   "outputs": [],
   "source": [
    "WT_r   = PP('./PP/WT_KS/2.0/pot_ke.pp').read()\n",
    "WGC_r  =PP('./PP/WGC_KS/2.0/pot_ke.pp').read()\n",
    "LDA_r   =PP('./PP/WTLDA_KS/2.0//pot_ke.pp').read()\n",
    "KS_H = PP('./PP/KS/2.0/H.pp').read()\n",
    "KS_XC =PP('./PP/KS/2.0/XC.pp').read()\n",
    "KS_loc= PP('./PP/KS/2.0/vloc.pp').read()\n",
    "rho=PP('./PP/KS/2.0/rho.pp').read()\n",
    "S2=PP('./PP/WTLDA_KS/S2/pot_ke.pp').read()\n",
    "P2=PP('./PP/WTLDA_KS/P2/pot_ke.pp').read()\n",
    "S0=PP('./PP/WTLDA_KS/S2/pot_ke0.pp').read()\n",
    "MGP=PP('./PP/MGP_KS/2.0/5_5/pot_ke.pp').read()\n",
    "MGP8=PP('./PP/MGP_KS/2.0/8_8/pot_ke.pp').read()\n",
    "MGP2=PP('./PP/MGP_KS/2.0/2_2/pot_ke.pp').read()\n",
    "MGP5e=PP('./PP/MGP_KS/2.0/5_5_eta/pot_ke.pp').read()\n",
    "MGP5k=PP('./PP/MGP_KS/2.0/5_5k/pot_ke.pp').read()\n",
    "MGP5kn=PP('./PP/MGP_KS/2.0/5_5kn/pot_ke.pp').read()"
   ]
  },
  {
   "cell_type": "code",
   "execution_count": null,
   "metadata": {
    "collapsed": true
   },
   "outputs": [],
   "source": [
    "WT =WT_r.field\n",
    "WGC =WGC_r.field\n",
    "LDA =LDA_r.field\n",
    "KS =21.3599/27.2119 - KS_H.field/2 -KS_XC.field/2 -KS_loc.field/2\n",
    "rho=rho.field\n",
    "S2=S2.field\n",
    "P2=P2.field\n",
    "S0=S0.field\n",
    "MGP=MGP.field\n",
    "MGP8=MGP8.field\n",
    "MGP5e=MGP5e.field\n",
    "MGP2=MGP2.field\n",
    "MGP5k=MGP5k.field\n",
    "MGP5kn=MGP5kn.field"
   ]
  },
  {
   "cell_type": "code",
   "execution_count": null,
   "metadata": {
    "collapsed": true
   },
   "outputs": [],
   "source": [
    "nnr=24*24*24"
   ]
  },
  {
   "cell_type": "code",
   "execution_count": null,
   "metadata": {
    "collapsed": true
   },
   "outputs": [],
   "source": [
    "rho=rho.reshape(nnr)\n",
    "WT=WT.reshape(nnr)\n",
    "WGC=WGC.reshape(nnr)\n",
    "LDA=LDA.reshape(nnr)\n",
    "KS=KS.reshape(nnr)\n",
    "S2=S2.reshape(nnr)\n",
    "S0=S0.reshape(nnr)\n",
    "P2=P2.reshape(nnr)\n",
    "MGP5e=MGP5e.reshape(nnr)\n",
    "MGP=MGP.reshape(nnr)\n",
    "MGP8=MGP8.reshape(nnr)\n",
    "MGP2=MGP2.reshape(nnr)\n",
    "MGP5k=MGP5k.reshape(nnr)\n",
    "MGP5kn=MGP5kn.reshape(nnr)"
   ]
  },
  {
   "cell_type": "code",
   "execution_count": null,
   "metadata": {
    "collapsed": true
   },
   "outputs": [],
   "source": [
    "KS.dtype"
   ]
  },
  {
   "cell_type": "code",
   "execution_count": null,
   "metadata": {
    "collapsed": true
   },
   "outputs": [],
   "source": [
    "p1=plt.scatter(KS,KS)\n",
    "p2=plt.scatter(KS,WT)\n",
    "#p3=plt.scatter(KS,WGC)\n",
    "#p4=plt.scatter(KS,MGP5e)\n",
    "#p5=plt.scatter(KS,MGP)\n",
    "#p6=plt.scatter(KS,MGP8)\n",
    "p7=plt.scatter(KS,MGP5kn)\n",
    "p8=plt.scatter(KS,MGP5k)\n",
    "plt.legend((p1,p2,p7,p8),(u'KS',u'WT',u'MGP5kn',u'MGP5k'))"
   ]
  },
  {
   "cell_type": "code",
   "execution_count": null,
   "metadata": {
    "collapsed": true
   },
   "outputs": [],
   "source": [
    "df = pd.DataFrame({'KS':KS,\n",
    "     'WT':WT,\n",
    "     'WGC':WGC,\n",
    "     'WTLDA':LDA,\n",
    "     'S':S0,\n",
    "     'P':P2,   \n",
    "     'MGP':MGP,\n",
    "     'MGP5e':MGP5e,\n",
    "     'MGP8':MGP8})"
   ]
  },
  {
   "cell_type": "code",
   "execution_count": null,
   "metadata": {
    "collapsed": true
   },
   "outputs": [],
   "source": [
    "df.corr()"
   ]
  },
  {
   "cell_type": "code",
   "execution_count": null,
   "metadata": {
    "collapsed": true
   },
   "outputs": [],
   "source": [
    "df = pd.DataFrame({'KS':x,\n",
    "     'WT':y,\n",
    "     'WGC':z,\n",
    "     'WTLDA':m})"
   ]
  },
  {
   "cell_type": "code",
   "execution_count": null,
   "metadata": {
    "collapsed": true
   },
   "outputs": [],
   "source": [
    "df.corr()"
   ]
  },
  {
   "cell_type": "code",
   "execution_count": null,
   "metadata": {
    "collapsed": true
   },
   "outputs": [],
   "source": [
    "p1=plt.scatter(rho,rho*20)\n",
    "p2=plt.scatter(rho,WT)\n",
    "p3=plt.scatter(rho,MGP)\n",
    "p4=plt.scatter(rho,MGP5kn)\n",
    "p5=plt.scatter(rho,KS)\n",
    "plt.legend((p1,p2,p3,p4,p5),(u'rho',u'WT',u'MGP',u'MGP5kn',u'KS'))"
   ]
  },
  {
   "cell_type": "code",
   "execution_count": null,
   "metadata": {
    "collapsed": true
   },
   "outputs": [],
   "source": [
    "vWp =ThomasFermiPotential\n"
   ]
  },
  {
   "cell_type": "code",
   "execution_count": null,
   "metadata": {
    "collapsed": true
   },
   "outputs": [],
   "source": [
    "def TF_Lambda_vW(rho,lam,mu):\n",
    "    vW = vonWeizsackerPotential(rho,Sigma=0)\n",
    "    TF = rho**(2.0/3.0)*(3.0/10.0)*(3.0*np.pi**2)**(2.0/3.0)*(5.0/3.0)\n",
    "    return lam*TF+mu*vW"
   ]
  },
  {
   "cell_type": "code",
   "execution_count": null,
   "metadata": {
    "collapsed": true
   },
   "outputs": [],
   "source": [
    "tflvw = TF_Lambda_vW(rho=rho,lam=1.0,mu=1.0).reshape(rho.grid.nnr)"
   ]
  },
  {
   "cell_type": "code",
   "execution_count": null,
   "metadata": {
    "collapsed": true
   },
   "outputs": [],
   "source": [
    "#p1=plt.scatter(n,n)\n",
    "p2=plt.scatter(n,x)\n",
    "p5=plt.scatter(n,tflvw)\n",
    "plt.legend((p2,p5),(u'KS',u'TFlvW'))"
   ]
  },
  {
   "cell_type": "code",
   "execution_count": null,
   "metadata": {
    "collapsed": true
   },
   "outputs": [],
   "source": [
    "LC94 = KEDF(density=rho,k_str='gga_k_lc94',polarization='unpolarized')"
   ]
  },
  {
   "cell_type": "code",
   "execution_count": null,
   "metadata": {
    "collapsed": true
   },
   "outputs": [],
   "source": [
    "p_lc94 = LC94.potential.reshape(LC94.potential.grid.nnr)"
   ]
  },
  {
   "cell_type": "code",
   "execution_count": null,
   "metadata": {
    "collapsed": true
   },
   "outputs": [],
   "source": [
    "plt.scatter(n,x)\n",
    "plt.scatter(n,p_lc94)\n",
    "#plt.scatter(n,y)\n",
    "plt.show()"
   ]
  },
  {
   "cell_type": "code",
   "execution_count": null,
   "metadata": {
    "collapsed": true
   },
   "outputs": [],
   "source": [
    "func = 0.5*p_lc94 + 0.5*tflvw\n",
    "plt.scatter(n,x)\n",
    "plt.scatter(n,func)\n",
    "plt.scatter(n,y)\n",
    "plt.show()\n"
   ]
  },
  {
   "cell_type": "code",
   "execution_count": null,
   "metadata": {
    "collapsed": true
   },
   "outputs": [],
   "source": []
  },
  {
   "cell_type": "code",
   "execution_count": null,
   "metadata": {
    "collapsed": true
   },
   "outputs": [],
   "source": []
  },
  {
   "cell_type": "code",
   "execution_count": 142,
   "metadata": {
    "collapsed": true
   },
   "outputs": [],
   "source": [
    "a = 1.0 + 1.0j"
   ]
  },
  {
   "cell_type": "code",
   "execution_count": 143,
   "metadata": {},
   "outputs": [
    {
     "data": {
      "text/plain": [
       "1.4142135623730951"
      ]
     },
     "execution_count": 143,
     "metadata": {},
     "output_type": "execute_result"
    }
   ],
   "source": [
    "np.abs(a)"
   ]
  },
  {
   "cell_type": "code",
   "execution_count": null,
   "metadata": {
    "collapsed": true
   },
   "outputs": [],
   "source": []
  }
 ],
 "metadata": {
  "kernelspec": {
   "display_name": "Python 3",
   "language": "python",
   "name": "python3"
  },
  "language_info": {
   "codemirror_mode": {
    "name": "ipython",
    "version": 3
   },
   "file_extension": ".py",
   "mimetype": "text/x-python",
   "name": "python",
   "nbconvert_exporter": "python",
   "pygments_lexer": "ipython3",
   "version": "3.6.1"
  },
  "toc": {
   "nav_menu": {},
   "number_sections": true,
   "sideBar": true,
   "skip_h1_title": false,
   "toc_cell": false,
   "toc_position": {},
   "toc_section_display": "block",
   "toc_window_display": false
  },
  "varInspector": {
   "cols": {
    "lenName": 16,
    "lenType": 16,
    "lenVar": 40
   },
   "kernels_config": {
    "python": {
     "delete_cmd_postfix": "",
     "delete_cmd_prefix": "del ",
     "library": "var_list.py",
     "varRefreshCmd": "print(var_dic_list())"
    },
    "r": {
     "delete_cmd_postfix": ") ",
     "delete_cmd_prefix": "rm(",
     "library": "var_list.r",
     "varRefreshCmd": "cat(var_dic_list()) "
    }
   },
   "types_to_exclude": [
    "module",
    "function",
    "builtin_function_or_method",
    "instance",
    "_Feature"
   ],
   "window_display": false
  }
 },
 "nbformat": 4,
 "nbformat_minor": 2
}
