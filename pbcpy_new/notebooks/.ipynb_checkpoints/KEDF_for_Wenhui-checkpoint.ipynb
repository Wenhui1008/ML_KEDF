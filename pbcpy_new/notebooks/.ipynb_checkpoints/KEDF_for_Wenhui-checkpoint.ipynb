{
 "cells": [
  {
   "cell_type": "code",
   "execution_count": 1,
   "metadata": {
    "collapsed": true
   },
   "outputs": [],
   "source": [
    "import numpy as np\n",
    "import scipy.special as sp\n",
    "import matplotlib.pyplot as plt\n",
    "import pandas as pd"
   ]
  },
  {
   "cell_type": "code",
   "execution_count": 2,
   "metadata": {
    "collapsed": true
   },
   "outputs": [],
   "source": [
    "import sys\n",
    "if \"../src/\" not in sys.path:\n",
    "    sys.path.insert(0,\"../src/\")\n",
    "from pbcpy.grid import DirectGrid, ReciprocalGrid\n",
    "from pbcpy.field import DirectField, ReciprocalField\n",
    "from pbcpy.functionals import *\n",
    "\n",
    "%matplotlib inline\n",
    "%load_ext autoreload\n",
    "%autoreload 2\n",
    "#"
   ]
  },
  {
   "cell_type": "code",
   "execution_count": 3,
   "metadata": {
    "collapsed": true
   },
   "outputs": [],
   "source": [
    "from pbcpy.local_functionals_utils import ThomasFermiEnergy, ThomasFermiPotential\n",
    "from pbcpy.local_functionals_utils import vonWeizsackerEnergy, vonWeizsackerPotential"
   ]
  },
  {
   "cell_type": "code",
   "execution_count": 4,
   "metadata": {
    "collapsed": true
   },
   "outputs": [],
   "source": [
    "from pbcpy.formats.qepp import PP\n",
    "from pbcpy.formats.xsf import XSF"
   ]
  },
  {
   "cell_type": "code",
   "execution_count": 5,
   "metadata": {
    "collapsed": true
   },
   "outputs": [],
   "source": [
    "from pbcpy.semilocal_xc import PBE, LDA, XC, KEDF"
   ]
  },
  {
   "cell_type": "code",
   "execution_count": 6,
   "metadata": {
    "collapsed": true
   },
   "outputs": [],
   "source": [
    "from pbcpy.local_pseudopotential import NuclearElectron"
   ]
  },
  {
   "cell_type": "code",
   "execution_count": 7,
   "metadata": {
    "collapsed": true
   },
   "outputs": [],
   "source": [
    "from pbcpy.hartree import HartreeFunctional"
   ]
  },
  {
   "cell_type": "markdown",
   "metadata": {},
   "source": [
    "\n",
    "# Read electron density from file"
   ]
  },
  {
   "cell_type": "code",
   "execution_count": 8,
   "metadata": {
    "collapsed": true
   },
   "outputs": [],
   "source": [
    "mol = PP(filepp='./PP/rho.pp').read()\n",
    "rho_of_r = mol.field"
   ]
  },
  {
   "cell_type": "markdown",
   "metadata": {},
   "source": [
    "\n",
    "\n",
    "# $E_{eN}$ and $v_{eN}$ but not yet $E_{NN}$"
   ]
  },
  {
   "cell_type": "code",
   "execution_count": 9,
   "metadata": {},
   "outputs": [
    {
     "name": "stdout",
     "output_type": "stream",
     "text": [
      "Recpot pseudopotential ./Al_lda.oe01.recpot loaded\n",
      "Recpot pseudopotential ./Al_lda.oe01.recpot loaded\n"
     ]
    }
   ],
   "source": [
    "NuclearElectron = NuclearElectron(mol.ions,rho_of_r,[\"./Al_lda.oe01.recpot\",\"./Al_lda.oe01.recpot\"])"
   ]
  },
  {
   "cell_type": "code",
   "execution_count": 10,
   "metadata": {},
   "outputs": [
    {
     "data": {
      "text/plain": [
       "'Local Pseudopotential'"
      ]
     },
     "execution_count": 10,
     "metadata": {},
     "output_type": "execute_result"
    }
   ],
   "source": [
    "NuclearElectron.name"
   ]
  },
  {
   "cell_type": "markdown",
   "metadata": {},
   "source": [
    "# $E_H$ and $v_{H}$"
   ]
  },
  {
   "cell_type": "code",
   "execution_count": 11,
   "metadata": {
    "collapsed": true
   },
   "outputs": [],
   "source": [
    "\n",
    "Hartree = HartreeFunctional(rho_of_r)"
   ]
  },
  {
   "cell_type": "code",
   "execution_count": 12,
   "metadata": {},
   "outputs": [
    {
     "data": {
      "text/plain": [
       "'Hartree'"
      ]
     },
     "execution_count": 12,
     "metadata": {},
     "output_type": "execute_result"
    }
   ],
   "source": [
    "Hartree.name"
   ]
  },
  {
   "cell_type": "markdown",
   "metadata": {},
   "source": [
    "# $E_{xc}$ and $v_{xc}$"
   ]
  },
  {
   "cell_type": "code",
   "execution_count": 13,
   "metadata": {
    "collapsed": true
   },
   "outputs": [],
   "source": [
    "\n",
    "ExchangeCorrelation_LDA = LDA(rho_of_r,polarization='unpolarized')"
   ]
  },
  {
   "cell_type": "code",
   "execution_count": 14,
   "metadata": {
    "collapsed": true
   },
   "outputs": [],
   "source": [
    "ExchangeCorrelation_PBE = PBE(rho_of_r,polarization='unpolarized')"
   ]
  },
  {
   "cell_type": "markdown",
   "metadata": {},
   "source": [
    "\n",
    "\n",
    "# Check against Wenhui's"
   ]
  },
  {
   "cell_type": "code",
   "execution_count": 15,
   "metadata": {
    "collapsed": true
   },
   "outputs": [],
   "source": [
    "ion_wenhui = PP(\"./PP/WT_KS/pot_ion.pp\").read()\n",
    "xc_wenhui = PP(\"./PP/KS/pot_xc.pp\").read()\n",
    "hart_wenhui = PP(\"./PP/KS/pot_H.pp\").read()\n"
   ]
  },
  {
   "cell_type": "code",
   "execution_count": 16,
   "metadata": {
    "collapsed": true
   },
   "outputs": [],
   "source": [
    "v_Ts = - ion_wenhui.field - xc_wenhui.field/2 - hart_wenhui.field/2 \n",
    "v_Ts= v_Ts + 5.3838/27.211396132"
   ]
  },
  {
   "cell_type": "code",
   "execution_count": 17,
   "metadata": {
    "collapsed": true
   },
   "outputs": [],
   "source": [
    "WTLDA = PP(\"./PP/WTLDA/pot_ke.pp\").read()\n",
    "WT = PP(\"./WT_PP/pot_ke.pp\").read()\n",
    "WGC = PP(\"./PP/WGC/pot_ke.pp\").read()"
   ]
  },
  {
   "cell_type": "markdown",
   "metadata": {},
   "source": [
    "\n",
    "\n",
    "# Hartree potential"
   ]
  },
  {
   "cell_type": "code",
   "execution_count": 18,
   "metadata": {},
   "outputs": [
    {
     "data": {
      "image/png": "[encoded data removed]",
      "text/plain": [
       "<matplotlib.figure.Figure at 0x10bf3f198>"
      ]
     },
     "metadata": {},
     "output_type": "display_data"
    }
   ],
   "source": [
    "plt.plot(hart_wenhui.field[:,0,0,0]/2)\n",
    "plt.plot(Hartree.potential[:,0,0,0])\n",
    "plt.show()"
   ]
  },
  {
   "cell_type": "markdown",
   "metadata": {},
   "source": [
    "# XC potential"
   ]
  },
  {
   "cell_type": "code",
   "execution_count": 19,
   "metadata": {},
   "outputs": [
    {
     "data": {
      "image/png": "[encoded data removed]",
      "text/plain": [
       "<matplotlib.figure.Figure at 0x100ec8908>"
      ]
     },
     "metadata": {},
     "output_type": "display_data"
    }
   ],
   "source": [
    "plt.plot(xc_wenhui.field[:,0,0,0]/2)\n",
    "plt.plot(ExchangeCorrelation_LDA.potential[:,0,0,0])\n",
    "plt.show()"
   ]
  },
  {
   "cell_type": "markdown",
   "metadata": {},
   "source": [
    "\n",
    "# SCF potential"
   ]
  },
  {
   "cell_type": "code",
   "execution_count": 20,
   "metadata": {
    "collapsed": true
   },
   "outputs": [],
   "source": [
    "WT=PP('PP/WT/pot_ke.pp').read()\n",
    "WT=WT.field"
   ]
  },
  {
   "cell_type": "code",
   "execution_count": 21,
   "metadata": {
    "collapsed": true
   },
   "outputs": [],
   "source": [
    "WGC=PP('PP/WGC/pot_ke.pp').read()\n",
    "WGC=WGC.field"
   ]
  },
  {
   "cell_type": "code",
   "execution_count": 22,
   "metadata": {
    "collapsed": true
   },
   "outputs": [],
   "source": [
    "KS_H =PP('./PP/KS/2.84/H.pp').read()\n",
    "KS_XC=PP('./PP/KS/2.84/XC.pp').read()\n",
    "KS_ion=PP('./PP/KS/2.84/Vloc.pp').read()\n",
    "KS=-(KS_H.field + KS_XC.field + KS_ion.field)/2.0 + 5.3838/27.211396132"
   ]
  },
  {
   "cell_type": "code",
   "execution_count": 23,
   "metadata": {
    "collapsed": true
   },
   "outputs": [],
   "source": [
    "LDA=PP('PP/WTLDA/2.84/pot_ke.pp').read()\n",
    "LDA=LDA.field"
   ]
  },
  {
   "cell_type": "code",
   "execution_count": 24,
   "metadata": {
    "collapsed": true
   },
   "outputs": [],
   "source": [
    "TF=PP('/Users/wenhui/Research/Rutgers/ATLAS_MI/Benchmarks/do/Si/Si_1/pot_ke.pp').read()\n",
    "TF=TF.field"
   ]
  },
  {
   "cell_type": "code",
   "execution_count": 25,
   "metadata": {
    "collapsed": true
   },
   "outputs": [],
   "source": [
    "def difference(a,b):\n",
    "    c = np.sqrt((a-b)**2)\n",
    "    #print('# of points = ',c.grid.nnr)\n",
    "    return print(c.integral()*27.211385, np.corrcoef(a.reshape(a.grid.nnr),b.reshape(a.grid.nnr))[1,0])"
   ]
  },
  {
   "cell_type": "code",
   "execution_count": 26,
   "metadata": {},
   "outputs": [
    {
     "name": "stdout",
     "output_type": "stream",
     "text": [
      "211.205606079 0.999947526165\n",
      "82.5323022495 0.999638395106\n",
      "277.017991489 0.999943299987\n",
      "257.857035318 0.970318323457\n"
     ]
    }
   ],
   "source": [
    "for a in [WT,WGC,LDA,TF]:\n",
    "    difference(a,KS)"
   ]
  },
  {
   "cell_type": "code",
   "execution_count": 27,
   "metadata": {
    "collapsed": true
   },
   "outputs": [],
   "source": [
    "k=[]\n",
    "w=[]\n",
    "c=[]\n",
    "l=[]\n",
    "t=[]\n",
    "for i in range(0,36):\n",
    "    k.append(KS[i,i,i,0])\n",
    "    w.append(WT[i,i,i,0])\n",
    "    c.append(WGC[i,i,i,0])\n",
    "    l.append(LDA[i,i,i,0])\n",
    "    t.append(TF[i,i,i,0])\n",
    "\n",
    "k = np.asarray(k,dtype=np.float)\n",
    "w = np.asarray(w,dtype=np.float)\n",
    "c = np.asarray(c,dtype=np.float)\n",
    "l = np.asarray(l,dtype=np.float)\n",
    "t = np.asarray(t,dtype=np.float)"
   ]
  },
  {
   "cell_type": "code",
   "execution_count": 28,
   "metadata": {},
   "outputs": [
    {
     "data": {
      "text/plain": [
       "<matplotlib.legend.Legend at 0x10e6975f8>"
      ]
     },
     "execution_count": 28,
     "metadata": {},
     "output_type": "execute_result"
    },
    {
     "data": {
      "image/png": "[encoded data removed]",
      "text/plain": [
       "<matplotlib.figure.Figure at 0x10c2ea748>"
      ]
     },
     "metadata": {},
     "output_type": "display_data"
    }
   ],
   "source": [
    "plt.plot(k-k,label='KS')\n",
    "plt.plot(w-k,label='WT')\n",
    "plt.plot(c-k,label='WGC')\n",
    "plt.plot(l-k,label='LDA')\n",
    "plt.plot(t-k,label='TF')\n",
    "plt.xlim([2,7])\n",
    "plt.ylim([-0.1,0.01])\n",
    "plt.legend()\n"
   ]
  },
  {
   "cell_type": "code",
   "execution_count": 29,
   "metadata": {
    "collapsed": true
   },
   "outputs": [],
   "source": [
    "#LC94 = KEDF(density=rho_of_r,k_str='gga_k_lc94',polarization='unpolarized')"
   ]
  },
  {
   "cell_type": "code",
   "execution_count": null,
   "metadata": {
    "collapsed": true
   },
   "outputs": [],
   "source": []
  },
  {
   "cell_type": "code",
   "execution_count": 30,
   "metadata": {
    "collapsed": true
   },
   "outputs": [],
   "source": [
    "#plt.plot(LC94.potential[:,0,0,0],label='LC94')\n",
    "#plt.plot(WT.field[:,0,0,0],label='WT')\n",
    "#plt.plot(v_Ts[:,0,0,0],label='KS')\n",
    "#plt.legend()\n",
    "#plt.show()"
   ]
  },
  {
   "cell_type": "markdown",
   "metadata": {},
   "source": [
    "# Non-scf electron density A=2.84"
   ]
  },
  {
   "cell_type": "code",
   "execution_count": 256,
   "metadata": {
    "collapsed": true
   },
   "outputs": [],
   "source": [
    "WT= PP('./PP/WT_KS/2.84/pot_ke.pp').read()"
   ]
  },
  {
   "cell_type": "code",
   "execution_count": 257,
   "metadata": {
    "collapsed": true
   },
   "outputs": [],
   "source": [
    "WT=WT.field"
   ]
  },
  {
   "cell_type": "code",
   "execution_count": 258,
   "metadata": {
    "collapsed": true
   },
   "outputs": [],
   "source": [
    "KS_H =PP('./PP/KS/2.84/H.pp').read()\n",
    "KS_XC=PP('./PP/KS/2.84/XC.pp').read()\n",
    "KS_ion=PP('./PP/KS/2.84/Vloc.pp').read()"
   ]
  },
  {
   "cell_type": "code",
   "execution_count": 259,
   "metadata": {
    "collapsed": true
   },
   "outputs": [],
   "source": [
    "#WGC_r_e =PP('./PP/WGC_KS/pot_eff.pp').read()\n",
    "WGC =PP('./PP/WGC_KS/pot_ke.pp').read()\n",
    "WGC=WGC.field"
   ]
  },
  {
   "cell_type": "code",
   "execution_count": 260,
   "metadata": {
    "collapsed": true
   },
   "outputs": [],
   "source": [
    "#LDA_r_e = PP('./PP/WTLDA_KS/pot_eff.pp').read()\n",
    "LDA  = PP('./PP/WTLDA_KS/2.84/pot_ke.pp').read()\n",
    "LDA=LDA.field"
   ]
  },
  {
   "cell_type": "code",
   "execution_count": 261,
   "metadata": {
    "collapsed": true
   },
   "outputs": [],
   "source": [
    "LDA0 =PP('./PP/WTLDA0_KS/pot_ke.pp').read()\n",
    "LDA0=LDA0.field"
   ]
  },
  {
   "cell_type": "code",
   "execution_count": 262,
   "metadata": {
    "collapsed": true
   },
   "outputs": [],
   "source": [
    "rho=PP('PP/KS/2.84/rho.pp').read()\n",
    "rho=rho.field"
   ]
  },
  {
   "cell_type": "code",
   "execution_count": 172,
   "metadata": {
    "collapsed": true
   },
   "outputs": [],
   "source": [
    "MGP =PP('PP/MGP_KS/2.84/pot_ke.pp').read()\n",
    "MGP=MGP.field"
   ]
  },
  {
   "cell_type": "code",
   "execution_count": 173,
   "metadata": {
    "collapsed": true
   },
   "outputs": [],
   "source": [
    "KGAP4 =PP('PP/KGAP_KS/pot_ke.pp').read()\n",
    "KGAP1=PP('PP/KGAP_KS/2.84/1/pot_ke.pp').read()\n",
    "KGAP10=PP('PP/KGAP_KS/2.84/10/pot_ke.pp').read()\n",
    "KGAP4=KGAP4.field\n",
    "KGAP1=KGAP1.field\n",
    "KGAP10=KGAP10.field"
   ]
  },
  {
   "cell_type": "code",
   "execution_count": 174,
   "metadata": {
    "collapsed": true
   },
   "outputs": [],
   "source": [
    "KS=-(KS_H.field + KS_XC.field + KS_ion.field)/2.0 + 5.3838/27.211396132"
   ]
  },
  {
   "cell_type": "code",
   "execution_count": 41,
   "metadata": {
    "collapsed": true
   },
   "outputs": [],
   "source": [
    "k=[]\n",
    "w=[]\n",
    "c=[]\n",
    "l=[]\n",
    "l0=[]\n",
    "kg1=[]\n",
    "kg4=[]\n",
    "kg10=[]\n",
    "m=[]\n",
    "for i in range(0,36):\n",
    "    k.append(KS[i,i,i,0])\n",
    "    w.append(WT[i,i,i,0])\n",
    "    c.append(WGC[i,i,i,0])\n",
    "    l.append(LDA[i,i,i,0])\n",
    "    kg1.append(KGAP1[i,i,i,0])\n",
    "    kg4.append(KGAP4[i,i,i,0])\n",
    "    kg10.append(KGAP10[i,i,i,0])\n",
    "    l0.append(LDA0[i,i,i,0])\n",
    "    m.append(MGP[i,i,i,0])"
   ]
  },
  {
   "cell_type": "code",
   "execution_count": 42,
   "metadata": {},
   "outputs": [
    {
     "name": "stdout",
     "output_type": "stream",
     "text": [
      "1.14107888221 0.996397346169\n",
      "0.855241434669 0.99782251556\n",
      "1.42261492331 0.995886175934\n",
      "0.764935111877 0.993838182338\n",
      "1.37464814008 0.994447895482\n"
     ]
    }
   ],
   "source": [
    "Ne = rho.integral()\n",
    "#print(Ne)\n",
    "#Ne=1\n",
    "for a in [WT*rho/Ne,WGC*rho/Ne,LDA*rho/Ne,TF*rho/Ne,KGAP4*rho/Ne]:\n",
    "    difference(a,KS*rho/Ne)"
   ]
  },
  {
   "cell_type": "code",
   "execution_count": 43,
   "metadata": {},
   "outputs": [
    {
     "data": {
      "text/plain": [
       "<matplotlib.legend.Legend at 0x10f15ebe0>"
      ]
     },
     "execution_count": 43,
     "metadata": {},
     "output_type": "execute_result"
    },
    {
     "data": {
      "image/png": "[encoded data removed]",
      "text/plain": [
       "<matplotlib.figure.Figure at 0x10e7d7f60>"
      ]
     },
     "metadata": {},
     "output_type": "display_data"
    }
   ],
   "source": [
    "plt.plot(k,label='KS')\n",
    "plt.plot(w,label='WT')\n",
    "plt.plot(c,label='WGC')\n",
    "plt.plot(l,label='LDA')\n",
    "#plt.plot(kg1,label='KGAP1')\n",
    "plt.plot(kg4,label='KGPA4')\n",
    "plt.plot(l0,label='LDA0')\n",
    "#plt.plot(m,label='MGP')\n",
    "plt.legend()"
   ]
  },
  {
   "cell_type": "markdown",
   "metadata": {},
   "source": [
    "# Kinetic electron in real/reciprocal space"
   ]
  },
  {
   "cell_type": "markdown",
   "metadata": {},
   "source": [
    "## Test the pbcpy and ATLAS"
   ]
  },
  {
   "cell_type": "code",
   "execution_count": 114,
   "metadata": {},
   "outputs": [],
   "source": [
    "WGC_KE=PP('/Users/wenhui/Research/Rutgers/ATLAS_MI/Benchmarks/do/Si/Si_WGC/pot_ke.pp').read()\n",
    "WGC_sys=WGC_KE\n",
    "WGC_KE=WGC_KE.field\n",
    "WGC_KE=WGC_KE.fft()"
   ]
  },
  {
   "cell_type": "code",
   "execution_count": 115,
   "metadata": {
    "collapsed": true
   },
   "outputs": [],
   "source": [
    "gg=WGC_sys.field.grid.get_reciprocal().gg"
   ]
  },
  {
   "cell_type": "code",
   "execution_count": 135,
   "metadata": {
    "collapsed": true
   },
   "outputs": [],
   "source": [
    "WGC_g=WGC_KE*gg "
   ]
  },
  {
   "cell_type": "code",
   "execution_count": 136,
   "metadata": {},
   "outputs": [],
   "source": [
    "WGC_g=np.abs(WGC_g)"
   ]
  },
  {
   "cell_type": "code",
   "execution_count": 137,
   "metadata": {
    "collapsed": true
   },
   "outputs": [],
   "source": [
    "WGC_r_atlas=PP('/Users/wenhui/Research/Rutgers/ATLAS_MI/Benchmarks/do/Si/Si_WGC/pot_KE_r.pp').read()"
   ]
  },
  {
   "cell_type": "code",
   "execution_count": 138,
   "metadata": {},
   "outputs": [],
   "source": [
    "WGC_r_atlas=WGC_r_atlas.field.fft()*4.0*np.pi\n",
    "WGC_r_atlas=np.abs(WGC_r_atlas)"
   ]
  },
  {
   "cell_type": "code",
   "execution_count": 139,
   "metadata": {
    "collapsed": true
   },
   "outputs": [],
   "source": [
    "g=gg**(0.5)"
   ]
  },
  {
   "cell_type": "code",
   "execution_count": 140,
   "metadata": {},
   "outputs": [
    {
     "data": {
      "text/plain": [
       "<matplotlib.legend.Legend at 0x1105a86d8>"
      ]
     },
     "execution_count": 140,
     "metadata": {},
     "output_type": "execute_result"
    },
    {
     "data": {
      "image/png": "[encoded data removed]",
      "text/plain": [
       "<matplotlib.figure.Figure at 0x110c69358>"
      ]
     },
     "metadata": {},
     "output_type": "display_data"
    }
   ],
   "source": [
    "p1=plt.scatter(g,WGC_g)\n",
    "p2=plt.scatter(g,WGC_r_atlas)\n",
    "plt.legend((p1,p2),(u'pbc',u'atlas'))"
   ]
  },
  {
   "cell_type": "code",
   "execution_count": 141,
   "metadata": {},
   "outputs": [
    {
     "data": {
      "image/png": "[encoded data removed]",
      "text/plain": [
       "<matplotlib.figure.Figure at 0x10c316128>"
      ]
     },
     "metadata": {},
     "output_type": "display_data"
    }
   ],
   "source": [
    "p2=plt.scatter(g,WGC_r_atlas-WGC_g)"
   ]
  },
  {
   "cell_type": "markdown",
   "metadata": {},
   "source": [
    "# Anylysis the KS/OF-DFT results"
   ]
  },
  {
   "cell_type": "code",
   "execution_count": 178,
   "metadata": {},
   "outputs": [],
   "source": [
    "KS_KE_g=KS.fft()\n",
    "KS_KE_g= KS_KE_g *gg\n",
    "KS_KE_g=np.abs(KS_KE_g)"
   ]
  },
  {
   "cell_type": "code",
   "execution_count": 184,
   "metadata": {
    "collapsed": true
   },
   "outputs": [],
   "source": [
    "def rho_KE(pot):\n",
    "    rho_KE = pot.field.fft()\n",
    "    gg= pot.field.grid.get_reciprocal().gg\n",
    "    rho_KE=rho_KE*gg\n",
    "    rho_KE=np.abs(rho_KE)\n",
    "    return rho_KE   "
   ]
  },
  {
   "cell_type": "code",
   "execution_count": 222,
   "metadata": {},
   "outputs": [],
   "source": [
    "WT_r =PP('/Users/wenhui/Research/Rutgers/ATLAS_MI/Benchmarks/do/Si/Si_WT/pot_ke.pp').read()\n",
    "WGC_r =PP('/Users/wenhui/Research/Rutgers/ATLAS_MI/Benchmarks/do/Si/Si_WGC/pot_ke.pp').read()\n",
    "KGAP_r=PP('/Users/wenhui/Research/Rutgers/ATLAS_MI/Benchmarks/do/Si/Si_Kgap//pot_ke.pp').read()\n",
    "LDA_r=PP('/Users/wenhui/Research/Rutgers/ATLAS_MI/Benchmarks/do/Si/Si_LDA//pot_ke.pp').read()"
   ]
  },
  {
   "cell_type": "code",
   "execution_count": 223,
   "metadata": {},
   "outputs": [],
   "source": [
    "WGC_KE_g=rho_KE(WGC_r)\n",
    "WT_KE_g=rho_KE(WT_r)\n",
    "KGAP_KE_g=rho_KE(KGAP_r)\n",
    "LDA_KE_g=rho_KE(LDA_r)"
   ]
  },
  {
   "cell_type": "code",
   "execution_count": 224,
   "metadata": {},
   "outputs": [
    {
     "data": {
      "text/plain": [
       "<matplotlib.legend.Legend at 0x117442080>"
      ]
     },
     "execution_count": 224,
     "metadata": {},
     "output_type": "execute_result"
    },
    {
     "data": {
      "image/png": "[encoded data removed]",
      "text/plain": [
       "<matplotlib.figure.Figure at 0x1175c2518>"
      ]
     },
     "metadata": {},
     "output_type": "display_data"
    }
   ],
   "source": [
    "p1=plt.scatter(g,KS_KE_g,alpha=0.9,marker='x',s=14.0)\n",
    "p2=plt.scatter(g,WT_KE_g,s=12.0)\n",
    "p3=plt.scatter(g,WGC_KE_g,s=12.0)\n",
    "p4=plt.scatter(g,KGAP_KE_g,s=12.0)\n",
    "p5=plt.scatter(g,LDA_KE_g,s=12.0)\n",
    "\n",
    "plt.xlim([0,15])\n",
    "plt.legend((p1,p2,p3,p4,p5),(u'KS',u'WT',u'WGC',u'KGAP',u'LDA'))\n"
   ]
  },
  {
   "cell_type": "markdown",
   "metadata": {},
   "source": [
    "# SC Silicon"
   ]
  },
  {
   "cell_type": "code",
   "execution_count": 225,
   "metadata": {},
   "outputs": [
    {
     "data": {
      "text/plain": [
       "5.002767235497082"
      ]
     },
     "execution_count": 225,
     "metadata": {},
     "output_type": "execute_result"
    }
   ],
   "source": [
    "125.207657547356**(1.0/3.0)"
   ]
  },
  {
   "cell_type": "code",
   "execution_count": 226,
   "metadata": {},
   "outputs": [
    {
     "data": {
      "text/plain": [
       "2.647350400992845"
      ]
     },
     "execution_count": 226,
     "metadata": {},
     "output_type": "execute_result"
    }
   ],
   "source": [
    "5.002767235497082*0.529177208607388"
   ]
  },
  {
   "cell_type": "markdown",
   "metadata": {},
   "source": [
    "### Fermi energy =7.4126 eV"
   ]
  },
  {
   "cell_type": "code",
   "execution_count": 308,
   "metadata": {
    "collapsed": true
   },
   "outputs": [],
   "source": [
    "H=PP('/Users/wenhui/Research/Rutgers/ATLAS_MI/Benchmarks/do/Si/SC/Si_TF/pot_H.pp').read()\n",
    "H=H.field"
   ]
  },
  {
   "cell_type": "code",
   "execution_count": 309,
   "metadata": {
    "collapsed": true
   },
   "outputs": [],
   "source": [
    "XC=PP('/Users/wenhui/Research/Rutgers/ATLAS_MI/Benchmarks/do/Si/SC/Si_TF/pot_XC.pp').read()\n",
    "XC=XC.field"
   ]
  },
  {
   "cell_type": "code",
   "execution_count": 310,
   "metadata": {
    "collapsed": true
   },
   "outputs": [],
   "source": [
    "Loc=PP('/Users/wenhui/Research/Rutgers/ATLAS_MI/Benchmarks/do/Si/SC/Si_TF/pot_ion.pp').read()\n",
    "Loc=Loc.field"
   ]
  },
  {
   "cell_type": "code",
   "execution_count": 311,
   "metadata": {
    "collapsed": true
   },
   "outputs": [],
   "source": [
    "KS_SC=-0.5*(H + XC + Loc) + 7.4126/27.211396132"
   ]
  },
  {
   "cell_type": "code",
   "execution_count": 312,
   "metadata": {
    "collapsed": true
   },
   "outputs": [],
   "source": [
    "gg=H.grid.get_reciprocal().gg\n",
    "KS_SC_g = KS_SC.fft()\n",
    "KS_SC_g = np.abs(KS_SC_g * gg)\n",
    "g=gg**0.5"
   ]
  },
  {
   "cell_type": "code",
   "execution_count": 313,
   "metadata": {
    "collapsed": true
   },
   "outputs": [],
   "source": [
    "def rho_KE(pot):\n",
    "    rho_KE = pot.field.fft()\n",
    "    gg= pot.field.grid.get_reciprocal().gg\n",
    "    rho_KE=rho_KE*gg\n",
    "    rho_KE=np.abs(rho_KE)\n",
    "    return rho_KE "
   ]
  },
  {
   "cell_type": "code",
   "execution_count": 314,
   "metadata": {},
   "outputs": [],
   "source": [
    "WGC =PP('/Users/wenhui/Research/Rutgers/ATLAS_MI/Benchmarks/do/Si/SC/Si_WGC/pot_ke.pp').read()\n",
    "WT =PP('/Users/wenhui/Research/Rutgers/ATLAS_MI/Benchmarks/do/Si/SC/Si_WT/pot_ke.pp').read()\n",
    "LDA= PP('/Users/wenhui/Research/Rutgers/ATLAS_MI/Benchmarks/do/Si/SC/Si_LDA/pot_ke.pp').read()\n",
    "KGAP = PP('/Users/wenhui/Research/Rutgers/ATLAS_MI/Benchmarks/do/Si/SC/Si_Kgap/pot_ke.pp').read()"
   ]
  },
  {
   "cell_type": "code",
   "execution_count": 315,
   "metadata": {
    "collapsed": true
   },
   "outputs": [],
   "source": [
    "WGC_g=rho_KE(WGC)\n",
    "WT_g=rho_KE(WT)\n",
    "LDA_g=rho_KE(LDA)\n",
    "KGAP_g=rho_KE(KGAP)"
   ]
  },
  {
   "cell_type": "code",
   "execution_count": 316,
   "metadata": {},
   "outputs": [],
   "source": [
    "WGC=WGC.field\n",
    "WT=WT.field\n",
    "LDA=LDA.field\n",
    "KGAP=KGAP.field"
   ]
  },
  {
   "cell_type": "code",
   "execution_count": 317,
   "metadata": {
    "collapsed": true
   },
   "outputs": [],
   "source": [
    "k=[]\n",
    "w=[]\n",
    "c=[]\n",
    "l=[]\n",
    "g=[]\n",
    "for i in range(0,24):\n",
    "    k.append(KS_SC[i,i,i,0])\n",
    "    w.append(WT[i,i,i,0])\n",
    "    c.append(WGC[i,i,i,0])\n",
    "    l.append(LDA[i,i,i,0])\n",
    "    g.append(KGAP[i,i,i,0])\n",
    "\n",
    "k = np.asarray(k,dtype=np.float)\n",
    "w = np.asarray(w,dtype=np.float)\n",
    "c = np.asarray(c,dtype=np.float)\n",
    "l = np.asarray(l,dtype=np.float)\n",
    "g = np.asarray(l,dtype=np.float)"
   ]
  },
  {
   "cell_type": "code",
   "execution_count": 318,
   "metadata": {},
   "outputs": [
    {
     "data": {
      "text/plain": [
       "<matplotlib.legend.Legend at 0x118e18ef0>"
      ]
     },
     "execution_count": 318,
     "metadata": {},
     "output_type": "execute_result"
    },
    {
     "data": {
      "image/png": "[encoded data removed]",
      "text/plain": [
       "<matplotlib.figure.Figure at 0x118d86978>"
      ]
     },
     "metadata": {},
     "output_type": "display_data"
    }
   ],
   "source": [
    "plt.plot(k,label='KS')\n",
    "plt.plot(w,label='WT')\n",
    "plt.plot(c,label='WGC')\n",
    "plt.plot(l,label='LDA')\n",
    "plt.plot(g,label='Kgap')\n",
    "plt.legend()"
   ]
  },
  {
   "cell_type": "code",
   "execution_count": null,
   "metadata": {
    "collapsed": true
   },
   "outputs": [],
   "source": []
  },
  {
   "cell_type": "code",
   "execution_count": 320,
   "metadata": {},
   "outputs": [
    {
     "ename": "ValueError",
     "evalue": "x and y must be the same size",
     "output_type": "error",
     "traceback": [
      "\u001b[0;31m---------------------------------------------------------------------------\u001b[0m",
      "\u001b[0;31mValueError\u001b[0m                                Traceback (most recent call last)",
      "\u001b[0;32m<ipython-input-320-803d35ddd9a7>\u001b[0m in \u001b[0;36m<module>\u001b[0;34m()\u001b[0m\n\u001b[1;32m      1\u001b[0m \u001b[0;31m#p1=plt.scatter(g,KS_SC_g,alpha=0.9,marker='x',s=14.0)\u001b[0m\u001b[0;34m\u001b[0m\u001b[0;34m\u001b[0m\u001b[0m\n\u001b[0;32m----> 2\u001b[0;31m \u001b[0mp2\u001b[0m\u001b[0;34m=\u001b[0m\u001b[0mplt\u001b[0m\u001b[0;34m.\u001b[0m\u001b[0mscatter\u001b[0m\u001b[0;34m(\u001b[0m\u001b[0mg\u001b[0m\u001b[0;34m,\u001b[0m\u001b[0mWGC_g\u001b[0m\u001b[0;34m,\u001b[0m\u001b[0ms\u001b[0m\u001b[0;34m=\u001b[0m\u001b[0;36m12.0\u001b[0m\u001b[0;34m)\u001b[0m\u001b[0;34m\u001b[0m\u001b[0m\n\u001b[0m\u001b[1;32m      3\u001b[0m \u001b[0mp3\u001b[0m\u001b[0;34m=\u001b[0m\u001b[0mplt\u001b[0m\u001b[0;34m.\u001b[0m\u001b[0mscatter\u001b[0m\u001b[0;34m(\u001b[0m\u001b[0mg\u001b[0m\u001b[0;34m,\u001b[0m\u001b[0mWT_g\u001b[0m\u001b[0;34m,\u001b[0m\u001b[0ms\u001b[0m\u001b[0;34m=\u001b[0m\u001b[0;36m12.0\u001b[0m\u001b[0;34m)\u001b[0m\u001b[0;34m\u001b[0m\u001b[0m\n\u001b[1;32m      4\u001b[0m \u001b[0;31m#p4=plt.scatter(g,LDA_g,s=12.0)\u001b[0m\u001b[0;34m\u001b[0m\u001b[0;34m\u001b[0m\u001b[0m\n\u001b[1;32m      5\u001b[0m \u001b[0;34m\u001b[0m\u001b[0m\n",
      "\u001b[0;32m/Users/wenhui/anaconda/lib/python3.6/site-packages/matplotlib/pyplot.py\u001b[0m in \u001b[0;36mscatter\u001b[0;34m(x, y, s, c, marker, cmap, norm, vmin, vmax, alpha, linewidths, verts, edgecolors, hold, data, **kwargs)\u001b[0m\n\u001b[1;32m   3432\u001b[0m                          \u001b[0mvmin\u001b[0m\u001b[0;34m=\u001b[0m\u001b[0mvmin\u001b[0m\u001b[0;34m,\u001b[0m \u001b[0mvmax\u001b[0m\u001b[0;34m=\u001b[0m\u001b[0mvmax\u001b[0m\u001b[0;34m,\u001b[0m \u001b[0malpha\u001b[0m\u001b[0;34m=\u001b[0m\u001b[0malpha\u001b[0m\u001b[0;34m,\u001b[0m\u001b[0;34m\u001b[0m\u001b[0m\n\u001b[1;32m   3433\u001b[0m                          \u001b[0mlinewidths\u001b[0m\u001b[0;34m=\u001b[0m\u001b[0mlinewidths\u001b[0m\u001b[0;34m,\u001b[0m \u001b[0mverts\u001b[0m\u001b[0;34m=\u001b[0m\u001b[0mverts\u001b[0m\u001b[0;34m,\u001b[0m\u001b[0;34m\u001b[0m\u001b[0m\n\u001b[0;32m-> 3434\u001b[0;31m                          edgecolors=edgecolors, data=data, **kwargs)\n\u001b[0m\u001b[1;32m   3435\u001b[0m     \u001b[0;32mfinally\u001b[0m\u001b[0;34m:\u001b[0m\u001b[0;34m\u001b[0m\u001b[0m\n\u001b[1;32m   3436\u001b[0m         \u001b[0max\u001b[0m\u001b[0;34m.\u001b[0m\u001b[0m_hold\u001b[0m \u001b[0;34m=\u001b[0m \u001b[0mwashold\u001b[0m\u001b[0;34m\u001b[0m\u001b[0m\n",
      "\u001b[0;32m/Users/wenhui/anaconda/lib/python3.6/site-packages/matplotlib/__init__.py\u001b[0m in \u001b[0;36minner\u001b[0;34m(ax, *args, **kwargs)\u001b[0m\n\u001b[1;32m   1896\u001b[0m                     warnings.warn(msg % (label_namer, func.__name__),\n\u001b[1;32m   1897\u001b[0m                                   RuntimeWarning, stacklevel=2)\n\u001b[0;32m-> 1898\u001b[0;31m             \u001b[0;32mreturn\u001b[0m \u001b[0mfunc\u001b[0m\u001b[0;34m(\u001b[0m\u001b[0max\u001b[0m\u001b[0;34m,\u001b[0m \u001b[0;34m*\u001b[0m\u001b[0margs\u001b[0m\u001b[0;34m,\u001b[0m \u001b[0;34m**\u001b[0m\u001b[0mkwargs\u001b[0m\u001b[0;34m)\u001b[0m\u001b[0;34m\u001b[0m\u001b[0m\n\u001b[0m\u001b[1;32m   1899\u001b[0m         \u001b[0mpre_doc\u001b[0m \u001b[0;34m=\u001b[0m \u001b[0minner\u001b[0m\u001b[0;34m.\u001b[0m\u001b[0m__doc__\u001b[0m\u001b[0;34m\u001b[0m\u001b[0m\n\u001b[1;32m   1900\u001b[0m         \u001b[0;32mif\u001b[0m \u001b[0mpre_doc\u001b[0m \u001b[0;32mis\u001b[0m \u001b[0;32mNone\u001b[0m\u001b[0;34m:\u001b[0m\u001b[0;34m\u001b[0m\u001b[0m\n",
      "\u001b[0;32m/Users/wenhui/anaconda/lib/python3.6/site-packages/matplotlib/axes/_axes.py\u001b[0m in \u001b[0;36mscatter\u001b[0;34m(self, x, y, s, c, marker, cmap, norm, vmin, vmax, alpha, linewidths, verts, edgecolors, **kwargs)\u001b[0m\n\u001b[1;32m   3962\u001b[0m         \u001b[0my\u001b[0m \u001b[0;34m=\u001b[0m \u001b[0mnp\u001b[0m\u001b[0;34m.\u001b[0m\u001b[0mma\u001b[0m\u001b[0;34m.\u001b[0m\u001b[0mravel\u001b[0m\u001b[0;34m(\u001b[0m\u001b[0my\u001b[0m\u001b[0;34m)\u001b[0m\u001b[0;34m\u001b[0m\u001b[0m\n\u001b[1;32m   3963\u001b[0m         \u001b[0;32mif\u001b[0m \u001b[0mx\u001b[0m\u001b[0;34m.\u001b[0m\u001b[0msize\u001b[0m \u001b[0;34m!=\u001b[0m \u001b[0my\u001b[0m\u001b[0;34m.\u001b[0m\u001b[0msize\u001b[0m\u001b[0;34m:\u001b[0m\u001b[0;34m\u001b[0m\u001b[0m\n\u001b[0;32m-> 3964\u001b[0;31m             \u001b[0;32mraise\u001b[0m \u001b[0mValueError\u001b[0m\u001b[0;34m(\u001b[0m\u001b[0;34m\"x and y must be the same size\"\u001b[0m\u001b[0;34m)\u001b[0m\u001b[0;34m\u001b[0m\u001b[0m\n\u001b[0m\u001b[1;32m   3965\u001b[0m \u001b[0;34m\u001b[0m\u001b[0m\n\u001b[1;32m   3966\u001b[0m         \u001b[0;32mif\u001b[0m \u001b[0ms\u001b[0m \u001b[0;32mis\u001b[0m \u001b[0;32mNone\u001b[0m\u001b[0;34m:\u001b[0m\u001b[0;34m\u001b[0m\u001b[0m\n",
      "\u001b[0;31mValueError\u001b[0m: x and y must be the same size"
     ]
    },
    {
     "data": {
      "image/png": "[encoded data removed]",
      "text/plain": [
       "<matplotlib.figure.Figure at 0x118d1eda0>"
      ]
     },
     "metadata": {},
     "output_type": "display_data"
    }
   ],
   "source": [
    "#p1=plt.scatter(g,KS_SC_g,alpha=0.9,marker='x',s=14.0)\n",
    "p2=plt.scatter(g,WGC_g,s=12.0)\n",
    "p3=plt.scatter(g,WT_g,s=12.0)\n",
    "#p4=plt.scatter(g,LDA_g,s=12.0)\n",
    "\n",
    "#plt.xlim([0,15])\n",
    "#plt.legend((p1,p2,p3,p4),(u'KS',u'WGC',u'WT',u'LDA'))"
   ]
  },
  {
   "cell_type": "markdown",
   "metadata": {},
   "source": [
    "#  New"
   ]
  },
  {
   "cell_type": "code",
   "execution_count": null,
   "metadata": {
    "collapsed": true
   },
   "outputs": [],
   "source": []
  },
  {
   "cell_type": "code",
   "execution_count": 207,
   "metadata": {},
   "outputs": [
    {
     "ename": "AttributeError",
     "evalue": "'DirectField' object has no attribute 'field'",
     "output_type": "error",
     "traceback": [
      "\u001b[0;31m---------------------------------------------------------------------------\u001b[0m",
      "\u001b[0;31mAttributeError\u001b[0m                            Traceback (most recent call last)",
      "\u001b[0;32m<ipython-input-207-5503fdec4e62>\u001b[0m in \u001b[0;36m<module>\u001b[0;34m()\u001b[0m\n\u001b[0;32m----> 1\u001b[0;31m \u001b[0mMGP\u001b[0m\u001b[0;34m=\u001b[0m\u001b[0mMGP\u001b[0m\u001b[0;34m.\u001b[0m\u001b[0mfield\u001b[0m\u001b[0;34m\u001b[0m\u001b[0m\n\u001b[0m",
      "\u001b[0;31mAttributeError\u001b[0m: 'DirectField' object has no attribute 'field'"
     ]
    }
   ],
   "source": [
    "MGP=MGP.field"
   ]
  },
  {
   "cell_type": "code",
   "execution_count": null,
   "metadata": {
    "collapsed": true
   },
   "outputs": [],
   "source": [
    "nnr=36*36*36\n",
    "KS=KS.reshape(nnr)\n",
    "WT=WT.reshape(nnr)\n",
    "WGC=WGC.reshape(nnr)\n",
    "LDA=LDA.reshape(nnr)\n",
    "LDA0=LDA0.reshape(nnr)\n",
    "rho=rho.reshape(nnr)"
   ]
  },
  {
   "cell_type": "code",
   "execution_count": null,
   "metadata": {
    "collapsed": true
   },
   "outputs": [],
   "source": [
    "MGP=MGP.reshape(nnr)\n",
    "KGAP=KGAP.reshape(nnr)\n",
    "KGAP1=KGAP1.reshape(nnr)\n",
    "KGAP10=KGAP10.reshape(nnr)"
   ]
  },
  {
   "cell_type": "code",
   "execution_count": null,
   "metadata": {},
   "outputs": [],
   "source": [
    "p1=plt.scatter(KS,KS)\n",
    "p2 =plt.scatter(KS,WT)\n",
    "p3 =plt.scatter(KS,WGC)\n",
    "p4 =plt.scatter(KS,LDA)\n",
    "p5= plt.scatter(KS,KGAP1)\n",
    "p6= plt.scatter(KS,KGAP10)\n",
    "p7=plt.scatter(KS,KGAP)\n",
    "plt.legend((p1,p2,p3,p4,p5,p6,p7),(u'KS',u'WT',u'KGAP1',u'KGAP4'))"
   ]
  },
  {
   "cell_type": "code",
   "execution_count": null,
   "metadata": {},
   "outputs": [],
   "source": [
    "p1=plt.scatter(rho,KS)\n",
    "p2 =plt.scatter(rho,WT)\n",
    "p3 =plt.scatter(rho,WGC)\n",
    "p4= plt.scatter(rho,rho*20)\n",
    "p5 =plt.scatter(rho,KGAP)\n",
    "plt.legend((p1,p2,p3,p4,p5),(u'KS',u'WT',u'WGC',u'rho',u'KGAP'))"
   ]
  },
  {
   "cell_type": "code",
   "execution_count": null,
   "metadata": {
    "collapsed": true
   },
   "outputs": [],
   "source": [
    "df = pd.DataFrame({'KS':KS,\n",
    "     'WT':WT,\n",
    "     'WTLDA':WTLDA,\n",
    "     'WGC':WGC,\n",
    "      'WTLDA0':WTLDA,\n",
    "      'KGAP':KGAP,\n",
    "       'KGAP1':KGAP1,\n",
    "        'KGAP10':KGAP10}\n",
    "                 )"
   ]
  },
  {
   "cell_type": "code",
   "execution_count": null,
   "metadata": {},
   "outputs": [],
   "source": [
    "df.corr()"
   ]
  },
  {
   "cell_type": "code",
   "execution_count": null,
   "metadata": {},
   "outputs": [],
   "source": [
    "#plt.plot(WT_EFF[:,18,0,0],label='WT_eff')\n",
    "#plt.plot(v_Ts[:,0,0,0]-5.3838/27.211396132,label='KS')\n",
    "#plt.plot(WGC_EFF[:,0,0,0],label='WGC_eff')\n",
    "#plt.plot(WTLDA_EFF[:,0,0,0],label='WTLDA_eff')\n",
    "#plt.legend()\n",
    "#plt.ylabel('Potential (a.u)')\n",
    "#plt.savefig(\"Eff_KS.png\")\n",
    "#plt.show()"
   ]
  },
  {
   "cell_type": "code",
   "execution_count": null,
   "metadata": {
    "collapsed": true
   },
   "outputs": [],
   "source": []
  },
  {
   "cell_type": "code",
   "execution_count": null,
   "metadata": {
    "collapsed": true
   },
   "outputs": [],
   "source": [
    "#WT_EFF =(-WT_r_e.field -v_Ts)*27.2119+5.3838\n",
    "#WT_KE =(WT_r.field -v_Ts)*27.2119\n",
    "#WGC_EFF =(-WGC_r_e.field-v_Ts)*27.2119+5.3838\n",
    "#WGC_KE =(WGC_r.field-v_Ts)*27.2119\n",
    "#WTLDA_EFF =(-LDA_r_e.field-v_Ts)*27.2119+5.3838\n",
    "#WTLDA_KE = (LDA_r.field-v_Ts)*27.2119"
   ]
  },
  {
   "cell_type": "code",
   "execution_count": null,
   "metadata": {},
   "outputs": [],
   "source": [
    "#plt.plot(WT_KE[:,18,18,0],label='WT')\n",
    "#plt.plot(WGC_KE[:,18,18,0],label='WGC')\n",
    "#plt.plot(WTLDA_KE[:,18,18,0],label='WTLDA')\n",
    "#plt.legend()\n",
    "#plt.ylabel('$V_{KEDF}-V_{KS}$ (eV)')\n",
    "#plt.savefig(\"Diff_KEDF_KS.png\")\n",
    "#plt.show()"
   ]
  },
  {
   "cell_type": "code",
   "execution_count": null,
   "metadata": {},
   "outputs": [],
   "source": [
    "#plt.plot(WT_EFF[:,0,0,0],label='WT_eff')\n",
    "#plt.plot(WGC_EFF[:,0,0,0],label='WGC_eff')\n",
    "#plt.plot(WTLDA_EFF[:,0,0,0],label='WTLDA_eff')\n",
    "#plt.legend()\n",
    "#plt.ylabel('$V_{eff}(KEDF)-V_{KS}$ (eV)')\n",
    "#plt.savefig(\"Diff_Eff_KS.png\")\n",
    "#plt.show()"
   ]
  },
  {
   "cell_type": "markdown",
   "metadata": {},
   "source": [
    "#  Exchange hole function"
   ]
  },
  {
   "cell_type": "code",
   "execution_count": null,
   "metadata": {
    "collapsed": true
   },
   "outputs": [],
   "source": [
    "def Xhole(y):\n",
    "    A=0.59\n",
    "    B=-0.54354\n",
    "    C=0.027678\n",
    "    D=0.18843\n",
    "    fun=-A/y**2/(1+(4.0/9.0)*A*y**2) + (A/y**2+B +C*y**2)* np.exp(-D*y**2)\n",
    "    return fun\n"
   ]
  },
  {
   "cell_type": "code",
   "execution_count": null,
   "metadata": {},
   "outputs": [],
   "source": [
    "x=np.linspace(0.001,8,800)\n",
    "p1=plt.plot(x,x*Xhole(x))\n",
    "#p2=plt.plot(x,-1/(x*Xhole(x)))\n",
    "plt.show()"
   ]
  },
  {
   "cell_type": "markdown",
   "metadata": {},
   "source": [
    "## Reading files for non-SCF benchmarks with A=3.2"
   ]
  },
  {
   "cell_type": "code",
   "execution_count": null,
   "metadata": {
    "collapsed": true
   },
   "outputs": [],
   "source": []
  },
  {
   "cell_type": "code",
   "execution_count": null,
   "metadata": {
    "collapsed": true
   },
   "outputs": [],
   "source": [
    "WT_r   = PP('./PP/WT_KS/3.2/pot_ke.pp').read()\n",
    "WGC_r  =PP('./PP/WGC_KS/3.2/pot_ke.pp').read()\n",
    "LDA_r   =PP('./PP/WTLDA_KS/3.2/pot_ke.pp').read()\n",
    "KS_H = PP('PP/KS/3.2/H.pp').read()\n",
    "KS_XC =PP('./PP/KS/3.2/XC.pp').read()\n",
    "KS_loc= PP('./PP/KS/3.2/vloc.pp').read()"
   ]
  },
  {
   "cell_type": "code",
   "execution_count": null,
   "metadata": {
    "collapsed": true
   },
   "outputs": [],
   "source": [
    "WT =WT_r.field\n",
    "WGC =WGC_r.field\n",
    "LDA =LDA_r.field\n",
    "KS =2.3360/27.2119 - KS_H.field/2 -KS_XC.field/2 -KS_loc.field/2"
   ]
  },
  {
   "cell_type": "code",
   "execution_count": null,
   "metadata": {
    "collapsed": true
   },
   "outputs": [],
   "source": [
    "t=0\n",
    "x=[]\n",
    "y=[]\n",
    "z=[]\n",
    "m=[]\n",
    "for i in range(0,40):\n",
    "    for j in range(0,40):\n",
    "        for k in range(0,40):\n",
    "            x.append(KS[i,j,k,0])\n",
    "            y.append(WT[i,j,k,0])\n",
    "            z.append(WGC[i,j,k,0])\n",
    "            m.append(LDA[i,j,k,0])"
   ]
  },
  {
   "cell_type": "code",
   "execution_count": null,
   "metadata": {
    "collapsed": true
   },
   "outputs": [],
   "source": [
    "x_michele = KS.reshape(KS.grid.nnr)"
   ]
  },
  {
   "cell_type": "code",
   "execution_count": null,
   "metadata": {
    "collapsed": true
   },
   "outputs": [],
   "source": [
    "x_orig = np.asarray(x,dtype=np.float)"
   ]
  },
  {
   "cell_type": "code",
   "execution_count": null,
   "metadata": {},
   "outputs": [],
   "source": [
    "x_michele - x_orig"
   ]
  },
  {
   "cell_type": "code",
   "execution_count": null,
   "metadata": {},
   "outputs": [],
   "source": [
    "\n",
    "p1=plt.scatter(x,x)\n",
    "p2=plt.scatter(x,y)\n",
    "p3=plt.scatter(x,z)\n",
    "p4=plt.scatter(x,m)\n",
    "plt.legend((p1,p2,p3,p4),(u'KS',u'WT',u'WGC',u'WTLDA'))"
   ]
  },
  {
   "cell_type": "code",
   "execution_count": null,
   "metadata": {
    "collapsed": true
   },
   "outputs": [],
   "source": [
    "df = pd.DataFrame({'KS':x,\n",
    "     'WT':y,\n",
    "     'WGC':z,\n",
    "     'WTLDA':m})"
   ]
  },
  {
   "cell_type": "code",
   "execution_count": null,
   "metadata": {},
   "outputs": [],
   "source": [
    "df.corr()"
   ]
  },
  {
   "cell_type": "code",
   "execution_count": null,
   "metadata": {
    "collapsed": true
   },
   "outputs": [],
   "source": [
    "rho=PP('./PP/KS/3.2/rho.pp').read()"
   ]
  },
  {
   "cell_type": "code",
   "execution_count": null,
   "metadata": {
    "collapsed": true
   },
   "outputs": [],
   "source": [
    "rho=rho.field"
   ]
  },
  {
   "cell_type": "code",
   "execution_count": null,
   "metadata": {
    "collapsed": true
   },
   "outputs": [],
   "source": [
    "n=[]\n",
    "for i in range(0,40):\n",
    "    for j in range(0,40):\n",
    "        for k in range(0,40):\n",
    "            n.append(rho[i,j,k,0]*20)"
   ]
  },
  {
   "cell_type": "code",
   "execution_count": null,
   "metadata": {},
   "outputs": [],
   "source": [
    "p1=plt.scatter(x,x)\n",
    "p2=plt.scatter(x,y)\n",
    "p3=plt.scatter(x,z)\n",
    "p4=plt.scatter(x,m)\n",
    "p5=plt.scatter(x,n)\n",
    "plt.legend((p1,p2,p3,p4,p5),(u'KS',u'WT',u'WGC',u'WTLDA',u'rho'))"
   ]
  },
  {
   "cell_type": "code",
   "execution_count": null,
   "metadata": {},
   "outputs": [],
   "source": [
    "p1=plt.scatter(n,n)\n",
    "p2=plt.scatter(n,x)\n",
    "p3=plt.scatter(n,y)\n",
    "p4=plt.scatter(n,z)\n",
    "p5=plt.scatter(n,m)\n",
    "plt.legend((p1,p2,p3,p4,p5),(u'rho',u'KS',u'WT',u'WGC',u'WTLDA'))"
   ]
  },
  {
   "cell_type": "markdown",
   "metadata": {},
   "source": [
    "#  Reading files for non-SCF benchmarks with A=2.0"
   ]
  },
  {
   "cell_type": "code",
   "execution_count": null,
   "metadata": {
    "collapsed": true
   },
   "outputs": [],
   "source": [
    "WT_r   = PP('./PP/WT_KS/2.0/pot_ke.pp').read()\n",
    "WGC_r  =PP('./PP/WGC_KS/2.0/pot_ke.pp').read()\n",
    "LDA_r   =PP('./PP/WTLDA_KS/2.0//pot_ke.pp').read()\n",
    "KS_H = PP('./PP/KS/2.0/H.pp').read()\n",
    "KS_XC =PP('./PP/KS/2.0/XC.pp').read()\n",
    "KS_loc= PP('./PP/KS/2.0/vloc.pp').read()\n",
    "rho=PP('./PP/KS/2.0/rho.pp').read()\n",
    "S2=PP('./PP/WTLDA_KS/S2/pot_ke.pp').read()\n",
    "P2=PP('./PP/WTLDA_KS/P2/pot_ke.pp').read()\n",
    "S0=PP('./PP/WTLDA_KS/S2/pot_ke0.pp').read()\n",
    "MGP=PP('./PP/MGP_KS/2.0/5_5/pot_ke.pp').read()\n",
    "MGP8=PP('./PP/MGP_KS/2.0/8_8/pot_ke.pp').read()\n",
    "MGP2=PP('./PP/MGP_KS/2.0/2_2/pot_ke.pp').read()\n",
    "MGP5e=PP('./PP/MGP_KS/2.0/5_5_eta/pot_ke.pp').read()\n",
    "MGP5k=PP('./PP/MGP_KS/2.0/5_5k/pot_ke.pp').read()\n",
    "MGP5kn=PP('./PP/MGP_KS/2.0/5_5kn/pot_ke.pp').read()"
   ]
  },
  {
   "cell_type": "code",
   "execution_count": null,
   "metadata": {
    "collapsed": true
   },
   "outputs": [],
   "source": [
    "WT =WT_r.field\n",
    "WGC =WGC_r.field\n",
    "LDA =LDA_r.field\n",
    "KS =21.3599/27.2119 - KS_H.field/2 -KS_XC.field/2 -KS_loc.field/2\n",
    "rho=rho.field\n",
    "S2=S2.field\n",
    "P2=P2.field\n",
    "S0=S0.field\n",
    "MGP=MGP.field\n",
    "MGP8=MGP8.field\n",
    "MGP5e=MGP5e.field\n",
    "MGP2=MGP2.field\n",
    "MGP5k=MGP5k.field\n",
    "MGP5kn=MGP5kn.field"
   ]
  },
  {
   "cell_type": "code",
   "execution_count": null,
   "metadata": {
    "collapsed": true
   },
   "outputs": [],
   "source": [
    "nnr=24*24*24"
   ]
  },
  {
   "cell_type": "code",
   "execution_count": null,
   "metadata": {
    "collapsed": true
   },
   "outputs": [],
   "source": [
    "rho=rho.reshape(nnr)\n",
    "WT=WT.reshape(nnr)\n",
    "WGC=WGC.reshape(nnr)\n",
    "LDA=LDA.reshape(nnr)\n",
    "KS=KS.reshape(nnr)\n",
    "S2=S2.reshape(nnr)\n",
    "S0=S0.reshape(nnr)\n",
    "P2=P2.reshape(nnr)\n",
    "MGP5e=MGP5e.reshape(nnr)\n",
    "MGP=MGP.reshape(nnr)\n",
    "MGP8=MGP8.reshape(nnr)\n",
    "MGP2=MGP2.reshape(nnr)\n",
    "MGP5k=MGP5k.reshape(nnr)\n",
    "MGP5kn=MGP5kn.reshape(nnr)"
   ]
  },
  {
   "cell_type": "code",
   "execution_count": null,
   "metadata": {},
   "outputs": [],
   "source": [
    "KS.dtype"
   ]
  },
  {
   "cell_type": "code",
   "execution_count": null,
   "metadata": {},
   "outputs": [],
   "source": [
    "p1=plt.scatter(KS,KS)\n",
    "p2=plt.scatter(KS,WT)\n",
    "#p3=plt.scatter(KS,WGC)\n",
    "#p4=plt.scatter(KS,MGP5e)\n",
    "#p5=plt.scatter(KS,MGP)\n",
    "#p6=plt.scatter(KS,MGP8)\n",
    "p7=plt.scatter(KS,MGP5kn)\n",
    "p8=plt.scatter(KS,MGP5k)\n",
    "plt.legend((p1,p2,p7,p8),(u'KS',u'WT',u'MGP5kn',u'MGP5k'))"
   ]
  },
  {
   "cell_type": "code",
   "execution_count": null,
   "metadata": {
    "collapsed": true
   },
   "outputs": [],
   "source": [
    "df = pd.DataFrame({'KS':KS,\n",
    "     'WT':WT,\n",
    "     'WGC':WGC,\n",
    "     'WTLDA':LDA,\n",
    "     'S':S0,\n",
    "     'P':P2,   \n",
    "     'MGP':MGP,\n",
    "     'MGP5e':MGP5e,\n",
    "     'MGP8':MGP8})"
   ]
  },
  {
   "cell_type": "code",
   "execution_count": null,
   "metadata": {},
   "outputs": [],
   "source": [
    "df.corr()"
   ]
  },
  {
   "cell_type": "code",
   "execution_count": null,
   "metadata": {
    "collapsed": true
   },
   "outputs": [],
   "source": [
    "df = pd.DataFrame({'KS':x,\n",
    "     'WT':y,\n",
    "     'WGC':z,\n",
    "     'WTLDA':m})"
   ]
  },
  {
   "cell_type": "code",
   "execution_count": null,
   "metadata": {},
   "outputs": [],
   "source": [
    "df.corr()"
   ]
  },
  {
   "cell_type": "code",
   "execution_count": null,
   "metadata": {},
   "outputs": [],
   "source": [
    "p1=plt.scatter(rho,rho*20)\n",
    "p2=plt.scatter(rho,WT)\n",
    "p3=plt.scatter(rho,MGP)\n",
    "p4=plt.scatter(rho,MGP5kn)\n",
    "p5=plt.scatter(rho,KS)\n",
    "plt.legend((p1,p2,p3,p4,p5),(u'rho',u'WT',u'MGP',u'MGP5kn',u'KS'))"
   ]
  },
  {
   "cell_type": "code",
   "execution_count": null,
   "metadata": {
    "collapsed": true
   },
   "outputs": [],
   "source": [
    "vWp =ThomasFermiPotential\n"
   ]
  },
  {
   "cell_type": "code",
   "execution_count": null,
   "metadata": {
    "collapsed": true
   },
   "outputs": [],
   "source": [
    "def TF_Lambda_vW(rho,lam,mu):\n",
    "    vW = vonWeizsackerPotential(rho,Sigma=0)\n",
    "    TF = rho**(2.0/3.0)*(3.0/10.0)*(3.0*np.pi**2)**(2.0/3.0)*(5.0/3.0)\n",
    "    return lam*TF+mu*vW"
   ]
  },
  {
   "cell_type": "code",
   "execution_count": null,
   "metadata": {},
   "outputs": [],
   "source": [
    "tflvw = TF_Lambda_vW(rho=rho,lam=1.0,mu=1.0).reshape(rho.grid.nnr)"
   ]
  },
  {
   "cell_type": "code",
   "execution_count": null,
   "metadata": {
    "collapsed": true
   },
   "outputs": [],
   "source": [
    "#p1=plt.scatter(n,n)\n",
    "p2=plt.scatter(n,x)\n",
    "p5=plt.scatter(n,tflvw)\n",
    "plt.legend((p2,p5),(u'KS',u'TFlvW'))"
   ]
  },
  {
   "cell_type": "code",
   "execution_count": null,
   "metadata": {
    "collapsed": true
   },
   "outputs": [],
   "source": [
    "LC94 = KEDF(density=rho,k_str='gga_k_lc94',polarization='unpolarized')"
   ]
  },
  {
   "cell_type": "code",
   "execution_count": null,
   "metadata": {
    "collapsed": true
   },
   "outputs": [],
   "source": [
    "p_lc94 = LC94.potential.reshape(LC94.potential.grid.nnr)"
   ]
  },
  {
   "cell_type": "code",
   "execution_count": null,
   "metadata": {
    "collapsed": true
   },
   "outputs": [],
   "source": [
    "plt.scatter(n,x)\n",
    "plt.scatter(n,p_lc94)\n",
    "#plt.scatter(n,y)\n",
    "plt.show()"
   ]
  },
  {
   "cell_type": "code",
   "execution_count": null,
   "metadata": {
    "collapsed": true
   },
   "outputs": [],
   "source": [
    "func = 0.5*p_lc94 + 0.5*tflvw\n",
    "plt.scatter(n,x)\n",
    "plt.scatter(n,func)\n",
    "plt.scatter(n,y)\n",
    "plt.show()\n"
   ]
  },
  {
   "cell_type": "code",
   "execution_count": null,
   "metadata": {
    "collapsed": true
   },
   "outputs": [],
   "source": []
  },
  {
   "cell_type": "code",
   "execution_count": null,
   "metadata": {
    "collapsed": true
   },
   "outputs": [],
   "source": []
  },
  {
   "cell_type": "code",
   "execution_count": 142,
   "metadata": {
    "collapsed": true
   },
   "outputs": [],
   "source": [
    "a = 1.0 + 1.0j"
   ]
  },
  {
   "cell_type": "code",
   "execution_count": 143,
   "metadata": {},
   "outputs": [
    {
     "data": {
      "text/plain": [
       "1.4142135623730951"
      ]
     },
     "execution_count": 143,
     "metadata": {},
     "output_type": "execute_result"
    }
   ],
   "source": [
    "np.abs(a)"
   ]
  },
  {
   "cell_type": "code",
   "execution_count": null,
   "metadata": {
    "collapsed": true
   },
   "outputs": [],
   "source": []
  }
 ],
 "metadata": {
  "kernelspec": {
   "display_name": "Python 3",
   "language": "python",
   "name": "python3"
  },
  "language_info": {
   "codemirror_mode": {
    "name": "ipython",
    "version": 3
   },
   "file_extension": ".py",
   "mimetype": "text/x-python",
   "name": "python",
   "nbconvert_exporter": "python",
   "pygments_lexer": "ipython3",
   "version": "3.6.1"
  },
  "toc": {
   "nav_menu": {},
   "number_sections": true,
   "sideBar": true,
   "skip_h1_title": false,
   "toc_cell": false,
   "toc_position": {},
   "toc_section_display": "block",
   "toc_window_display": false
  },
  "varInspector": {
   "cols": {
    "lenName": 16,
    "lenType": 16,
    "lenVar": 40
   },
   "kernels_config": {
    "python": {
     "delete_cmd_postfix": "",
     "delete_cmd_prefix": "del ",
     "library": "var_list.py",
     "varRefreshCmd": "print(var_dic_list())"
    },
    "r": {
     "delete_cmd_postfix": ") ",
     "delete_cmd_prefix": "rm(",
     "library": "var_list.r",
     "varRefreshCmd": "cat(var_dic_list()) "
    }
   },
   "types_to_exclude": [
    "module",
    "function",
    "builtin_function_or_method",
    "instance",
    "_Feature"
   ],
   "window_display": false
  }
 },
 "nbformat": 4,
 "nbformat_minor": 2
}
