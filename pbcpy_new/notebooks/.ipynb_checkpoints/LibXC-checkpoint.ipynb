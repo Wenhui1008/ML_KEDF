{
 "cells": [
  {
   "cell_type": "code",
   "execution_count": 1,
   "metadata": {
    "collapsed": true
   },
   "outputs": [],
   "source": [
    "import sys\n",
    "if \"../src/\" not in sys.path:\n",
    "    sys.path.insert(0,\"../src/\")"
   ]
  },
  {
   "cell_type": "code",
   "execution_count": 2,
   "metadata": {},
   "outputs": [
    {
     "ename": "ModuleNotFoundError",
     "evalue": "No module named 'pylibxc'",
     "output_type": "error",
     "traceback": [
      "\u001b[0;31m---------------------------------------------------------------------------\u001b[0m",
      "\u001b[0;31mModuleNotFoundError\u001b[0m                       Traceback (most recent call last)",
      "\u001b[0;32m<ipython-input-2-100ee87318a8>\u001b[0m in \u001b[0;36m<module>\u001b[0;34m()\u001b[0m\n\u001b[1;32m      4\u001b[0m \u001b[0;32mfrom\u001b[0m \u001b[0mpbcpy\u001b[0m\u001b[0;34m.\u001b[0m\u001b[0mlocal_functionals_utils\u001b[0m \u001b[0;32mimport\u001b[0m \u001b[0mThomasFermiEnergy\u001b[0m\u001b[0;34m,\u001b[0m \u001b[0mThomasFermiPotential\u001b[0m\u001b[0;34m\u001b[0m\u001b[0m\n\u001b[1;32m      5\u001b[0m \u001b[0;32mfrom\u001b[0m \u001b[0mpbcpy\u001b[0m\u001b[0;34m.\u001b[0m\u001b[0mlocal_functionals_utils\u001b[0m \u001b[0;32mimport\u001b[0m \u001b[0mvonWeizsackerEnergy\u001b[0m\u001b[0;34m,\u001b[0m \u001b[0mvonWeizsackerPotential\u001b[0m\u001b[0;34m\u001b[0m\u001b[0m\n\u001b[0;32m----> 6\u001b[0;31m \u001b[0;32mfrom\u001b[0m \u001b[0mpbcpy\u001b[0m\u001b[0;34m.\u001b[0m\u001b[0msemilocal_xc\u001b[0m \u001b[0;32mimport\u001b[0m \u001b[0mGet_LibXC_Input\u001b[0m\u001b[0;34m,\u001b[0m \u001b[0mGet_LibXC_Output\u001b[0m\u001b[0;34m,\u001b[0m \u001b[0mXC\u001b[0m\u001b[0;34m,\u001b[0m \u001b[0mPBE\u001b[0m\u001b[0;34m\u001b[0m\u001b[0m\n\u001b[0m\u001b[1;32m      7\u001b[0m \u001b[0;32mfrom\u001b[0m \u001b[0mpylibxc\u001b[0m\u001b[0;34m.\u001b[0m\u001b[0mfunctional\u001b[0m \u001b[0;32mimport\u001b[0m \u001b[0mLibXCFunctional\u001b[0m\u001b[0;34m\u001b[0m\u001b[0m\n\u001b[1;32m      8\u001b[0m \u001b[0;34m\u001b[0m\u001b[0m\n",
      "\u001b[0;32m/Users/wenhui/Research/pbcpy_ofdft/src/pbcpy/semilocal_xc.py\u001b[0m in \u001b[0;36m<module>\u001b[0;34m()\u001b[0m\n\u001b[1;32m      4\u001b[0m \u001b[0;32mfrom\u001b[0m \u001b[0;34m.\u001b[0m\u001b[0mfield\u001b[0m \u001b[0;32mimport\u001b[0m \u001b[0mDirectField\u001b[0m\u001b[0;34m\u001b[0m\u001b[0m\n\u001b[1;32m      5\u001b[0m \u001b[0;32mfrom\u001b[0m \u001b[0;34m.\u001b[0m\u001b[0mfunctionals\u001b[0m \u001b[0;32mimport\u001b[0m \u001b[0;34m*\u001b[0m\u001b[0;34m\u001b[0m\u001b[0m\n\u001b[0;32m----> 6\u001b[0;31m \u001b[0;32mimport\u001b[0m \u001b[0mpylibxc\u001b[0m\u001b[0;34m\u001b[0m\u001b[0m\n\u001b[0m\u001b[1;32m      7\u001b[0m \u001b[0;32mfrom\u001b[0m \u001b[0mpylibxc\u001b[0m\u001b[0;34m.\u001b[0m\u001b[0mfunctional\u001b[0m \u001b[0;32mimport\u001b[0m \u001b[0mLibXCFunctional\u001b[0m\u001b[0;34m\u001b[0m\u001b[0m\n\u001b[1;32m      8\u001b[0m \u001b[0;34m\u001b[0m\u001b[0m\n",
      "\u001b[0;31mModuleNotFoundError\u001b[0m: No module named 'pylibxc'"
     ]
    }
   ],
   "source": [
    "import numpy as np\n",
    "import matplotlib.pyplot as plt\n",
    "\n",
    "from pbcpy.local_functionals_utils import ThomasFermiEnergy, ThomasFermiPotential\n",
    "from pbcpy.local_functionals_utils import vonWeizsackerEnergy, vonWeizsackerPotential\n",
    "from pbcpy.semilocal_xc import Get_LibXC_Input, Get_LibXC_Output, XC, PBE\n",
    "from pylibxc.functional import LibXCFunctional\n",
    "\n",
    "import pylibxc"
   ]
  },
  {
   "cell_type": "code",
   "execution_count": 3,
   "metadata": {
    "collapsed": true
   },
   "outputs": [],
   "source": [
    "from pbcpy.formats.qepp import PP\n",
    "from pbcpy.formats.xsf import XSF"
   ]
  },
  {
   "cell_type": "code",
   "execution_count": 4,
   "metadata": {
    "collapsed": true
   },
   "outputs": [],
   "source": [
    "mol = PP(filepp='Al_fde_rho.pp').read()\n",
    "dens_real_space = mol.field"
   ]
  },
  {
   "cell_type": "code",
   "execution_count": 5,
   "metadata": {
    "collapsed": true
   },
   "outputs": [],
   "source": [
    "func_x = LibXCFunctional('gga_x_pbe', \"unpolarized\")\n",
    "func_c = LibXCFunctional('gga_c_pbe', \"unpolarized\")"
   ]
  },
  {
   "cell_type": "code",
   "execution_count": 6,
   "metadata": {},
   "outputs": [
    {
     "data": {
      "text/plain": [
       "'Functional ID: 101\\nFunctional Name: gga_x_pbe\\nAttributes:\\n    Name: Perdew, Burke & Ernzerhof\\n    Kind: 0\\n  Family: 2\\nCitations:\\n   J. P. Perdew, K. Burke, and M. Ernzerhof, Phys. Rev. Lett. 77, 3865 (1996)\\n   J. P. Perdew, K. Burke, and M. Ernzerhof, Phys. Rev. Lett. 78, 1396 (1997)'"
      ]
     },
     "execution_count": 6,
     "metadata": {},
     "output_type": "execute_result"
    }
   ],
   "source": [
    "func_x.describe()"
   ]
  },
  {
   "cell_type": "code",
   "execution_count": 7,
   "metadata": {},
   "outputs": [
    {
     "data": {
      "text/plain": [
       "'Functional ID: 130\\nFunctional Name: gga_c_pbe\\nAttributes:\\n    Name: Perdew, Burke & Ernzerhof\\n    Kind: 1\\n  Family: 2\\nCitations:\\n   J. P. Perdew, K. Burke, and M. Ernzerhof, Phys. Rev. Lett. 77, 3865 (1996)\\n   J. P. Perdew, K. Burke, and M. Ernzerhof, Phys. Rev. Lett. 78, 1396 (1997)'"
      ]
     },
     "execution_count": 7,
     "metadata": {},
     "output_type": "execute_result"
    }
   ],
   "source": [
    "func_c.describe()"
   ]
  },
  {
   "cell_type": "code",
   "execution_count": 8,
   "metadata": {
    "collapsed": true
   },
   "outputs": [],
   "source": [
    "inp=Get_LibXC_Input(dens_real_space)"
   ]
  },
  {
   "cell_type": "code",
   "execution_count": 9,
   "metadata": {
    "collapsed": true
   },
   "outputs": [],
   "source": [
    "out_x = func_x.compute(inp)\n",
    "out_c = func_c.compute(inp)"
   ]
  },
  {
   "cell_type": "code",
   "execution_count": 10,
   "metadata": {
    "collapsed": true
   },
   "outputs": [],
   "source": [
    "Functional_X = Get_LibXC_Output(out_x,dens_real_space)\n",
    "Functional_C = Get_LibXC_Output(out_c,dens_real_space)"
   ]
  },
  {
   "cell_type": "code",
   "execution_count": 11,
   "metadata": {
    "collapsed": true
   },
   "outputs": [],
   "source": [
    "Functional_XC = Functional_X.sum(Functional_C)"
   ]
  },
  {
   "cell_type": "code",
   "execution_count": 12,
   "metadata": {
    "collapsed": true
   },
   "outputs": [],
   "source": [
    "exc = Functional_XC.energydensity\n",
    "vxc = Functional_XC.potential\n",
    "Functional_LibXC = XC(density=dens_real_space,x_str='gga_x_pbe',c_str='gga_c_pbe',polarization='unpolarized')\n",
    "exc2 = Functional_LibXC.energydensity\n",
    "vxc2 = Functional_LibXC.potential"
   ]
  },
  {
   "cell_type": "code",
   "execution_count": 13,
   "metadata": {},
   "outputs": [
    {
     "data": {
      "image/png": "[encoded data removed]",
      "text/plain": [
       "<matplotlib.figure.Figure at 0x116e014e0>"
      ]
     },
     "metadata": {},
     "output_type": "display_data"
    }
   ],
   "source": [
    "plt.plot(exc[0,:,0,0],label=Functional_XC.name)\n",
    "plt.plot(exc2[0,:,0,0],label=Functional_LibXC.name)\n",
    "plt.legend()\n",
    "plt.show()"
   ]
  },
  {
   "cell_type": "code",
   "execution_count": 14,
   "metadata": {},
   "outputs": [
    {
     "data": {
      "text/plain": [
       "'pbepbe'"
      ]
     },
     "execution_count": 14,
     "metadata": {},
     "output_type": "execute_result"
    }
   ],
   "source": [
    "Functional_LibXC.name"
   ]
  },
  {
   "cell_type": "code",
   "execution_count": 15,
   "metadata": {},
   "outputs": [
    {
     "data": {
      "text/plain": [
       "-1.6344144237209894"
      ]
     },
     "execution_count": 15,
     "metadata": {},
     "output_type": "execute_result"
    }
   ],
   "source": [
    "Functional_LibXC.energydensity.integral()"
   ]
  },
  {
   "cell_type": "code",
   "execution_count": 18,
   "metadata": {
    "collapsed": true
   },
   "outputs": [],
   "source": [
    "Functional_LibXC2 = PBE(dens_real_space,'unpolarized')"
   ]
  },
  {
   "cell_type": "code",
   "execution_count": 19,
   "metadata": {},
   "outputs": [
    {
     "data": {
      "text/plain": [
       "'pbepbe'"
      ]
     },
     "execution_count": 19,
     "metadata": {},
     "output_type": "execute_result"
    }
   ],
   "source": [
    "Functional_LibXC2.name"
   ]
  },
  {
   "cell_type": "code",
   "execution_count": 20,
   "metadata": {},
   "outputs": [
    {
     "data": {
      "text/plain": [
       "DirectField([[[[ 0.],\n",
       "               [ 0.],\n",
       "               [ 0.],\n",
       "               ..., \n",
       "               [ 0.],\n",
       "               [ 0.],\n",
       "               [ 0.]],\n",
       "\n",
       "              [[ 0.],\n",
       "               [ 0.],\n",
       "               [ 0.],\n",
       "               ..., \n",
       "               [ 0.],\n",
       "               [ 0.],\n",
       "               [ 0.]],\n",
       "\n",
       "              [[ 0.],\n",
       "               [ 0.],\n",
       "               [ 0.],\n",
       "               ..., \n",
       "               [ 0.],\n",
       "               [ 0.],\n",
       "               [ 0.]],\n",
       "\n",
       "              ..., \n",
       "              [[ 0.],\n",
       "               [ 0.],\n",
       "               [ 0.],\n",
       "               ..., \n",
       "               [ 0.],\n",
       "               [ 0.],\n",
       "               [ 0.]],\n",
       "\n",
       "              [[ 0.],\n",
       "               [ 0.],\n",
       "               [ 0.],\n",
       "               ..., \n",
       "               [ 0.],\n",
       "               [ 0.],\n",
       "               [ 0.]],\n",
       "\n",
       "              [[ 0.],\n",
       "               [ 0.],\n",
       "               [ 0.],\n",
       "               ..., \n",
       "               [ 0.],\n",
       "               [ 0.],\n",
       "               [ 0.]]],\n",
       "\n",
       "\n",
       "             [[[ 0.],\n",
       "               [ 0.],\n",
       "               [ 0.],\n",
       "               ..., \n",
       "               [ 0.],\n",
       "               [ 0.],\n",
       "               [ 0.]],\n",
       "\n",
       "              [[ 0.],\n",
       "               [ 0.],\n",
       "               [ 0.],\n",
       "               ..., \n",
       "               [ 0.],\n",
       "               [ 0.],\n",
       "               [ 0.]],\n",
       "\n",
       "              [[ 0.],\n",
       "               [ 0.],\n",
       "               [ 0.],\n",
       "               ..., \n",
       "               [ 0.],\n",
       "               [ 0.],\n",
       "               [ 0.]],\n",
       "\n",
       "              ..., \n",
       "              [[ 0.],\n",
       "               [ 0.],\n",
       "               [ 0.],\n",
       "               ..., \n",
       "               [ 0.],\n",
       "               [ 0.],\n",
       "               [ 0.]],\n",
       "\n",
       "              [[ 0.],\n",
       "               [ 0.],\n",
       "               [ 0.],\n",
       "               ..., \n",
       "               [ 0.],\n",
       "               [ 0.],\n",
       "               [ 0.]],\n",
       "\n",
       "              [[ 0.],\n",
       "               [ 0.],\n",
       "               [ 0.],\n",
       "               ..., \n",
       "               [ 0.],\n",
       "               [ 0.],\n",
       "               [ 0.]]],\n",
       "\n",
       "\n",
       "             [[[ 0.],\n",
       "               [ 0.],\n",
       "               [ 0.],\n",
       "               ..., \n",
       "               [ 0.],\n",
       "               [ 0.],\n",
       "               [ 0.]],\n",
       "\n",
       "              [[ 0.],\n",
       "               [ 0.],\n",
       "               [ 0.],\n",
       "               ..., \n",
       "               [ 0.],\n",
       "               [ 0.],\n",
       "               [ 0.]],\n",
       "\n",
       "              [[ 0.],\n",
       "               [ 0.],\n",
       "               [ 0.],\n",
       "               ..., \n",
       "               [ 0.],\n",
       "               [ 0.],\n",
       "               [ 0.]],\n",
       "\n",
       "              ..., \n",
       "              [[ 0.],\n",
       "               [ 0.],\n",
       "               [ 0.],\n",
       "               ..., \n",
       "               [ 0.],\n",
       "               [ 0.],\n",
       "               [ 0.]],\n",
       "\n",
       "              [[ 0.],\n",
       "               [ 0.],\n",
       "               [ 0.],\n",
       "               ..., \n",
       "               [ 0.],\n",
       "               [ 0.],\n",
       "               [ 0.]],\n",
       "\n",
       "              [[ 0.],\n",
       "               [ 0.],\n",
       "               [ 0.],\n",
       "               ..., \n",
       "               [ 0.],\n",
       "               [ 0.],\n",
       "               [ 0.]]],\n",
       "\n",
       "\n",
       "             ..., \n",
       "             [[[ 0.],\n",
       "               [ 0.],\n",
       "               [ 0.],\n",
       "               ..., \n",
       "               [ 0.],\n",
       "               [ 0.],\n",
       "               [ 0.]],\n",
       "\n",
       "              [[ 0.],\n",
       "               [ 0.],\n",
       "               [ 0.],\n",
       "               ..., \n",
       "               [ 0.],\n",
       "               [ 0.],\n",
       "               [ 0.]],\n",
       "\n",
       "              [[ 0.],\n",
       "               [ 0.],\n",
       "               [ 0.],\n",
       "               ..., \n",
       "               [ 0.],\n",
       "               [ 0.],\n",
       "               [ 0.]],\n",
       "\n",
       "              ..., \n",
       "              [[ 0.],\n",
       "               [ 0.],\n",
       "               [ 0.],\n",
       "               ..., \n",
       "               [ 0.],\n",
       "               [ 0.],\n",
       "               [ 0.]],\n",
       "\n",
       "              [[ 0.],\n",
       "               [ 0.],\n",
       "               [ 0.],\n",
       "               ..., \n",
       "               [ 0.],\n",
       "               [ 0.],\n",
       "               [ 0.]],\n",
       "\n",
       "              [[ 0.],\n",
       "               [ 0.],\n",
       "               [ 0.],\n",
       "               ..., \n",
       "               [ 0.],\n",
       "               [ 0.],\n",
       "               [ 0.]]],\n",
       "\n",
       "\n",
       "             [[[ 0.],\n",
       "               [ 0.],\n",
       "               [ 0.],\n",
       "               ..., \n",
       "               [ 0.],\n",
       "               [ 0.],\n",
       "               [ 0.]],\n",
       "\n",
       "              [[ 0.],\n",
       "               [ 0.],\n",
       "               [ 0.],\n",
       "               ..., \n",
       "               [ 0.],\n",
       "               [ 0.],\n",
       "               [ 0.]],\n",
       "\n",
       "              [[ 0.],\n",
       "               [ 0.],\n",
       "               [ 0.],\n",
       "               ..., \n",
       "               [ 0.],\n",
       "               [ 0.],\n",
       "               [ 0.]],\n",
       "\n",
       "              ..., \n",
       "              [[ 0.],\n",
       "               [ 0.],\n",
       "               [ 0.],\n",
       "               ..., \n",
       "               [ 0.],\n",
       "               [ 0.],\n",
       "               [ 0.]],\n",
       "\n",
       "              [[ 0.],\n",
       "               [ 0.],\n",
       "               [ 0.],\n",
       "               ..., \n",
       "               [ 0.],\n",
       "               [ 0.],\n",
       "               [ 0.]],\n",
       "\n",
       "              [[ 0.],\n",
       "               [ 0.],\n",
       "               [ 0.],\n",
       "               ..., \n",
       "               [ 0.],\n",
       "               [ 0.],\n",
       "               [ 0.]]],\n",
       "\n",
       "\n",
       "             [[[ 0.],\n",
       "               [ 0.],\n",
       "               [ 0.],\n",
       "               ..., \n",
       "               [ 0.],\n",
       "               [ 0.],\n",
       "               [ 0.]],\n",
       "\n",
       "              [[ 0.],\n",
       "               [ 0.],\n",
       "               [ 0.],\n",
       "               ..., \n",
       "               [ 0.],\n",
       "               [ 0.],\n",
       "               [ 0.]],\n",
       "\n",
       "              [[ 0.],\n",
       "               [ 0.],\n",
       "               [ 0.],\n",
       "               ..., \n",
       "               [ 0.],\n",
       "               [ 0.],\n",
       "               [ 0.]],\n",
       "\n",
       "              ..., \n",
       "              [[ 0.],\n",
       "               [ 0.],\n",
       "               [ 0.],\n",
       "               ..., \n",
       "               [ 0.],\n",
       "               [ 0.],\n",
       "               [ 0.]],\n",
       "\n",
       "              [[ 0.],\n",
       "               [ 0.],\n",
       "               [ 0.],\n",
       "               ..., \n",
       "               [ 0.],\n",
       "               [ 0.],\n",
       "               [ 0.]],\n",
       "\n",
       "              [[ 0.],\n",
       "               [ 0.],\n",
       "               [ 0.],\n",
       "               ..., \n",
       "               [ 0.],\n",
       "               [ 0.],\n",
       "               [ 0.]]]])"
      ]
     },
     "execution_count": 20,
     "metadata": {},
     "output_type": "execute_result"
    }
   ],
   "source": [
    "Functional_LibXC2.energydensity - Functional_LibXC.energydensity"
   ]
  },
  {
   "cell_type": "code",
   "execution_count": null,
   "metadata": {
    "collapsed": true
   },
   "outputs": [],
   "source": []
  }
 ],
 "metadata": {
  "kernelspec": {
   "display_name": "Python 3",
   "language": "python",
   "name": "python3"
  },
  "language_info": {
   "codemirror_mode": {
    "name": "ipython",
    "version": 3
   },
   "file_extension": ".py",
   "mimetype": "text/x-python",
   "name": "python",
   "nbconvert_exporter": "python",
   "pygments_lexer": "ipython3",
   "version": "3.6.1"
  },
  "toc": {
   "nav_menu": {},
   "number_sections": true,
   "sideBar": true,
   "skip_h1_title": false,
   "toc_cell": false,
   "toc_position": {},
   "toc_section_display": "block",
   "toc_window_display": false
  },
  "varInspector": {
   "cols": {
    "lenName": 16,
    "lenType": 16,
    "lenVar": 40
   },
   "kernels_config": {
    "python": {
     "delete_cmd_postfix": "",
     "delete_cmd_prefix": "del ",
     "library": "var_list.py",
     "varRefreshCmd": "print(var_dic_list())"
    },
    "r": {
     "delete_cmd_postfix": ") ",
     "delete_cmd_prefix": "rm(",
     "library": "var_list.r",
     "varRefreshCmd": "cat(var_dic_list()) "
    }
   },
   "types_to_exclude": [
    "module",
    "function",
    "builtin_function_or_method",
    "instance",
    "_Feature"
   ],
   "window_display": false
  }
 },
 "nbformat": 4,
 "nbformat_minor": 2
}
