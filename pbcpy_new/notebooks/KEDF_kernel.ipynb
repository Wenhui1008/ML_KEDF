{
 "cells": [
  {
   "cell_type": "code",
   "execution_count": 1,
   "metadata": {
    "collapsed": true
   },
   "outputs": [],
   "source": [
    "import numpy as np\n",
    "import scipy.special as sp\n",
    "import matplotlib.pyplot as plt\n",
    "import pandas as pd"
   ]
  },
  {
   "cell_type": "code",
   "execution_count": 2,
   "metadata": {
    "collapsed": true
   },
   "outputs": [],
   "source": [
    "import sys\n",
    "if \"../src/\" not in sys.path:\n",
    "    sys.path.insert(0,\"../src/\")\n",
    "from pbcpy.grid import DirectGrid, ReciprocalGrid\n",
    "from pbcpy.field import DirectField, ReciprocalField\n",
    "from pbcpy.functionals import *\n",
    "\n",
    "%matplotlib inline\n",
    "%load_ext autoreload\n",
    "%autoreload 2\n",
    "#"
   ]
  },
  {
   "cell_type": "code",
   "execution_count": 3,
   "metadata": {
    "collapsed": true
   },
   "outputs": [],
   "source": [
    "from pbcpy.local_functionals_utils import ThomasFermiEnergy, ThomasFermiPotential\n",
    "from pbcpy.local_functionals_utils import vonWeizsackerEnergy, vonWeizsackerPotential"
   ]
  },
  {
   "cell_type": "code",
   "execution_count": 4,
   "metadata": {
    "collapsed": true
   },
   "outputs": [],
   "source": [
    "from pbcpy.formats.qepp import PP\n",
    "from pbcpy.formats.xsf import XSF"
   ]
  },
  {
   "cell_type": "code",
   "execution_count": 5,
   "metadata": {
    "collapsed": true
   },
   "outputs": [],
   "source": [
    "from pbcpy.local_functionals_utils import x_TF_y_vW \n",
    "from pbcpy.nonlocal_functionals_utils import LindhardFunction, MGP_kernel, WT_kernel"
   ]
  },
  {
   "cell_type": "code",
   "execution_count": 6,
   "metadata": {
    "collapsed": true
   },
   "outputs": [],
   "source": [
    "from pbcpy.semilocal_xc import PBE, LDA, XC, KEDF"
   ]
  },
  {
   "cell_type": "code",
   "execution_count": 7,
   "metadata": {
    "collapsed": true
   },
   "outputs": [],
   "source": [
    "from pbcpy.local_pseudopotential import NuclearElectron"
   ]
  },
  {
   "cell_type": "code",
   "execution_count": 8,
   "metadata": {
    "collapsed": true
   },
   "outputs": [],
   "source": [
    "from pbcpy.hartree import HartreeFunctional"
   ]
  },
  {
   "cell_type": "markdown",
   "metadata": {},
   "source": [
    "# Kernel analysis for SC silicon with a=2.65"
   ]
  },
  {
   "cell_type": "markdown",
   "metadata": {},
   "source": [
    "### Fermi energy =7.4126 eV"
   ]
  },
  {
   "cell_type": "code",
   "execution_count": 190,
   "metadata": {
    "collapsed": true
   },
   "outputs": [],
   "source": [
    "H=PP('/Users/wenhui/Research/Rutgers/ATLAS_MI/Benchmarks/do/Si/SC/Si_TV/pot_H.pp').read()\n",
    "H=H.field"
   ]
  },
  {
   "cell_type": "code",
   "execution_count": 191,
   "metadata": {
    "collapsed": true
   },
   "outputs": [],
   "source": [
    "XC=PP('/Users/wenhui/Research/Rutgers/ATLAS_MI/Benchmarks/do/Si/SC/Si_TV/pot_XC.pp').read()\n",
    "XC=XC.field"
   ]
  },
  {
   "cell_type": "code",
   "execution_count": 192,
   "metadata": {
    "collapsed": true
   },
   "outputs": [],
   "source": [
    "Loc=PP('/Users/wenhui/Research/Rutgers/ATLAS_MI/Benchmarks/do/Si/SC/Si_TV/pot_ion.pp').read()\n",
    "Loc=Loc.field"
   ]
  },
  {
   "cell_type": "code",
   "execution_count": 193,
   "metadata": {
    "collapsed": true
   },
   "outputs": [],
   "source": [
    "TV=PP('/Users/wenhui/Research/Rutgers/ATLAS_MI/Benchmarks/do/Si/SC/Si_TV/pot_ke.pp').read()\n",
    "TV=TV.field"
   ]
  },
  {
   "cell_type": "code",
   "execution_count": 194,
   "metadata": {
    "collapsed": true
   },
   "outputs": [],
   "source": [
    "rho=PP('/Users/wenhui/Research/Rutgers/ATLAS_MI/Benchmarks/do/Si/SC/Si_TV/rho.pp').read()\n",
    "rho=rho.field"
   ]
  },
  {
   "cell_type": "code",
   "execution_count": 195,
   "metadata": {
    "collapsed": true
   },
   "outputs": [],
   "source": [
    "WT=PP('/Users/wenhui/Research/Rutgers/ATLAS_MI/Benchmarks/do/Si/SC/Si_WT/pot_ke.pp').read()\n",
    "WT=WT.field"
   ]
  },
  {
   "cell_type": "code",
   "execution_count": 196,
   "metadata": {
    "collapsed": true
   },
   "outputs": [],
   "source": [
    "H2eV=27.2113834279111"
   ]
  },
  {
   "cell_type": "code",
   "execution_count": 197,
   "metadata": {
    "collapsed": true
   },
   "outputs": [],
   "source": [
    "rho0=0.03185119733334818"
   ]
  },
  {
   "cell_type": "code",
   "execution_count": 198,
   "metadata": {
    "collapsed": true
   },
   "outputs": [],
   "source": [
    "KS_SC=-1.0*(H + XC + Loc) + 7.4126/H2eV"
   ]
  },
  {
   "cell_type": "code",
   "execution_count": 199,
   "metadata": {
    "collapsed": true
   },
   "outputs": [],
   "source": [
    "KS_NL=KS_SC-TV\n",
    "WT_NL=WT-TV"
   ]
  },
  {
   "cell_type": "code",
   "execution_count": 200,
   "metadata": {
    "collapsed": true
   },
   "outputs": [],
   "source": [
    "q=rho.grid.get_reciprocal().gg\n"
   ]
  },
  {
   "cell_type": "code",
   "execution_count": 201,
   "metadata": {},
   "outputs": [
    {
     "data": {
      "text/plain": [
       "0.03185119733078106"
      ]
     },
     "execution_count": 201,
     "metadata": {},
     "output_type": "execute_result"
    }
   ],
   "source": [
    "rho.integral() / rho.grid.volume"
   ]
  },
  {
   "cell_type": "markdown",
   "metadata": {},
   "source": [
    "## WT functional from pbcpy"
   ]
  },
  {
   "cell_type": "code",
   "execution_count": 202,
   "metadata": {
    "collapsed": true
   },
   "outputs": [],
   "source": [
    "def WT_tot(rho):\n",
    "    q=np.sqrt(rho.grid.get_reciprocal().gg)\n",
    "    rho0=rho.integral() / rho.grid.volume\n",
    "    wtker = WT_kernel(q,rho0)\n",
    "    rhofs = rho**(5.0/6.0)\n",
    "    rhofs_g = rhofs.fft()\n",
    "    rhofs_kernel = WT_kernel(q,rho0)*rhofs_g\n",
    "    #WT_edens = rhofs_kernel.ifft(force_real=True)*rhofs \n",
    "    rhoos = rho**(-1.0/6.0)\n",
    "    WT_pot = (5.0/6.0)*2.0* rhoos * rhofs_kernel.ifft()\n",
    "    return WT_tot   "
   ]
  },
  {
   "cell_type": "markdown",
   "metadata": {},
   "source": [
    "## Define the function to compure the kernel"
   ]
  },
  {
   "cell_type": "markdown",
   "metadata": {},
   "source": [
    "### For WT formulation"
   ]
  },
  {
   "cell_type": "code",
   "execution_count": 203,
   "metadata": {
    "collapsed": true
   },
   "outputs": [],
   "source": [
    "KF=2.0*(3.0*np.pi**2.0*rho0)**(1.0/3.0)"
   ]
  },
  {
   "cell_type": "code",
   "execution_count": 204,
   "metadata": {
    "collapsed": true
   },
   "outputs": [],
   "source": [
    "def Ker_WT(Rho,pot):\n",
    "    Rho23_g=(Rho**(2.0/3.0)).fft()\n",
    "    Rho_16 = Rho**(1.0/6.0)\n",
    "    Rho_56 = Rho**(5.0/6.0)\n",
    "    ker1=pot*Rho_16\n",
    "    ker2=Rho_56.fft()\n",
    "    Ker_WT= ker1.fft()/ker2\n",
    "    Ker_WT=0.6*np.real(Ker_WT)#*ker2\n",
    "    return Ker_WT"
   ]
  },
  {
   "cell_type": "code",
   "execution_count": 205,
   "metadata": {
    "collapsed": true
   },
   "outputs": [],
   "source": [
    "gg=H.grid.get_reciprocal().gg\n",
    "g=gg**0.5/KF"
   ]
  },
  {
   "cell_type": "code",
   "execution_count": 206,
   "metadata": {
    "collapsed": true
   },
   "outputs": [],
   "source": [
    "K_KS=Ker_WT(rho,KS_NL)\n",
    "K_WT=Ker_WT(rho,WT_NL)"
   ]
  },
  {
   "cell_type": "code",
   "execution_count": 207,
   "metadata": {
    "collapsed": true
   },
   "outputs": [],
   "source": [
    "q=np.sqrt(rho.grid.get_reciprocal().gg)\n",
    "rho0=rho.integral() / rho.grid.volume\n",
    "wtker = WT_kernel(q,rho0)\n",
    "rhofs = rho**(5.0/6.0)\n",
    "rhofs_g = rhofs.fft()\n",
    "rhofs_kernel = WT_kernel(q,rho0)*rhofs_g\n",
    "    #WT_edens = rhofs_kernel.ifft(force_real=True)*rhofs \n",
    "rhoos = rho**(-1.0/6.0)\n",
    "WT_NL_pbc = rhoos * rhofs_kernel.ifft()\n",
    "WT_NL_pbc =np.real(WT_NL_pbc)"
   ]
  },
  {
   "cell_type": "code",
   "execution_count": 208,
   "metadata": {
    "collapsed": true
   },
   "outputs": [],
   "source": [
    "K_WT_pbc=Ker_WT(rho,WT_NL_pbc)"
   ]
  },
  {
   "cell_type": "code",
   "execution_count": 171,
   "metadata": {},
   "outputs": [
    {
     "data": {
      "text/plain": [
       "(24, 24, 24, 1)"
      ]
     },
     "execution_count": 171,
     "metadata": {},
     "output_type": "execute_result"
    }
   ],
   "source": [
    "K_WT_pbc.shape"
   ]
  },
  {
   "cell_type": "code",
   "execution_count": 172,
   "metadata": {},
   "outputs": [
    {
     "data": {
      "text/plain": [
       "5.5294743113873895e-18"
      ]
     },
     "execution_count": 172,
     "metadata": {},
     "output_type": "execute_result"
    }
   ],
   "source": [
    "K_WT_pbc[0,0,0,0]"
   ]
  },
  {
   "cell_type": "code",
   "execution_count": 209,
   "metadata": {},
   "outputs": [
    {
     "data": {
      "image/png": "[encoded data removed]",
      "text/plain": [
       "<matplotlib.figure.Figure at 0x110affa90>"
      ]
     },
     "metadata": {},
     "output_type": "display_data"
    }
   ],
   "source": [
    "#p1=plt.scatter(g,K_KS,marker='v',s=10)\n",
    "#plt.xlim(-0.01,4)\n",
    "p2=plt.scatter(g,K_WT,s=10)\n",
    "p3=plt.scatter(g,K_WT_pbc,s=10,marker='*')\n",
    "#plt.ylim(-15,2)\n",
    "plt.legend((p2,p3),(u'WT_ATLAS',u'WT_pbcpy'))\n",
    "plt.xlabel('g (a.u.)')\n",
    "plt.ylabel('Kernel(g)')\n",
    "plt.savefig('Err_ker_g.eps')"
   ]
  },
  {
   "cell_type": "code",
   "execution_count": 212,
   "metadata": {},
   "outputs": [
    {
     "name": "stderr",
     "output_type": "stream",
     "text": [
      "/Users/wenhui/anaconda/lib/python3.6/site-packages/numpy/core/numeric.py:583: ComplexWarning: Casting complex values to real discards the imaginary part\n",
      "  return array(a, dtype, copy=False, order=order, subok=True)\n"
     ]
    },
    {
     "data": {
      "text/plain": [
       "<matplotlib.text.Text at 0x11172fda0>"
      ]
     },
     "execution_count": 212,
     "metadata": {},
     "output_type": "execute_result"
    },
    {
     "data": {
      "image/png": "[encoded data removed]",
      "text/plain": [
       "<matplotlib.figure.Figure at 0x1110a00b8>"
      ]
     },
     "metadata": {},
     "output_type": "display_data"
    }
   ],
   "source": [
    "#plt.scatter(WT_NL_pbc,WT_NL_pbc)\n",
    "#plt.scatter(WT_NL_pbc,WT_NL,marker='*',s=5)\n",
    "p1=plt.scatter(WT_NL_pbc,WT_NL-WT_NL_pbc)\n",
    "p2=plt.scatter(WT_NL_pbc,rho.fft(),marker='v',s=10)\n",
    "plt.ylim(-0.00000001,0.00000001)\n",
    "#plt.legend((p1,p2),(u '$\\omega_{1}$'))\n",
    "plt.xlabel(r'$WT (g) $')\n",
    "plt.ylabel('F(g)')"
   ]
  },
  {
   "cell_type": "code",
   "execution_count": 175,
   "metadata": {
    "collapsed": true
   },
   "outputs": [],
   "source": [
    "rho23=(rho**(5.0/6.0)).fft()"
   ]
  },
  {
   "cell_type": "code",
   "execution_count": 213,
   "metadata": {},
   "outputs": [
    {
     "data": {
      "image/png": "[encoded data removed]",
      "text/plain": [
       "<matplotlib.figure.Figure at 0x1116b20b8>"
      ]
     },
     "metadata": {},
     "output_type": "display_data"
    }
   ],
   "source": [
    "p1=plt.scatter(g,K_KS,marker='v',s=20)\n",
    "plt.xlim(-0.1,6)\n",
    "p2=plt.scatter(g,K_WT,s=10)\n",
    "p3=plt.scatter(g,K_WT_pbc,s=10,marker='*')\n",
    "#plt.ylim(-6,6)\n",
    "plt.legend((p1,p2,p3),(u'KS',u'WT_ATLAS',u'WT_pbcpy'))\n",
    "plt.savefig('Si_Effective_kernel.eps')"
   ]
  },
  {
   "cell_type": "code",
   "execution_count": 177,
   "metadata": {
    "collapsed": true
   },
   "outputs": [],
   "source": [
    "WGC =PP('/Users/wenhui/Research/Rutgers/ATLAS_MI/Benchmarks/do/Si/SC/Si_WGC_k/pot_ke.pp').read()\n",
    "WT =PP('/Users/wenhui/Research/Rutgers/ATLAS_MI/Benchmarks/do/Si/SC/Si_WT_k/pot_ke.pp').read()\n",
    "LDA= PP('/Users/wenhui/Research/Rutgers/ATLAS_MI/Benchmarks/do/Si/SC/Si_LDA_k/pot_ke.pp').read()\n",
    "KGAP = PP('/Users/wenhui/Research/Rutgers/ATLAS_MI/Benchmarks/do/Si/SC/Si_Kgap_k/pot_ke.pp').read()\n",
    "rho = PP('/Users/wenhui/Research/Rutgers/ATLAS_MI/Benchmarks/do/Si/SC/Si_Kgap_k/rho.pp').read()"
   ]
  },
  {
   "cell_type": "code",
   "execution_count": 36,
   "metadata": {
    "collapsed": true
   },
   "outputs": [],
   "source": [
    "WGC=WGC.field\n",
    "WT=WT.field\n",
    "LDA=LDA.field\n",
    "KGAP=KGAP.field\n",
    "rho=rho.field"
   ]
  },
  {
   "cell_type": "code",
   "execution_count": 37,
   "metadata": {
    "collapsed": true
   },
   "outputs": [],
   "source": [
    "WGC_NL=WGC-TV\n",
    "LDA_NL=LDA-TV\n",
    "KGAP_NL=KGAP-TV\n",
    "WT_NL=WT-TV"
   ]
  },
  {
   "cell_type": "code",
   "execution_count": 38,
   "metadata": {
    "collapsed": true
   },
   "outputs": [],
   "source": [
    "K_WGC=Ker_WT(rho,WGC_NL)\n",
    "K_LDA=Ker_WT(rho,LDA_NL)\n",
    "K_KGAP=Ker_WT(rho,KGAP_NL)\n",
    "K_WT=Ker_WT(rho,WT_NL)\n",
    "K_KS=Ker_WT(rho,KS_NL)"
   ]
  },
  {
   "cell_type": "code",
   "execution_count": 39,
   "metadata": {},
   "outputs": [
    {
     "data": {
      "text/plain": [
       "<matplotlib.legend.Legend at 0x10e6db898>"
      ]
     },
     "execution_count": 39,
     "metadata": {},
     "output_type": "execute_result"
    },
    {
     "data": {
      "image/png": "[encoded data removed]",
      "text/plain": [
       "<matplotlib.figure.Figure at 0x10e364e80>"
      ]
     },
     "metadata": {},
     "output_type": "display_data"
    }
   ],
   "source": [
    "#plt.xlim(-0.1,6)\n",
    "p1=plt.scatter(g,K_WT,s=10)\n",
    "p2=plt.scatter(g,K_WGC,s=10)\n",
    "p3=plt.scatter(g,K_LDA,s=10)\n",
    "#p4=plt.scatter(g,K_KGAP*rho23,s=10)\n",
    "p5=plt.scatter(g,K_KS,s=12,marker='*')\n",
    "#plt.ylim(-15,2)\n",
    "plt.legend((p1,p2,p3,p5),(u'WT',u'WGC',u'LDA',u'KS'))"
   ]
  },
  {
   "cell_type": "markdown",
   "metadata": {},
   "source": [
    "#  Atom in the centern of cubic box"
   ]
  },
  {
   "cell_type": "markdown",
   "metadata": {},
   "source": [
    "## Fermi enenrgy= 7.4126"
   ]
  },
  {
   "cell_type": "code",
   "execution_count": 40,
   "metadata": {
    "collapsed": true
   },
   "outputs": [],
   "source": [
    "def rho_KE(pot):\n",
    "    rho_KE = pot.fft()\n",
    "    gg= pot.grid.get_reciprocal().gg\n",
    "    rho_KE=rho_KE*gg\n",
    "    rho_KE=np.real(rho_KE)\n",
    "    return rho_KE "
   ]
  },
  {
   "cell_type": "code",
   "execution_count": 41,
   "metadata": {
    "collapsed": true
   },
   "outputs": [],
   "source": [
    "def rho_KE_r(pot,sigma=0.0):\n",
    "    rho_KE = pot.fft()\n",
    "    gg = pot.grid.get_reciprocal().gg\n",
    "    rho_KE=rho_KE*gg*np.exp(-gg*sigma**2/4.0)\n",
    "    rho_KE_r=rho_KE.ifft()\n",
    "    return rho_KE_r"
   ]
  },
  {
   "cell_type": "code",
   "execution_count": 42,
   "metadata": {
    "collapsed": true
   },
   "outputs": [],
   "source": [
    "H_c=PP('/Users/wenhui/Research/Rutgers/ATLAS_MI/Benchmarks/do/Si/SC/Si_TF_c/pot_H.pp').read()\n",
    "H_c=H_c.field"
   ]
  },
  {
   "cell_type": "code",
   "execution_count": 43,
   "metadata": {
    "collapsed": true
   },
   "outputs": [],
   "source": [
    "XC_c=PP('/Users/wenhui/Research/Rutgers/ATLAS_MI/Benchmarks/do/Si/SC/Si_TF_c/pot_XC.pp').read()\n",
    "XC_c=XC_c.field"
   ]
  },
  {
   "cell_type": "code",
   "execution_count": 44,
   "metadata": {
    "collapsed": true
   },
   "outputs": [],
   "source": [
    "Loc_c=PP('/Users/wenhui/Research/Rutgers/ATLAS_MI/Benchmarks/do/Si/SC/Si_TF_c/pot_ion.pp').read()\n",
    "Loc_c=Loc_c.field"
   ]
  },
  {
   "cell_type": "code",
   "execution_count": 45,
   "metadata": {
    "collapsed": true
   },
   "outputs": [],
   "source": [
    "WT_c=PP('/Users/wenhui/Research/Rutgers/ATLAS_MI/Benchmarks/do/Si/SC/Si_WT_c/pot_ke.pp').read()\n",
    "WT_c=WT_c.field"
   ]
  },
  {
   "cell_type": "code",
   "execution_count": 46,
   "metadata": {
    "collapsed": true
   },
   "outputs": [],
   "source": [
    "WGC_c=PP('/Users/wenhui/Research/Rutgers/ATLAS_MI/Benchmarks/do/Si/SC/Si_WGC_c/pot_ke.pp').read()\n",
    "WGC_c=WGC_c.field"
   ]
  },
  {
   "cell_type": "code",
   "execution_count": 47,
   "metadata": {
    "collapsed": true
   },
   "outputs": [],
   "source": [
    "rho_c=PP('/Users/wenhui/Research/Rutgers/ATLAS_MI/Benchmarks/do/Si/SC/Si_WGC_c/rho.pp').read()\n",
    "rho_c=rho_c.field"
   ]
  },
  {
   "cell_type": "code",
   "execution_count": 48,
   "metadata": {
    "collapsed": true
   },
   "outputs": [],
   "source": [
    "TV_c=PP('/Users/wenhui/Research/Rutgers/ATLAS_MI/Benchmarks/do/Si/SC/Si_TV_c/rho.pp').read()\n",
    "TV_c=TV_c.field"
   ]
  },
  {
   "cell_type": "code",
   "execution_count": 49,
   "metadata": {
    "collapsed": true
   },
   "outputs": [],
   "source": [
    "KS_c=-1.0*(H_c + XC_c + Loc_c) + 7.4126/27.211396132"
   ]
  },
  {
   "cell_type": "code",
   "execution_count": 50,
   "metadata": {
    "collapsed": true
   },
   "outputs": [],
   "source": [
    "gg=H_c.grid.get_reciprocal().gg\n",
    "#KS_SC_c_g = KS_SC_c.fft()\n",
    "#KS_SC_c_g = np.abs(KS_SC_c_g * gg)\n",
    "g=gg**0.5"
   ]
  },
  {
   "cell_type": "code",
   "execution_count": 51,
   "metadata": {
    "collapsed": true
   },
   "outputs": [],
   "source": [
    "WGC_c_NL=WGC_c-TV_c\n",
    "WT_c_NL=WT_c-TV_c\n",
    "KS_c_NL=KS_c-TV_c"
   ]
  },
  {
   "cell_type": "code",
   "execution_count": 52,
   "metadata": {
    "collapsed": true
   },
   "outputs": [],
   "source": [
    "def Ker_WT(Rho,pot):\n",
    "    Rho23_g=(Rho**(2.0/3.0)).fft()\n",
    "    Rho_16 = Rho**(1.0/6.0)\n",
    "    Rho_56 = Rho**(5.0/6.0)\n",
    "    ker1=pot*Rho_16\n",
    "    ker2=Rho_56.fft()\n",
    "    Ker_WT= ker1.fft()#/ker2\n",
    "    Ker_WT=0.6*np.real(Ker_WT)#*ker2\n",
    "    return Ker_WT"
   ]
  },
  {
   "cell_type": "code",
   "execution_count": 53,
   "metadata": {
    "collapsed": true
   },
   "outputs": [],
   "source": [
    "K_WGC_c=Ker_WT(rho_c,WGC_c_NL)\n",
    "K_WT_c=Ker_WT(rho_c,WT_c_NL)\n",
    "K_KS_c=Ker_WT(rho_c,KS_c_NL)"
   ]
  },
  {
   "cell_type": "code",
   "execution_count": 54,
   "metadata": {
    "collapsed": true
   },
   "outputs": [],
   "source": [
    "rho56=np.real((rho_c**(5.0/6.0)).fft())"
   ]
  },
  {
   "cell_type": "code",
   "execution_count": 57,
   "metadata": {},
   "outputs": [
    {
     "data": {
      "text/plain": [
       "<matplotlib.legend.Legend at 0x10f216f60>"
      ]
     },
     "execution_count": 57,
     "metadata": {},
     "output_type": "execute_result"
    },
    {
     "data": {
      "image/png": "[encoded data removed]",
      "text/plain": [
       "<matplotlib.figure.Figure at 0x10eea29b0>"
      ]
     },
     "metadata": {},
     "output_type": "display_data"
    }
   ],
   "source": [
    "plt.xlim(-0.1,8)\n",
    "p1=plt.scatter(g,K_WT_c,s=10)\n",
    "p2=plt.scatter(g,K_WGC_c,s=10)\n",
    "p3=plt.scatter(g,K_KS_c,s=12,marker='*')\n",
    "#p4=plt.scatter(g,K_KS,s=10,marker='o')\n",
    "#p5=plt.scatter(g,K_WT,s=10,marker='v')\n",
    "\n",
    "#plt.ylim(-4,2)\n",
    "plt.legend((p1,p2,p3,p4,p5),(u'WT',u'WGC',u'KS',u'KS_k',u'WT_k'))"
   ]
  },
  {
   "cell_type": "code",
   "execution_count": 59,
   "metadata": {
    "collapsed": true
   },
   "outputs": [],
   "source": [
    "KS_SC_c_g=rho_KE(KS_c)\n",
    "KS_SC_r=rho_KE_r(KS_c)\n",
    "H_g=rho_KE(H_c)\n",
    "H_r=rho_KE_r(H_c)\n",
    "XC_g=rho_KE(XC_c)\n",
    "XC_r=rho_KE_r(XC_c)\n",
    "Loc_g=rho_KE(Loc_c)\n",
    "Loc_r=rho_KE_r(Loc_c)\n",
    "Loc_r_numcheck = rho_KE_r(Loc_c,sigma=0)\n",
    "WGC_r=rho_KE_r(WGC_c)\n",
    "WGC_g=rho_KE(WGC_c)\n",
    "WT_r=rho_KE_r(WT_c)\n",
    "WT_g=rho_KE(WT_c)"
   ]
  },
  {
   "cell_type": "code",
   "execution_count": 60,
   "metadata": {},
   "outputs": [
    {
     "data": {
      "text/plain": [
       "(2.6852457466739655e-14-3.5224280474398014e-28j)"
      ]
     },
     "execution_count": 60,
     "metadata": {},
     "output_type": "execute_result"
    }
   ],
   "source": [
    "Loc_r.integral()"
   ]
  },
  {
   "cell_type": "code",
   "execution_count": 316,
   "metadata": {},
   "outputs": [
    {
     "data": {
      "image/png": "[encoded data removed]",
      "text/plain": [
       "<matplotlib.figure.Figure at 0x1192235f8>"
      ]
     },
     "metadata": {},
     "output_type": "display_data"
    }
   ],
   "source": [
    "#p1=plt.scatter(g,KS_SC_g,marker='v',s=18.0,alpha=1.0)\n",
    "p1=plt.scatter(g,KS_SC_c_g,marker='o',s=12.0,alpha=0.5)\n"
   ]
  },
  {
   "cell_type": "code",
   "execution_count": 61,
   "metadata": {},
   "outputs": [
    {
     "data": {
      "text/plain": [
       "<matplotlib.text.Text at 0x10ed7d438>"
      ]
     },
     "execution_count": 61,
     "metadata": {},
     "output_type": "execute_result"
    },
    {
     "data": {
      "image/png": "[encoded data removed]",
      "text/plain": [
       "<matplotlib.figure.Figure at 0x10e496d30>"
      ]
     },
     "metadata": {},
     "output_type": "display_data"
    }
   ],
   "source": [
    "#p1=plt.scatter(g,KS_SC_g,marker='v',s=18.0,alpha=1.0)\n",
    "p2=plt.scatter(g,KS_SC_c_g,marker='o',s=12.0,alpha=0.5)\n",
    "p3=plt.scatter(g,H_g,marker='o',s=12.0,alpha=1.0)\n",
    "p5=plt.scatter(g,XC_g,marker='o',s=12.0,alpha=1.0)\n",
    "p6=plt.scatter(g,Loc_g,marker='o',s=12.0,alpha=1.0)\n",
    "plt.legend((p2,p3,p5,p6),(u'KS',u'H',u'XC',u'Loc'))\n",
    "plt.xlabel('g (a.u.)')\n",
    "plt.ylabel('Source of the Potential (g) (a.u.)')\n",
    "#plt.savefig()"
   ]
  },
  {
   "cell_type": "code",
   "execution_count": 62,
   "metadata": {},
   "outputs": [
    {
     "name": "stderr",
     "output_type": "stream",
     "text": [
      "/Users/wenhui/anaconda/lib/python3.6/site-packages/ipykernel_launcher.py:9: ComplexWarning: Casting complex values to real discards the imaginary part\n",
      "  if __name__ == '__main__':\n",
      "/Users/wenhui/anaconda/lib/python3.6/site-packages/ipykernel_launcher.py:10: ComplexWarning: Casting complex values to real discards the imaginary part\n",
      "  # Remove the CWD from sys.path while we load stuff.\n",
      "/Users/wenhui/anaconda/lib/python3.6/site-packages/ipykernel_launcher.py:11: ComplexWarning: Casting complex values to real discards the imaginary part\n",
      "  # This is added back by InteractiveShellApp.init_path()\n",
      "/Users/wenhui/anaconda/lib/python3.6/site-packages/ipykernel_launcher.py:12: ComplexWarning: Casting complex values to real discards the imaginary part\n",
      "  if sys.path[0] == '':\n",
      "/Users/wenhui/anaconda/lib/python3.6/site-packages/ipykernel_launcher.py:13: ComplexWarning: Casting complex values to real discards the imaginary part\n",
      "  del sys.path[0]\n",
      "/Users/wenhui/anaconda/lib/python3.6/site-packages/ipykernel_launcher.py:14: ComplexWarning: Casting complex values to real discards the imaginary part\n",
      "  \n"
     ]
    }
   ],
   "source": [
    "nnr=24\n",
    "h=np.arange(nnr,dtype='float')\n",
    "xc=np.arange(nnr,dtype='float')\n",
    "ion=np.arange(nnr,dtype='float')\n",
    "ks=np.arange(nnr,dtype='float')\n",
    "wt=np.arange(nnr,dtype='float')\n",
    "wgc=np.arange(nnr,dtype='float')\n",
    "for i in range(0,24):\n",
    "    h[i]=H_r[i,i,i,0]\n",
    "    xc[i]=XC_r[i,i,i,0]\n",
    "    ion[i]=Loc_r[i,i,i,0]\n",
    "    ks[i]=KS_SC_r[i,i,i,0]\n",
    "    wt[i]=WT_r[i,i,i,0]\n",
    "    wgc[i]=WGC_r[i,i,i,0]"
   ]
  },
  {
   "cell_type": "code",
   "execution_count": null,
   "metadata": {
    "collapsed": true
   },
   "outputs": [],
   "source": []
  },
  {
   "cell_type": "code",
   "execution_count": 63,
   "metadata": {},
   "outputs": [
    {
     "data": {
      "text/plain": [
       "<matplotlib.legend.Legend at 0x10e305780>"
      ]
     },
     "execution_count": 63,
     "metadata": {},
     "output_type": "execute_result"
    },
    {
     "data": {
      "image/png": "[encoded data removed]",
      "text/plain": [
       "<matplotlib.figure.Figure at 0x10e5822e8>"
      ]
     },
     "metadata": {},
     "output_type": "display_data"
    }
   ],
   "source": [
    "plt.plot(ks,label='KS')\n",
    "plt.plot(h,label='H')\n",
    "plt.plot(xc,label='XC')\n",
    "plt.plot(ion,label='Loc')\n",
    "plt.plot(wt,label='WT')\n",
    "plt.plot(wgc,label='WGC')\n",
    "\n",
    "#plt.ylim([-5,5])\n",
    "plt.legend()"
   ]
  },
  {
   "cell_type": "code",
   "execution_count": 64,
   "metadata": {},
   "outputs": [
    {
     "data": {
      "text/plain": [
       "<matplotlib.legend.Legend at 0x10f9e5780>"
      ]
     },
     "execution_count": 64,
     "metadata": {},
     "output_type": "execute_result"
    },
    {
     "data": {
      "image/png": "[encoded data removed]",
      "text/plain": [
       "<matplotlib.figure.Figure at 0x10e5827b8>"
      ]
     },
     "metadata": {},
     "output_type": "display_data"
    }
   ],
   "source": [
    "plt.plot(ks,label='KS')\n",
    "plt.plot(wt,label='WT')\n",
    "plt.plot(wgc,label='WGC')\n",
    "plt.legend()"
   ]
  },
  {
   "cell_type": "code",
   "execution_count": 65,
   "metadata": {},
   "outputs": [
    {
     "data": {
      "text/plain": [
       "<matplotlib.legend.Legend at 0x10f95e940>"
      ]
     },
     "execution_count": 65,
     "metadata": {},
     "output_type": "execute_result"
    },
    {
     "data": {
      "image/png": "[encoded data removed]",
      "text/plain": [
       "<matplotlib.figure.Figure at 0x10f9fadd8>"
      ]
     },
     "metadata": {},
     "output_type": "display_data"
    }
   ],
   "source": [
    "plt.plot(xc,label='XC')\n",
    "plt.plot(h,label='H')\n",
    "plt.legend()"
   ]
  },
  {
   "cell_type": "code",
   "execution_count": 66,
   "metadata": {
    "collapsed": true
   },
   "outputs": [],
   "source": [
    "rho=PP('/Users/wenhui/Research/Rutgers/ATLAS_MI/Benchmarks/do/Si/SC/Si_TF_c/rho.pp').read()\n",
    "rho=rho.field.fft()\n",
    "rho=np.abs(rho)"
   ]
  },
  {
   "cell_type": "code",
   "execution_count": 67,
   "metadata": {},
   "outputs": [
    {
     "data": {
      "text/plain": [
       "(0, 4)"
      ]
     },
     "execution_count": 67,
     "metadata": {},
     "output_type": "execute_result"
    },
    {
     "data": {
      "image/png": "[encoded data removed]",
      "text/plain": [
       "<matplotlib.figure.Figure at 0x10f8ea208>"
      ]
     },
     "metadata": {},
     "output_type": "display_data"
    }
   ],
   "source": [
    "p1=plt.scatter(g,rho,marker='o',s=18.0,alpha=1.0)\n",
    "plt.xlim([0,4])"
   ]
  },
  {
   "cell_type": "code",
   "execution_count": 72,
   "metadata": {},
   "outputs": [
    {
     "data": {
      "text/plain": [
       "-56.550529173122"
      ]
     },
     "execution_count": 72,
     "metadata": {},
     "output_type": "execute_result"
    }
   ],
   "source": [
    "-4.15630876*27.2119/2"
   ]
  },
  {
   "cell_type": "markdown",
   "metadata": {},
   "source": [
    "# SC Al Fermi Energy=5.2447 eV"
   ]
  },
  {
   "cell_type": "code",
   "execution_count": 9,
   "metadata": {
    "collapsed": true
   },
   "outputs": [],
   "source": [
    "H=PP('/Users/wenhui/Research/Rutgers/ATLAS_MI/Benchmarks/do/Al/SC/Al_WT/pot_H.pp').read()\n",
    "H=H.field"
   ]
  },
  {
   "cell_type": "code",
   "execution_count": 10,
   "metadata": {
    "collapsed": true
   },
   "outputs": [],
   "source": [
    "XC=PP('/Users/wenhui/Research/Rutgers/ATLAS_MI/Benchmarks/do/Al/SC/Al_WT/pot_XC.pp').read()\n",
    "XC=XC.field"
   ]
  },
  {
   "cell_type": "code",
   "execution_count": 11,
   "metadata": {
    "collapsed": true
   },
   "outputs": [],
   "source": [
    "ION=PP('/Users/wenhui/Research/Rutgers/ATLAS_MI/Benchmarks/do/Al/SC/Al_WT/pot_ion.pp').read()\n",
    "ION=ION.field"
   ]
  },
  {
   "cell_type": "code",
   "execution_count": 12,
   "metadata": {
    "collapsed": true
   },
   "outputs": [],
   "source": [
    "WT=PP('/Users/wenhui/Research/Rutgers/ATLAS_MI/Benchmarks/do/Al/SC/Al_WT/pot_ke.pp').read()\n",
    "WT=WT.field"
   ]
  },
  {
   "cell_type": "code",
   "execution_count": 13,
   "metadata": {
    "collapsed": true
   },
   "outputs": [],
   "source": [
    "WT_s=PP('/Users/wenhui/Research/Rutgers/ATLAS_MI/Benchmarks/do/Al/SC/Al_WT_scf/pot_ke.pp').read()\n",
    "WT_s=WT_s.field"
   ]
  },
  {
   "cell_type": "code",
   "execution_count": 14,
   "metadata": {
    "collapsed": true
   },
   "outputs": [],
   "source": [
    "rho=PP('/Users/wenhui/Research/Rutgers/ATLAS_MI/Benchmarks/do/Al/SC/Al_WT/rho.pp').read()\n",
    "rho=rho.field"
   ]
  },
  {
   "cell_type": "code",
   "execution_count": 15,
   "metadata": {
    "collapsed": true
   },
   "outputs": [],
   "source": [
    "TV=PP('/Users/wenhui/Research/Rutgers/ATLAS_MI/Benchmarks/do/Al/SC/Al_TV/pot_ke.pp').read()\n",
    "TV=TV.field"
   ]
  },
  {
   "cell_type": "code",
   "execution_count": 16,
   "metadata": {
    "collapsed": true
   },
   "outputs": [],
   "source": [
    "MGP=PP('/Users/wenhui/Research/Rutgers/ATLAS_MI/Benchmarks/do/Al/SC/Al_MGP/pot_ke.pp').read()\n",
    "MGP=MGP.field"
   ]
  },
  {
   "cell_type": "code",
   "execution_count": 17,
   "metadata": {
    "collapsed": true
   },
   "outputs": [],
   "source": [
    "MGP_s=PP('/Users/wenhui/Research/Rutgers/ATLAS_MI/Benchmarks/do/Al/SC/Al_MGP_scf/pot_ke.pp').read()\n",
    "MGP_s=MGP_s.field"
   ]
  },
  {
   "cell_type": "code",
   "execution_count": 18,
   "metadata": {
    "collapsed": true
   },
   "outputs": [],
   "source": [
    "def rho_KE(pot):\n",
    "    rho_KE = pot.fft()\n",
    "    gg= pot.grid.get_reciprocal().gg\n",
    "    rho_KE=rho_KE*gg\n",
    "    rho_KE=np.real(rho_KE)\n",
    "    return rho_KE "
   ]
  },
  {
   "cell_type": "code",
   "execution_count": 19,
   "metadata": {
    "collapsed": true
   },
   "outputs": [],
   "source": [
    "def rho_KE_r(pot,sigma=0.0):\n",
    "    rho_KE = pot.fft()\n",
    "    gg = pot.grid.get_reciprocal().gg\n",
    "    rho_KE=rho_KE*gg*np.exp(-gg*sigma**2/4.0)\n",
    "    rho_KE_r=rho_KE.ifft()\n",
    "    return rho_KE_r"
   ]
  },
  {
   "cell_type": "code",
   "execution_count": 25,
   "metadata": {
    "collapsed": true
   },
   "outputs": [],
   "source": [
    "def Ker_WT(Rho,pot):\n",
    "    Rho23_g=(Rho**(2.0/3.0)).fft()\n",
    "    Rho_16 = Rho**(1.0/6.0)\n",
    "    Rho_56 = Rho**(5.0/6.0)\n",
    "    ker1=pot*Rho_16\n",
    "    ker2=Rho_56.fft()\n",
    "    Ker_WT= ker1.fft()#/ker2\n",
    "    Ker_WT=0.6*np.real(Ker_WT)#*ker2\n",
    "    return Ker_WT"
   ]
  },
  {
   "cell_type": "code",
   "execution_count": 20,
   "metadata": {
    "collapsed": true
   },
   "outputs": [],
   "source": [
    "KS=-1.0*( H + XC + ION) + 5.2447/27.211396132"
   ]
  },
  {
   "cell_type": "code",
   "execution_count": 22,
   "metadata": {
    "collapsed": true
   },
   "outputs": [],
   "source": [
    "g=KS.grid.get_reciprocal().gg\n",
    "g=np.sqrt(g)"
   ]
  },
  {
   "cell_type": "code",
   "execution_count": 23,
   "metadata": {
    "collapsed": true
   },
   "outputs": [],
   "source": [
    "KS_NL=KS-TV\n",
    "WT_NL=WT-TV\n",
    "WT_s_NL=WT_s-TV"
   ]
  },
  {
   "cell_type": "code",
   "execution_count": 24,
   "metadata": {
    "collapsed": true
   },
   "outputs": [],
   "source": [
    "MGP_NL=MGP-TV\n",
    "MGP_s_NL=MGP_s-TV"
   ]
  },
  {
   "cell_type": "code",
   "execution_count": 27,
   "metadata": {
    "collapsed": true
   },
   "outputs": [],
   "source": [
    "K_WT=Ker_WT(rho,WT_NL)\n",
    "K_KS=Ker_WT(rho,KS_NL)\n",
    "K_WT_s=Ker_WT(rho,WT_s_NL)\n",
    "K_MGP=Ker_WT(rho,MGP_NL)\n",
    "K_MGP_s=Ker_WT(rho,MGP_s_NL)"
   ]
  },
  {
   "cell_type": "code",
   "execution_count": 29,
   "metadata": {},
   "outputs": [
    {
     "data": {
      "image/png": "[encoded data removed]",
      "text/plain": [
       "<matplotlib.figure.Figure at 0x10e06f7f0>"
      ]
     },
     "metadata": {},
     "output_type": "display_data"
    }
   ],
   "source": [
    "plt.xlim(-0.1,8)\n",
    "p1=plt.scatter(g,K_WT,s=10)\n",
    "p2=plt.scatter(g,K_KS,s=20)\n",
    "p3=plt.scatter(g,K_WT_s,s=12,marker='*')\n",
    "p4=plt.scatter(g,K_MGP,s=12)\n",
    "p5=plt.scatter(g,K_MGP_s,s=12,marker='v')\n",
    "plt.legend((p1,p2,p3,p4,p5),(u'WT',u'KS',u'WT_s',u'MGP',u'MGP_s'))\n",
    "plt.savefig('./fig/Al_effective_kernel.eps')"
   ]
  },
  {
   "cell_type": "code",
   "execution_count": 98,
   "metadata": {
    "collapsed": true
   },
   "outputs": [],
   "source": [
    "KS_r=rho_KE_r(KS)\n",
    "KS_g=rho_KE(KS)"
   ]
  },
  {
   "cell_type": "code",
   "execution_count": 99,
   "metadata": {
    "collapsed": true
   },
   "outputs": [],
   "source": [
    "WT_r=rho_KE_r(WT)\n",
    "WT_g=rho_KE(WT)"
   ]
  },
  {
   "cell_type": "code",
   "execution_count": 100,
   "metadata": {
    "collapsed": true
   },
   "outputs": [],
   "source": [
    "WT_s_r=rho_KE_r(WT_s)\n",
    "WT_s_g=rho_KE(WT_s)"
   ]
  },
  {
   "cell_type": "code",
   "execution_count": 81,
   "metadata": {
    "collapsed": true
   },
   "outputs": [],
   "source": [
    "H_r=rho_KE_r(H)\n",
    "H_g=rho_KE(H)\n",
    "XC_r=rho_KE_r(XC)\n",
    "XC_g=rho_KE(XC)\n",
    "ION_r=rho_KE_r(ION)\n",
    "ION_g=rho_KE(ION)"
   ]
  },
  {
   "cell_type": "code",
   "execution_count": null,
   "metadata": {
    "collapsed": true
   },
   "outputs": [],
   "source": []
  },
  {
   "cell_type": "code",
   "execution_count": 82,
   "metadata": {},
   "outputs": [
    {
     "name": "stderr",
     "output_type": "stream",
     "text": [
      "/Users/wenhui/anaconda/lib/python3.6/site-packages/ipykernel_launcher.py:13: ComplexWarning: Casting complex values to real discards the imaginary part\n",
      "  del sys.path[0]\n",
      "/Users/wenhui/anaconda/lib/python3.6/site-packages/ipykernel_launcher.py:14: ComplexWarning: Casting complex values to real discards the imaginary part\n",
      "  \n",
      "/Users/wenhui/anaconda/lib/python3.6/site-packages/ipykernel_launcher.py:15: ComplexWarning: Casting complex values to real discards the imaginary part\n",
      "  from ipykernel import kernelapp as app\n",
      "/Users/wenhui/anaconda/lib/python3.6/site-packages/ipykernel_launcher.py:16: ComplexWarning: Casting complex values to real discards the imaginary part\n",
      "  app.launch_new_instance()\n",
      "/Users/wenhui/anaconda/lib/python3.6/site-packages/ipykernel_launcher.py:17: ComplexWarning: Casting complex values to real discards the imaginary part\n",
      "/Users/wenhui/anaconda/lib/python3.6/site-packages/ipykernel_launcher.py:18: ComplexWarning: Casting complex values to real discards the imaginary part\n"
     ]
    }
   ],
   "source": [
    "nnr=24\n",
    "h=np.arange(nnr,dtype='float')\n",
    "xc=np.arange(nnr,dtype='float')\n",
    "ion=np.arange(nnr,dtype='float')\n",
    "ks=np.arange(nnr,dtype='float')\n",
    "wt=np.arange(nnr,dtype='float')\n",
    "KS_k=np.arange(nnr,dtype='float')\n",
    "WT_k=np.arange(nnr,dtype='float')\n",
    "WT_s_k=np.arange(nnr,dtype='float')\n",
    "wt_s=np.arange(nnr,dtype='float')\n",
    "rh=np.arange(nnr,dtype='float')\n",
    "for i in range(0,24):\n",
    "    h[i]=H_r[i,i,i,0]\n",
    "    xc[i]=XC_r[i,i,i,0]\n",
    "    ion[i]=ION_r[i,i,i,0]\n",
    "    ks[i]=KS_r[i,i,i,0]\n",
    "    wt[i]=WT_r[i,i,i,0]\n",
    "    wt_s[i]=WT_s_r[i,i,i,0]\n",
    "    KS_k[i]=KS[i,i,i,0]\n",
    "    WT_k[i]=WT[i,i,i,0]\n",
    "    WT_s_k[i]=WT_s[i,i,i,0]\n",
    "    rh[i] = rho[i,i,i,0]"
   ]
  },
  {
   "cell_type": "markdown",
   "metadata": {},
   "source": [
    "## The effective electron of corresponding potential in [111] direction (Real space)"
   ]
  },
  {
   "cell_type": "code",
   "execution_count": 83,
   "metadata": {},
   "outputs": [
    {
     "data": {
      "image/png": "[encoded data removed]",
      "text/plain": [
       "<matplotlib.figure.Figure at 0x10f3384a8>"
      ]
     },
     "metadata": {},
     "output_type": "display_data"
    }
   ],
   "source": [
    "\n",
    "plt.plot(ks,label='KS')\n",
    "plt.plot(h,label='H')\n",
    "plt.plot(xc,label='XC')\n",
    "plt.plot(ion,label='Loc')\n",
    "plt.plot(wt,label='WT')\n",
    "plt.plot(wt_s,label='WT_s')\n",
    "#plt.plot(LDA,label='LDA')\n",
    "plt.ylabel('Source of Potential (a.u.)')\n",
    "#plt.ylim([-5,5])\n",
    "plt.legend()\n",
    "plt.savefig('fig/Al_SC_Source.eps')"
   ]
  },
  {
   "cell_type": "code",
   "execution_count": 84,
   "metadata": {},
   "outputs": [
    {
     "data": {
      "image/png": "[encoded data removed]",
      "text/plain": [
       "<matplotlib.figure.Figure at 0x10f3a2240>"
      ]
     },
     "metadata": {},
     "output_type": "display_data"
    }
   ],
   "source": [
    "plt.plot(ks,label='KS')\n",
    "plt.plot(wt,label='WT')\n",
    "plt.plot(wt_s,label='WT_scf')\n",
    "plt.legend()\n",
    "plt.ylabel('Source of Potential (a.u.)')\n",
    "plt.savefig('fig/Al_SC_Source_KW.eps')"
   ]
  },
  {
   "cell_type": "code",
   "execution_count": 85,
   "metadata": {},
   "outputs": [
    {
     "data": {
      "image/png": "[encoded data removed]",
      "text/plain": [
       "<matplotlib.figure.Figure at 0x10f6da6a0>"
      ]
     },
     "metadata": {},
     "output_type": "display_data"
    }
   ],
   "source": [
    "rho0=2.091632304623135E-002\n",
    "plt.plot(h,label='H')\n",
    "plt.plot(xc,label='XC')\n",
    "plt.plot(4.0*np.pi*(rh-rho0),label='rho')\n",
    "plt.legend()\n",
    "plt.ylabel('Source of Potential (a.u.)')\n",
    "plt.savefig('fig/Al_SC_Source_HXC.eps')"
   ]
  },
  {
   "cell_type": "markdown",
   "metadata": {},
   "source": [
    "## Real effective kinetic potentials in real space"
   ]
  },
  {
   "cell_type": "code",
   "execution_count": 86,
   "metadata": {},
   "outputs": [
    {
     "data": {
      "image/png": "[encoded data removed]",
      "text/plain": [
       "<matplotlib.figure.Figure at 0x10f2d5080>"
      ]
     },
     "metadata": {},
     "output_type": "display_data"
    }
   ],
   "source": [
    "plt.plot(KS_k,label='KS')\n",
    "plt.plot(WT_k,label='WT')\n",
    "plt.plot(WT_s_k,label='WT_s')\n",
    "#plt.xlim(3,22)\n",
    "plt.ylabel('Kinetic Potential (a.u.)')\n",
    "plt.legend()\n",
    "plt.savefig('fig/Al_SC_KEDF_KWS.eps')"
   ]
  },
  {
   "cell_type": "markdown",
   "metadata": {},
   "source": [
    "## The effective electron of corresponding potential in g space"
   ]
  },
  {
   "cell_type": "code",
   "execution_count": 92,
   "metadata": {},
   "outputs": [
    {
     "data": {
      "image/png": "[encoded data removed]",
      "text/plain": [
       "<matplotlib.figure.Figure at 0x11cca9a90>"
      ]
     },
     "metadata": {},
     "output_type": "display_data"
    }
   ],
   "source": [
    "p1=plt.scatter(g,KS_g,marker='v',s=18.0,alpha=1.0)\n",
    "p2=plt.scatter(g,WT_g,marker='o',s=12.0,alpha=0.5)\n",
    "p3=plt.scatter(g,H_g,marker='o',s=12.0,alpha=1.0)\n",
    "p4=plt.scatter(g,XC_g,marker='o',s=12.0,alpha=1.0)\n",
    "p5=plt.scatter(g,ION_g,marker='o',s=12.0,alpha=1.0)\n",
    "plt.xlim(0,15)\n",
    "plt.legend((p1,p2,p3,p4,p5),(u'KS',u'WT',u'H',u'XC',u'ION'))\n",
    "plt.ylabel('Source of Potential (g) (a.u.)')\n",
    "plt.xlabel('g (a.u.)')\n",
    "plt.savefig('fig/Al_sourcetest.eps')"
   ]
  },
  {
   "cell_type": "code",
   "execution_count": 93,
   "metadata": {},
   "outputs": [
    {
     "data": {
      "image/png": "[encoded data removed]",
      "text/plain": [
       "<matplotlib.figure.Figure at 0x11d95a4a8>"
      ]
     },
     "metadata": {},
     "output_type": "display_data"
    }
   ],
   "source": [
    "p1=plt.scatter(g,ION_g,marker='o',s=12.0,alpha=1.0)\n",
    "plt.ylabel('Souce of Pseudopotential (g) (a.u.)' )\n",
    "plt.xlabel('g(a.u.)')\n",
    "plt.savefig('fig/Al_PP_g.eps')"
   ]
  },
  {
   "cell_type": "code",
   "execution_count": 94,
   "metadata": {},
   "outputs": [
    {
     "data": {
      "image/png": "[encoded data removed]",
      "text/plain": [
       "<matplotlib.figure.Figure at 0x11fa78550>"
      ]
     },
     "metadata": {},
     "output_type": "display_data"
    }
   ],
   "source": [
    "p1=plt.scatter(g,XC_g,marker='v',s=12.0,alpha=1.0)\n",
    "p2=plt.scatter(g,H_g,marker='o',s=12.0,alpha=1.0)\n",
    "plt.legend((p1,p2),(u'XC',u'H'))\n",
    "plt.ylabel('Source of Potential (g) (a.u.)')\n",
    "plt.xlabel('g (a.u.)')\n",
    "#plt.xlim(0,8)\n",
    "plt.savefig('fig/Al_HXC_g.eps')"
   ]
  },
  {
   "cell_type": "code",
   "execution_count": null,
   "metadata": {
    "collapsed": true
   },
   "outputs": [],
   "source": []
  },
  {
   "cell_type": "markdown",
   "metadata": {
    "collapsed": true
   },
   "source": [
    "# SC Al with a=2.2/4.0"
   ]
  },
  {
   "cell_type": "code",
   "execution_count": 95,
   "metadata": {
    "collapsed": true
   },
   "outputs": [],
   "source": [
    "ION_22=PP('/Users/wenhui/Research/Rutgers/ATLAS_MI/Benchmarks/do/Al/SC/Al_WT_2.2/pot_ion.pp').read()\n",
    "ION_22=ION_22.field"
   ]
  },
  {
   "cell_type": "code",
   "execution_count": 96,
   "metadata": {
    "collapsed": true
   },
   "outputs": [],
   "source": [
    "ION_4=PP('/Users/wenhui/Research/Rutgers/ATLAS_MI/Benchmarks/do/Al/SC/Al_WT_4/pot_ion.pp').read()\n",
    "ION_4=ION_4.field"
   ]
  },
  {
   "cell_type": "code",
   "execution_count": 97,
   "metadata": {
    "collapsed": true
   },
   "outputs": [],
   "source": [
    "g2=ION_22.grid.get_reciprocal().gg\n",
    "g2=np.sqrt(g2)"
   ]
  },
  {
   "cell_type": "code",
   "execution_count": 98,
   "metadata": {
    "collapsed": true
   },
   "outputs": [],
   "source": [
    "g4=ION_4.grid.get_reciprocal().gg\n",
    "g4=np.sqrt(g4)"
   ]
  },
  {
   "cell_type": "code",
   "execution_count": 99,
   "metadata": {},
   "outputs": [
    {
     "data": {
      "text/plain": [
       "(18, 18, 18, 1)"
      ]
     },
     "execution_count": 99,
     "metadata": {},
     "output_type": "execute_result"
    }
   ],
   "source": [
    "g2.shape"
   ]
  },
  {
   "cell_type": "code",
   "execution_count": 100,
   "metadata": {},
   "outputs": [
    {
     "data": {
      "text/plain": [
       "(36, 36, 36, 1)"
      ]
     },
     "execution_count": 100,
     "metadata": {},
     "output_type": "execute_result"
    }
   ],
   "source": [
    "g4.shape"
   ]
  },
  {
   "cell_type": "code",
   "execution_count": 101,
   "metadata": {
    "collapsed": true
   },
   "outputs": [],
   "source": [
    "def rho_KE(pot):\n",
    "    rho_KE = pot.fft()\n",
    "    gg= pot.grid.get_reciprocal().gg\n",
    "    rho_KE=rho_KE*gg\n",
    "    rho_KE=np.real(rho_KE)\n",
    "    return rho_KE "
   ]
  },
  {
   "cell_type": "code",
   "execution_count": 102,
   "metadata": {
    "collapsed": true
   },
   "outputs": [],
   "source": [
    "ION_22_r=rho_KE_r(ION_22)\n",
    "ION_22_g=rho_KE(ION_22)\n",
    "ION_4_r=rho_KE_r(ION_4)\n",
    "ION_4_g=rho_KE(ION_4)"
   ]
  },
  {
   "cell_type": "code",
   "execution_count": 103,
   "metadata": {},
   "outputs": [
    {
     "data": {
      "text/plain": [
       "(18, 18, 18, 1)"
      ]
     },
     "execution_count": 103,
     "metadata": {},
     "output_type": "execute_result"
    }
   ],
   "source": [
    "ION_22_g.shape"
   ]
  },
  {
   "cell_type": "code",
   "execution_count": 104,
   "metadata": {},
   "outputs": [
    {
     "data": {
      "text/plain": [
       "(36, 36, 36, 1)"
      ]
     },
     "execution_count": 104,
     "metadata": {},
     "output_type": "execute_result"
    }
   ],
   "source": [
    "ION_4_g.shape"
   ]
  },
  {
   "cell_type": "code",
   "execution_count": 105,
   "metadata": {},
   "outputs": [
    {
     "data": {
      "image/png": "[encoded data removed]",
      "text/plain": [
       "<matplotlib.figure.Figure at 0x11fa571d0>"
      ]
     },
     "metadata": {},
     "output_type": "display_data"
    }
   ],
   "source": [
    "#p1=plt.scatter(g,ION_g,marker='v',s=12.0,alpha=1.0)\n",
    "p2=plt.scatter(g2,ION_22_g,s=10)\n",
    "p3=plt.scatter(g4,ION_4_g,marker='*',s=4)"
   ]
  },
  {
   "cell_type": "markdown",
   "metadata": {},
   "source": [
    "## Larger Ecut"
   ]
  },
  {
   "cell_type": "code",
   "execution_count": 106,
   "metadata": {
    "collapsed": true
   },
   "outputs": [],
   "source": [
    "ION_180=PP('/Users/wenhui/Research/Rutgers/ATLAS_MI/Benchmarks/do/Al/SC/22_180/vloc.pp').read()\n",
    "ION_180=ION_180.field/2.0"
   ]
  },
  {
   "cell_type": "code",
   "execution_count": 107,
   "metadata": {
    "collapsed": true
   },
   "outputs": [],
   "source": [
    "ION_400=PP('/Users/wenhui/Research/Rutgers/ATLAS_MI/Benchmarks/do/Al/SC/22_400/vloc.pp').read()\n",
    "ION_400=ION_400.field/2.0"
   ]
  },
  {
   "cell_type": "code",
   "execution_count": 108,
   "metadata": {},
   "outputs": [
    {
     "data": {
      "text/plain": [
       "(36, 36, 36, 1)"
      ]
     },
     "execution_count": 108,
     "metadata": {},
     "output_type": "execute_result"
    }
   ],
   "source": [
    "g180=ION_180.grid.get_reciprocal().gg\n",
    "g180=np.sqrt(g180)\n",
    "g180.shape"
   ]
  },
  {
   "cell_type": "code",
   "execution_count": 109,
   "metadata": {},
   "outputs": [
    {
     "data": {
      "text/plain": [
       "(54, 54, 54, 1)"
      ]
     },
     "execution_count": 109,
     "metadata": {},
     "output_type": "execute_result"
    }
   ],
   "source": [
    "g400=ION_400.grid.get_reciprocal().gg\n",
    "g400=np.sqrt(g400)\n",
    "g400.shape"
   ]
  },
  {
   "cell_type": "code",
   "execution_count": 110,
   "metadata": {},
   "outputs": [
    {
     "data": {
      "text/plain": [
       "(18, 18, 18, 1)"
      ]
     },
     "execution_count": 110,
     "metadata": {},
     "output_type": "execute_result"
    }
   ],
   "source": [
    "g2.shape"
   ]
  },
  {
   "cell_type": "code",
   "execution_count": 111,
   "metadata": {
    "collapsed": true
   },
   "outputs": [],
   "source": [
    "ION_180_g=rho_KE(ION_180)\n",
    "ION_400_g=rho_KE(ION_400)"
   ]
  },
  {
   "cell_type": "code",
   "execution_count": 112,
   "metadata": {},
   "outputs": [
    {
     "data": {
      "text/plain": [
       "<matplotlib.legend.Legend at 0x11d9716d8>"
      ]
     },
     "execution_count": 112,
     "metadata": {},
     "output_type": "execute_result"
    },
    {
     "data": {
      "image/png": "[encoded data removed]",
      "text/plain": [
       "<matplotlib.figure.Figure at 0x11f8a2438>"
      ]
     },
     "metadata": {},
     "output_type": "display_data"
    }
   ],
   "source": [
    "p1=plt.scatter(g2,ION_22_g,s=10)\n",
    "#p2=plt.scatter(g4,ION_4_g,marker='*',s=4)\n",
    "p2=plt.scatter(g180,ION_180_g,marker='*',s=8)\n",
    "p3=plt.scatter(g400,ION_400_g,marker='v',s=4)\n",
    "plt.xlim(0,18)\n",
    "plt.legend((p1,p2,p3),(u'18','36','54'))"
   ]
  },
  {
   "cell_type": "code",
   "execution_count": 113,
   "metadata": {
    "collapsed": true
   },
   "outputs": [],
   "source": [
    "ION_t=PP('/Users/wenhui/Research/Rutgers/ATLAS_MI/Benchmarks/do/Al/SC/test/vloc.pp').read()\n",
    "ION_t=ION_t.field/2.0"
   ]
  },
  {
   "cell_type": "code",
   "execution_count": 114,
   "metadata": {},
   "outputs": [
    {
     "data": {
      "text/plain": [
       "(45, 36, 40, 1)"
      ]
     },
     "execution_count": 114,
     "metadata": {},
     "output_type": "execute_result"
    }
   ],
   "source": [
    "gt=ION_t.grid.get_reciprocal().gg\n",
    "gt=np.sqrt(gt)\n",
    "gt.shape"
   ]
  },
  {
   "cell_type": "code",
   "execution_count": 115,
   "metadata": {
    "collapsed": true
   },
   "outputs": [],
   "source": [
    "ION_t_g=rho_KE(ION_t)"
   ]
  },
  {
   "cell_type": "code",
   "execution_count": 116,
   "metadata": {},
   "outputs": [
    {
     "data": {
      "image/png": "[encoded data removed]",
      "text/plain": [
       "<matplotlib.figure.Figure at 0x11f754ba8>"
      ]
     },
     "metadata": {},
     "output_type": "display_data"
    }
   ],
   "source": [
    "p1=plt.scatter(gt,ION_t_g,marker='o',s=2)\n",
    "p2=plt.scatter(g2,ION_22_g,marker='*',s=10)\n",
    "\n",
    "plt.xlim(0,15)\n",
    "plt.xlabel('g (a.u.)')\n",
    "plt.ylabel('Source of PseudoPotential (g) (a.u.) ')\n",
    "plt.savefig('fig/Al_2PP_Source.eps')"
   ]
  },
  {
   "cell_type": "markdown",
   "metadata": {
    "collapsed": true
   },
   "source": [
    "##  PAW local peusopotential"
   ]
  },
  {
   "cell_type": "code",
   "execution_count": 117,
   "metadata": {
    "collapsed": true
   },
   "outputs": [],
   "source": [
    "ION_t=PP('/Users/wenhui/Research/Rutgers/ATLAS_MI/Benchmarks/do/Al/SC/test2/vloc.pp').read()\n",
    "ION_t=ION_t.field/2.0"
   ]
  },
  {
   "cell_type": "code",
   "execution_count": 118,
   "metadata": {},
   "outputs": [
    {
     "data": {
      "text/plain": [
       "(36, 36, 36, 1)"
      ]
     },
     "execution_count": 118,
     "metadata": {},
     "output_type": "execute_result"
    }
   ],
   "source": [
    "gt=ION_t.grid.get_reciprocal().gg\n",
    "gt=np.sqrt(gt)\n",
    "gt.shape"
   ]
  },
  {
   "cell_type": "code",
   "execution_count": 119,
   "metadata": {
    "collapsed": true
   },
   "outputs": [],
   "source": [
    "ION_t_g=rho_KE(ION_t)"
   ]
  },
  {
   "cell_type": "code",
   "execution_count": 120,
   "metadata": {},
   "outputs": [
    {
     "data": {
      "image/png": "[encoded data removed]",
      "text/plain": [
       "<matplotlib.figure.Figure at 0x11e267860>"
      ]
     },
     "metadata": {},
     "output_type": "display_data"
    }
   ],
   "source": [
    "p1=plt.scatter(gt,ION_t_g,marker='o',s=2)\n",
    "p2=plt.scatter(g2,ION_22_g,marker='*',s=10)\n",
    "plt.legend((p1,p2),('PAW','OEPP'))\n",
    "plt.xlim(0,15)\n",
    "plt.xlabel('g (a.u.)')\n",
    "plt.ylabel('Source of PseudoPotential (g) (a.u.) ')\n",
    "plt.savefig('fig/Al_PAW_Source.eps')"
   ]
  },
  {
   "cell_type": "code",
   "execution_count": 107,
   "metadata": {},
   "outputs": [
    {
     "data": {
      "text/plain": [
       "4.78539000031365"
      ]
     },
     "execution_count": 107,
     "metadata": {},
     "output_type": "execute_result"
    }
   ],
   "source": [
    "2.87123400018819*5/3"
   ]
  },
  {
   "cell_type": "code",
   "execution_count": 108,
   "metadata": {},
   "outputs": [
    {
     "data": {
      "text/plain": [
       "0.20896938388186892"
      ]
     },
     "execution_count": 108,
     "metadata": {},
     "output_type": "execute_result"
    }
   ],
   "source": [
    "1/4.78539000031365\n",
    "\n"
   ]
  },
  {
   "cell_type": "code",
   "execution_count": 111,
   "metadata": {},
   "outputs": [
    {
     "data": {
      "text/plain": [
       "7.2232428493079714"
      ]
     },
     "execution_count": 111,
     "metadata": {},
     "output_type": "execute_result"
    }
   ],
   "source": [
    "0.265449339552348*27.21138"
   ]
  },
  {
   "cell_type": "code",
   "execution_count": null,
   "metadata": {
    "collapsed": true
   },
   "outputs": [],
   "source": []
  }
 ],
 "metadata": {
  "kernelspec": {
   "display_name": "Python 3",
   "language": "python",
   "name": "python3"
  },
  "language_info": {
   "codemirror_mode": {
    "name": "ipython",
    "version": 3
   },
   "file_extension": ".py",
   "mimetype": "text/x-python",
   "name": "python",
   "nbconvert_exporter": "python",
   "pygments_lexer": "ipython3",
   "version": "3.6.1"
  },
  "toc": {
   "nav_menu": {},
   "number_sections": true,
   "sideBar": true,
   "skip_h1_title": false,
   "toc_cell": false,
   "toc_position": {},
   "toc_section_display": "block",
   "toc_window_display": false
  },
  "varInspector": {
   "cols": {
    "lenName": 16,
    "lenType": 16,
    "lenVar": 40
   },
   "kernels_config": {
    "python": {
     "delete_cmd_postfix": "",
     "delete_cmd_prefix": "del ",
     "library": "var_list.py",
     "varRefreshCmd": "print(var_dic_list())"
    },
    "r": {
     "delete_cmd_postfix": ") ",
     "delete_cmd_prefix": "rm(",
     "library": "var_list.r",
     "varRefreshCmd": "cat(var_dic_list()) "
    }
   },
   "types_to_exclude": [
    "module",
    "function",
    "builtin_function_or_method",
    "instance",
    "_Feature"
   ],
   "window_display": false
  }
 },
 "nbformat": 4,
 "nbformat_minor": 2
}
