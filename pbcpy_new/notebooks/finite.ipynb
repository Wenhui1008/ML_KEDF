{
 "cells": [
  {
   "cell_type": "code",
   "execution_count": 2,
   "metadata": {
    "collapsed": true
   },
   "outputs": [],
   "source": [
    "import numpy as np\n",
    "import scipy.special as sp\n",
    "import matplotlib.pyplot as plt"
   ]
  },
  {
   "cell_type": "code",
   "execution_count": 3,
   "metadata": {
    "collapsed": true
   },
   "outputs": [],
   "source": [
    "import sys\n",
    "if \"../src/\" not in sys.path:\n",
    "    sys.path.insert(0,\"../src/\")\n",
    "from pbcpy.grid import DirectGrid, ReciprocalGrid\n",
    "from pbcpy.field import DirectField, ReciprocalField\n",
    "from pbcpy.functionals import *\n",
    "from pbcpy.local_functionals_utils import x_TF_y_vW \n",
    "from pbcpy.nonlocal_functionals_utils import LindhardFunction, MGP_kernel, WT_kernel,MGP_kernel_E1\n",
    "from pbcpy.formats.qepp import PP\n",
    "from pbcpy.formats.xsf import XSF\n",
    "\n",
    "%matplotlib inline\n",
    "%load_ext autoreload\n",
    "%autoreload 2\n",
    "#"
   ]
  },
  {
   "cell_type": "code",
   "execution_count": 4,
   "metadata": {
    "collapsed": true
   },
   "outputs": [],
   "source": [
    "KS =PP(filepp='/Users/wenhui/Research/Rutgers/ATLAS_MI/Benchmarks/do/Big_data/Mg_cluster/Density/Mg_KS.pp').read()"
   ]
  },
  {
   "cell_type": "code",
   "execution_count": 5,
   "metadata": {},
   "outputs": [],
   "source": [
    "MGP_KE =PP(filepp='/Users/wenhui/Research/Rutgers/ATLAS_MI/Benchmarks/do/Big_data/Mg_cluster/Density/LDA_rho.pp').read()"
   ]
  },
  {
   "cell_type": "code",
   "execution_count": 6,
   "metadata": {
    "collapsed": true
   },
   "outputs": [],
   "source": [
    "#KS = PP(filepp='/Users/wenhui/Research/Rutgers/ATLAS_MI/Benchmarks/do/Fukui/Mg/Density_35/Mg_KS_0.pp').read()"
   ]
  },
  {
   "cell_type": "code",
   "execution_count": 7,
   "metadata": {
    "collapsed": true
   },
   "outputs": [],
   "source": [
    "#MGP0=PP(filepp='/Users/wenhui/Research/Rutgers/ATLAS_MI/Benchmarks/do/Fukui/Mg/Density_35/density_MGP_0.pp').read()"
   ]
  },
  {
   "cell_type": "code",
   "execution_count": 8,
   "metadata": {
    "collapsed": true
   },
   "outputs": [],
   "source": [
    "#LM0= PP(filepp='/Users/wenhui/Research/Rutgers/ATLAS_MI/Benchmarks/do/Fukui/Mg/Density_35/LDA_rho.pp').read()"
   ]
  },
  {
   "cell_type": "code",
   "execution_count": 9,
   "metadata": {
    "collapsed": true
   },
   "outputs": [],
   "source": [
    "KS=KS.field\n",
    "#MGP0=MGP0.field\n",
    "#LM0=LM0.field\n",
    "MGP_KE=MGP_KE.field"
   ]
  },
  {
   "cell_type": "code",
   "execution_count": 18,
   "metadata": {},
   "outputs": [
    {
     "data": {
      "image/png": "[encoded data removed]",
      "text/plain": [
       "<matplotlib.figure.Figure at 0x1235899b0>"
      ]
     },
     "metadata": {},
     "output_type": "display_data"
    }
   ],
   "source": [
    "plt.scatter(KS,KS,s=5,label='KS')\n",
    "#plt.scatter(KS,MGP0,marker='v')\n",
    "#plt.scatter(KS,LM0,marker='*')\n",
    "plt.scatter(KS,MGP_KE,marker='*',s=5,label='MGP')\n",
    "plt.xlabel('KS Density')\n",
    "plt.ylabel('Density')\n",
    "plt.show()"
   ]
  },
  {
   "cell_type": "code",
   "execution_count": 11,
   "metadata": {
    "collapsed": true
   },
   "outputs": [],
   "source": [
    "KS=PP(filepp=\"/Users/wenhui/Research/Rutgers/ATLAS_MI/Benchmarks/do/Fukui/Si/Density/KS.pp\").read()\n",
    "KS=KS.field"
   ]
  },
  {
   "cell_type": "code",
   "execution_count": 12,
   "metadata": {
    "collapsed": true
   },
   "outputs": [],
   "source": [
    "HC=PP(filepp=\"/Users/wenhui/Research/Rutgers/ATLAS_MI/Benchmarks/do/Fukui/Si/Density/HC.pp\").read()\n",
    "HC=HC.field"
   ]
  },
  {
   "cell_type": "code",
   "execution_count": 13,
   "metadata": {
    "collapsed": true
   },
   "outputs": [],
   "source": [
    "MGP0=PP(filepp=\"/Users/wenhui/Research/Rutgers/ATLAS_MI/Benchmarks/do/Fukui/Si/Density/MGP.pp\").read()\n",
    "MGP0=MGP0.field"
   ]
  },
  {
   "cell_type": "code",
   "execution_count": 16,
   "metadata": {},
   "outputs": [
    {
     "data": {
      "image/png": "[encoded data removed]",
      "text/plain": [
       "<matplotlib.figure.Figure at 0x15a982198>"
      ]
     },
     "metadata": {},
     "output_type": "display_data"
    }
   ],
   "source": [
    "plt.scatter(KS,KS)\n",
    "plt.scatter(KS,HC,marker='v')\n",
    "plt.scatter(KS,MGP0,marker='*')\n",
    "plt.show()"
   ]
  },
  {
   "cell_type": "code",
   "execution_count": 8,
   "metadata": {
    "collapsed": true
   },
   "outputs": [],
   "source": [
    "density_real_space = mol.field"
   ]
  },
  {
   "cell_type": "markdown",
   "metadata": {},
   "source": [
    "# Local and Semilocal Functionals energy and potential"
   ]
  },
  {
   "cell_type": "code",
   "execution_count": 9,
   "metadata": {
    "collapsed": true
   },
   "outputs": [],
   "source": [
    "TFvW = x_TF_y_vW(density_real_space,x=1,y=1,Sigma=0.05)"
   ]
  },
  {
   "cell_type": "markdown",
   "metadata": {},
   "source": [
    "# Nonlocal Functionals energy and potential"
   ]
  },
  {
   "cell_type": "code",
   "execution_count": 10,
   "metadata": {},
   "outputs": [
    {
     "name": "stdout",
     "output_type": "stream",
     "text": [
      "0.0268476949077\n"
     ]
    }
   ],
   "source": [
    "rho0=density_real_space.integral() / density_real_space.grid.volume\n",
    "print(rho0)"
   ]
  },
  {
   "cell_type": "code",
   "execution_count": 11,
   "metadata": {},
   "outputs": [
    {
     "name": "stdout",
     "output_type": "stream",
     "text": [
      "0.0268476949077\n"
     ]
    }
   ],
   "source": [
    "rho0=np.real(density_real_space.fft()[0,0,0,0] / density_real_space.grid.volume)\n",
    "print(rho0)"
   ]
  },
  {
   "cell_type": "code",
   "execution_count": 19,
   "metadata": {
    "collapsed": true
   },
   "outputs": [],
   "source": [
    "rho0=0.02\n",
    "rho0_test=0.02"
   ]
  },
  {
   "cell_type": "code",
   "execution_count": 25,
   "metadata": {},
   "outputs": [
    {
     "data": {
      "image/png": "[encoded data removed]",
      "text/plain": [
       "<matplotlib.figure.Figure at 0x10e4e96a0>"
      ]
     },
     "metadata": {},
     "output_type": "display_data"
    }
   ],
   "source": [
    "#\n",
    "# Cute-looking kernels\n",
    "#\n",
    "q=np.linspace(0,8,1000)\n",
    "mgp0 = MGP_kernel(q,0.02,0.0,0.0,500)\n",
    "mgp03 = MGP_kernel(q,0.02,0.3,0.3,500)\n",
    "mgp35 = MGP_kernel(q,0.02,0.35,0.35,500)\n",
    "mgp01_002=MGP_kernel(q,0.02,0.1,0.1,500)\n",
    "mgp01_001=MGP_kernel(q,0.01,0.1,0.1,500)\n",
    "mgp001_002=MGP_kernel(q,0.02,0.01,0.01,500)\n",
    "mgpe001_002=MGP_kernel_E1(q,0.02,0.01,0.01,500)\n",
    "mgpe003_002=MGP_kernel_E1(q,0.02,0.03,0.03,500)\n",
    "mgpE03_002=MGP_kernel_E1(q,0.02,1.0,3,500)\n",
    "\n",
    "\n",
    "wtker = WT_kernel(q,rho0)\n",
    "eta = q/(2.0 * (3.0 * rho0 * np.pi**2)**(1.0/3.0))\n",
    "WT=WT_kernel(q,rho0)\n",
    "\n",
    "plt.plot(eta,wtker,color='blue',label='WT',linestyle='-')\n",
    "plt.plot(eta,mgp0,label='MGP0',color='black',linestyle=':')\n",
    "plt.plot(eta,mgp03,label='MGP03',color='red',linestyle='-.')\n",
    "plt.plot(eta,mgp35,label='MGP35',color='green',linestyle='-')\n",
    "plt.plot(eta,mgp01_002,label='MGP01_002',color='m',linestyle='--')\n",
    "plt.plot(eta,mgp01_001,label='MGP01_001',color='k',linestyle='-')\n",
    "plt.plot(eta,mgp001_002,label='MGP001_002',color='c',linestyle='-.')\n",
    "plt.plot(eta,mgpe001_002,label='MGPE001_002',color='c',linestyle='--')\n",
    "plt.plot(eta,mgpe003_002,label='MGPE003_002',color='m',linestyle='-')\n",
    "plt.plot(eta,mgpE03_002,label='MGPE3_002',color='m',linestyle='-.')\n",
    "\n",
    "\n",
    "\n",
    "plt.xlim(0,3)\n",
    "plt.ylim(-8,6)\n",
    "plt.xlabel('$\\eta=q/2k_{F}$')\n",
    "plt.ylabel('$\\omega(\\eta)$')\n",
    "plt.legend()\n",
    "plt.savefig(\"./kernels_comparison.eps\")\n",
    "plt.show()"
   ]
  },
  {
   "cell_type": "code",
   "execution_count": 9,
   "metadata": {
    "collapsed": true
   },
   "outputs": [],
   "source": [
    "q = np.sqrt(density_real_space.grid.get_reciprocal().gg)"
   ]
  },
  {
   "cell_type": "code",
   "execution_count": 10,
   "metadata": {
    "collapsed": true
   },
   "outputs": [],
   "source": [
    "wtker = WT_kernel(q,rho0)"
   ]
  },
  {
   "cell_type": "code",
   "execution_count": 11,
   "metadata": {
    "collapsed": true
   },
   "outputs": [],
   "source": [
    "#WTdens = dens_real_space.energy_density(kernel=wtker,a=(5.0/6.0),b=(5.0/6.0),c=1.0)\n",
    "rhofs = density_real_space**(5.0/6.0)\n",
    "rhofs_g = rhofs.fft()\n",
    "rhofs_kernel = WT_kernel(q,rho0)*rhofs_g\n"
   ]
  },
  {
   "cell_type": "code",
   "execution_count": 12,
   "metadata": {
    "collapsed": true
   },
   "outputs": [],
   "source": [
    "WT_edens = rhofs_kernel.ifft(force_real=True)*rhofs "
   ]
  },
  {
   "cell_type": "code",
   "execution_count": 25,
   "metadata": {},
   "outputs": [
    {
     "data": {
      "text/plain": [
       "dtype('float64')"
      ]
     },
     "execution_count": 25,
     "metadata": {},
     "output_type": "execute_result"
    }
   ],
   "source": [
    "a.dtype"
   ]
  },
  {
   "cell_type": "code",
   "execution_count": 13,
   "metadata": {},
   "outputs": [
    {
     "data": {
      "image/png": "[encoded data removed]",
      "text/plain": [
       "<matplotlib.figure.Figure at 0x10ffced68>"
      ]
     },
     "metadata": {},
     "output_type": "display_data"
    }
   ],
   "source": [
    "plt.plot(WT_edens[:,0,0,0])\n",
    "plt.show()"
   ]
  },
  {
   "cell_type": "code",
   "execution_count": 14,
   "metadata": {
    "collapsed": true
   },
   "outputs": [],
   "source": [
    "rhoos = density_real_space**(-1.0/6.0)"
   ]
  },
  {
   "cell_type": "code",
   "execution_count": 15,
   "metadata": {
    "collapsed": true
   },
   "outputs": [],
   "source": [
    "WT_pot = (5.0/6.0)*2.0* rhoos * rhofs_kernel.ifft(force_real=True)"
   ]
  },
  {
   "cell_type": "code",
   "execution_count": 16,
   "metadata": {},
   "outputs": [
    {
     "data": {
      "image/png": "[encoded data removed]",
      "text/plain": [
       "<matplotlib.figure.Figure at 0x10a8154e0>"
      ]
     },
     "metadata": {},
     "output_type": "display_data"
    }
   ],
   "source": [
    "plt.plot(WT_pot[:,0,0,0])\n",
    "plt.show()"
   ]
  },
  {
   "cell_type": "code",
   "execution_count": 17,
   "metadata": {
    "collapsed": true
   },
   "outputs": [],
   "source": [
    "WT_NL_Functional = Functional( energydensity=WT_edens, potential=WT_pot,kernel=WT_kernel(q,rho0))"
   ]
  },
  {
   "cell_type": "code",
   "execution_count": 18,
   "metadata": {
    "collapsed": true
   },
   "outputs": [],
   "source": [
    "WT = WT_NL_Functional.sum(x_TF_y_vW(x=1.0,y=1.0,rho=density_real_space,Sigma=0.15))"
   ]
  },
  {
   "cell_type": "code",
   "execution_count": 19,
   "metadata": {},
   "outputs": [
    {
     "data": {
      "image/png": "[encoded data removed]",
      "text/plain": [
       "<matplotlib.figure.Figure at 0x10da76b38>"
      ]
     },
     "metadata": {},
     "output_type": "display_data"
    }
   ],
   "source": [
    "plt.plot(WT.energydensity[:,0,0,0])\n",
    "plt.plot(WT.potential[:,0,0,0])\n",
    "plt.show()"
   ]
  },
  {
   "cell_type": "code",
   "execution_count": 20,
   "metadata": {},
   "outputs": [
    {
     "data": {
      "text/plain": [
       "79.312187821903379"
      ]
     },
     "execution_count": 20,
     "metadata": {},
     "output_type": "execute_result"
    }
   ],
   "source": [
    "WT.energydensity.integral()*27.211385"
   ]
  },
  {
   "cell_type": "code",
   "execution_count": 21,
   "metadata": {},
   "outputs": [
    {
     "data": {
      "text/plain": [
       "-5.501165471606706"
      ]
     },
     "execution_count": 21,
     "metadata": {},
     "output_type": "execute_result"
    }
   ],
   "source": [
    "WT_NL_Functional.energydensity.integral()*27.211385"
   ]
  },
  {
   "cell_type": "code",
   "execution_count": null,
   "metadata": {
    "collapsed": true
   },
   "outputs": [],
   "source": []
  }
 ],
 "metadata": {
  "kernelspec": {
   "display_name": "Python 3",
   "language": "python",
   "name": "python3"
  },
  "language_info": {
   "codemirror_mode": {
    "name": "ipython",
    "version": 3
   },
   "file_extension": ".py",
   "mimetype": "text/x-python",
   "name": "python",
   "nbconvert_exporter": "python",
   "pygments_lexer": "ipython3",
   "version": "3.6.1"
  },
  "toc": {
   "nav_menu": {},
   "number_sections": true,
   "sideBar": true,
   "skip_h1_title": false,
   "toc_cell": false,
   "toc_position": {},
   "toc_section_display": "block",
   "toc_window_display": false
  },
  "varInspector": {
   "cols": {
    "lenName": 16,
    "lenType": 16,
    "lenVar": 40
   },
   "kernels_config": {
    "python": {
     "delete_cmd_postfix": "",
     "delete_cmd_prefix": "del ",
     "library": "var_list.py",
     "varRefreshCmd": "print(var_dic_list())"
    },
    "r": {
     "delete_cmd_postfix": ") ",
     "delete_cmd_prefix": "rm(",
     "library": "var_list.r",
     "varRefreshCmd": "cat(var_dic_list()) "
    }
   },
   "types_to_exclude": [
    "module",
    "function",
    "builtin_function_or_method",
    "instance",
    "_Feature"
   ],
   "window_display": false
  }
 },
 "nbformat": 4,
 "nbformat_minor": 2
}
